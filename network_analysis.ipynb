{
 "cells": [
  {
   "cell_type": "code",
   "execution_count": 170,
   "metadata": {},
   "outputs": [],
   "source": [
    "from collections import defaultdict\n",
    "\n",
    "import numpy as np\n",
    "import pandas as pd\n",
    "import matplotlib.pyplot as plt\n",
    "import itertools\n",
    "\n",
    "from tqdm import tqdm"
   ]
  },
  {
   "cell_type": "code",
   "execution_count": 171,
   "metadata": {},
   "outputs": [],
   "source": [
    "rec = pd.read_excel(\"data/1832_v4.xlsx\", index_col=0)\n",
    "rec = rec[[\n",
    "    \"nom_rue_norm_2\",\n",
    "    \"no_maison\",\n",
    "    \"proprietaire_nom_norm_2\",\n",
    "    \"chef_prenom_norm\",\n",
    "    \"chef_nom_norm_2\",\n",
    "    \"chef_annee_naissance\",\n",
    "    \"epouse_nom_norm\",\n",
    "    \"epouse_annee_naissance\",\n",
    "    \"enfants_dans_la_commune_prenom_norm\",\n",
    "    \"enfants_annee_naissance\",\n",
    "    \"chef_origine_norm_2\",\n",
    "    \"chef_annee_arrivee\",\n",
    "    \"chef_vocation_norm_2\",\n",
    "    \"pensionnaires_prenom_norm\",\n",
    "    \"pensionnaires_nom_norm\",\n",
    "    \"pensionnaires_origine_norm\",\n",
    "    \"Page\"\n",
    "]]\n",
    "rec = rec.rename(columns={\n",
    "    \"nom_rue_norm_2\": \"nom_rue\",\n",
    "    \"proprietaire_nom_norm_2\": \"proprietaire_nom\",\n",
    "    \"chef_prenom_norm\": \"chef_prenom\",\n",
    "    \"chef_nom_norm_2\": \"chef_nom\",\n",
    "    \"epouse_nom_norm\": \"epouse_nom\",\n",
    "    \"enfants_dans_la_commune_prenom_norm\": \"enfants_dans_la_commune_prenom\",\n",
    "    \"chef_origine_norm_2\": \"chef_origine\",\n",
    "    \"chef_vocation_norm_2\": \"chef_vocation\",\n",
    "    \"pensionnaires_prenom_norm\": \"pensionnaires_prenom\",\n",
    "    \"pensionnaires_nom_norm\": \"pensionnaires_nom\",\n",
    "    \"pensionnaires_origine_norm\": \"pensionnaires_origine\",\n",
    "    \"Page\" : \"page\"\n",
    "})"
   ]
  },
  {
   "cell_type": "code",
   "execution_count": 172,
   "metadata": {},
   "outputs": [
    {
     "data": {
      "text/html": [
       "<div>\n",
       "<style scoped>\n",
       "    .dataframe tbody tr th:only-of-type {\n",
       "        vertical-align: middle;\n",
       "    }\n",
       "\n",
       "    .dataframe tbody tr th {\n",
       "        vertical-align: top;\n",
       "    }\n",
       "\n",
       "    .dataframe thead th {\n",
       "        text-align: right;\n",
       "    }\n",
       "</style>\n",
       "<table border=\"1\" class=\"dataframe\">\n",
       "  <thead>\n",
       "    <tr style=\"text-align: right;\">\n",
       "      <th></th>\n",
       "      <th>nom_rue</th>\n",
       "      <th>no_maison</th>\n",
       "      <th>proprietaire_nom</th>\n",
       "      <th>chef_prenom</th>\n",
       "      <th>chef_nom</th>\n",
       "      <th>chef_annee_naissance</th>\n",
       "      <th>epouse_nom</th>\n",
       "      <th>epouse_annee_naissance</th>\n",
       "      <th>enfants_dans_la_commune_prenom</th>\n",
       "      <th>enfants_annee_naissance</th>\n",
       "      <th>chef_origine</th>\n",
       "      <th>chef_annee_arrivee</th>\n",
       "      <th>chef_vocation</th>\n",
       "      <th>pensionnaires_prenom</th>\n",
       "      <th>pensionnaires_nom</th>\n",
       "      <th>pensionnaires_origine</th>\n",
       "      <th>page</th>\n",
       "    </tr>\n",
       "  </thead>\n",
       "  <tbody>\n",
       "    <tr>\n",
       "      <th>1</th>\n",
       "      <td>marterey</td>\n",
       "      <td>1</td>\n",
       "      <td>weidmann</td>\n",
       "      <td>georges henri</td>\n",
       "      <td>weidmann</td>\n",
       "      <td>1764</td>\n",
       "      <td>·</td>\n",
       "      <td>·</td>\n",
       "      <td>·</td>\n",
       "      <td>·</td>\n",
       "      <td>tolochenaz</td>\n",
       "      <td>1786</td>\n",
       "      <td>charon</td>\n",
       "      <td>louise|anna|francois|jn adam</td>\n",
       "      <td>weidmann|la maurer|kirsner|reverber</td>\n",
       "      <td>tolochenaz|frutigen|cirol|bavarois</td>\n",
       "      <td>1</td>\n",
       "    </tr>\n",
       "    <tr>\n",
       "      <th>2</th>\n",
       "      <td>marterey</td>\n",
       "      <td>2</td>\n",
       "      <td>collioud</td>\n",
       "      <td>louis</td>\n",
       "      <td>collioud</td>\n",
       "      <td>17936</td>\n",
       "      <td>blanchoud</td>\n",
       "      <td>1800</td>\n",
       "      <td>marie|henri|charles</td>\n",
       "      <td>1822|1823|1825</td>\n",
       "      <td>rolle</td>\n",
       "      <td>1821</td>\n",
       "      <td>marechal-ferrant</td>\n",
       "      <td>louis|marc</td>\n",
       "      <td>henny|bourgeois</td>\n",
       "      <td>montherod|rolle</td>\n",
       "      <td>1</td>\n",
       "    </tr>\n",
       "    <tr>\n",
       "      <th>3</th>\n",
       "      <td>marterey</td>\n",
       "      <td>3</td>\n",
       "      <td>fiaux</td>\n",
       "      <td>louise</td>\n",
       "      <td>piot</td>\n",
       "      <td>1785</td>\n",
       "      <td>neissance</td>\n",
       "      <td>·</td>\n",
       "      <td>benjamin</td>\n",
       "      <td>1815</td>\n",
       "      <td>pailly</td>\n",
       "      <td>nee</td>\n",
       "      <td>lingere</td>\n",
       "      <td>·</td>\n",
       "      <td>·</td>\n",
       "      <td>·</td>\n",
       "      <td>1</td>\n",
       "    </tr>\n",
       "    <tr>\n",
       "      <th>4</th>\n",
       "      <td>marterey</td>\n",
       "      <td>·</td>\n",
       "      <td>fiaux</td>\n",
       "      <td>monsieur</td>\n",
       "      <td>de gingins</td>\n",
       "      <td>·</td>\n",
       "      <td>seigneux</td>\n",
       "      <td>·</td>\n",
       "      <td>·</td>\n",
       "      <td>·</td>\n",
       "      <td>gingins</td>\n",
       "      <td>·</td>\n",
       "      <td>rentier</td>\n",
       "      <td>louise|marianne|louis</td>\n",
       "      <td>oswald|thelin|vannod</td>\n",
       "      <td>thoune|mex|orny</td>\n",
       "      <td>1</td>\n",
       "    </tr>\n",
       "    <tr>\n",
       "      <th>5</th>\n",
       "      <td>marterey</td>\n",
       "      <td>·</td>\n",
       "      <td>fiaux</td>\n",
       "      <td>louis vincent</td>\n",
       "      <td>lavanchy</td>\n",
       "      <td>1802</td>\n",
       "      <td>baudet</td>\n",
       "      <td>1805</td>\n",
       "      <td>·</td>\n",
       "      <td>·</td>\n",
       "      <td>lutry</td>\n",
       "      <td>ne</td>\n",
       "      <td>garcon voiturier</td>\n",
       "      <td>·</td>\n",
       "      <td>·</td>\n",
       "      <td>·</td>\n",
       "      <td>1</td>\n",
       "    </tr>\n",
       "  </tbody>\n",
       "</table>\n",
       "</div>"
      ],
      "text/plain": [
       "    nom_rue no_maison proprietaire_nom    chef_prenom    chef_nom  \\\n",
       "1  marterey         1         weidmann  georges henri    weidmann   \n",
       "2  marterey         2         collioud          louis    collioud   \n",
       "3  marterey         3            fiaux         louise        piot   \n",
       "4  marterey         ·            fiaux       monsieur  de gingins   \n",
       "5  marterey         ·            fiaux  louis vincent    lavanchy   \n",
       "\n",
       "  chef_annee_naissance epouse_nom epouse_annee_naissance  \\\n",
       "1                 1764          ·                      ·   \n",
       "2                17936  blanchoud                   1800   \n",
       "3                 1785  neissance                      ·   \n",
       "4                    ·   seigneux                      ·   \n",
       "5                 1802     baudet                   1805   \n",
       "\n",
       "  enfants_dans_la_commune_prenom enfants_annee_naissance chef_origine  \\\n",
       "1                              ·                       ·   tolochenaz   \n",
       "2            marie|henri|charles          1822|1823|1825        rolle   \n",
       "3                       benjamin                    1815       pailly   \n",
       "4                              ·                       ·      gingins   \n",
       "5                              ·                       ·        lutry   \n",
       "\n",
       "  chef_annee_arrivee     chef_vocation          pensionnaires_prenom  \\\n",
       "1               1786            charon  louise|anna|francois|jn adam   \n",
       "2               1821  marechal-ferrant                    louis|marc   \n",
       "3                nee           lingere                             ·   \n",
       "4                  ·           rentier         louise|marianne|louis   \n",
       "5                 ne  garcon voiturier                             ·   \n",
       "\n",
       "                     pensionnaires_nom               pensionnaires_origine  \\\n",
       "1  weidmann|la maurer|kirsner|reverber  tolochenaz|frutigen|cirol|bavarois   \n",
       "2                      henny|bourgeois                     montherod|rolle   \n",
       "3                                    ·                                   ·   \n",
       "4                 oswald|thelin|vannod                     thoune|mex|orny   \n",
       "5                                    ·                                   ·   \n",
       "\n",
       "   page  \n",
       "1     1  \n",
       "2     1  \n",
       "3     1  \n",
       "4     1  \n",
       "5     1  "
      ]
     },
     "execution_count": 172,
     "metadata": {},
     "output_type": "execute_result"
    }
   ],
   "source": [
    "rec.head()"
   ]
  },
  {
   "cell_type": "code",
   "execution_count": 173,
   "metadata": {},
   "outputs": [
    {
     "data": {
      "text/plain": [
       "nom_rue                           object\n",
       "no_maison                         object\n",
       "proprietaire_nom                  object\n",
       "chef_prenom                       object\n",
       "chef_nom                          object\n",
       "chef_annee_naissance              object\n",
       "epouse_nom                        object\n",
       "epouse_annee_naissance            object\n",
       "enfants_dans_la_commune_prenom    object\n",
       "enfants_annee_naissance           object\n",
       "chef_origine                      object\n",
       "chef_annee_arrivee                object\n",
       "chef_vocation                     object\n",
       "pensionnaires_prenom              object\n",
       "pensionnaires_nom                 object\n",
       "pensionnaires_origine             object\n",
       "page                               int64\n",
       "dtype: object"
      ]
     },
     "execution_count": 173,
     "metadata": {},
     "output_type": "execute_result"
    }
   ],
   "source": [
    "rec.dtypes"
   ]
  },
  {
   "cell_type": "code",
   "execution_count": 174,
   "metadata": {},
   "outputs": [
    {
     "data": {
      "text/plain": [
       "3674"
      ]
     },
     "execution_count": 174,
     "metadata": {},
     "output_type": "execute_result"
    }
   ],
   "source": [
    "len(rec)"
   ]
  },
  {
   "attachments": {},
   "cell_type": "markdown",
   "metadata": {},
   "source": [
    "## Matching house nodes by the chief's vocation\n",
    "\n",
    "In this section, every node represents a house, and the edges represent whether chiefs' vocation of the two houses are the same. The graph is unweighted and undirected."
   ]
  },
  {
   "attachments": {},
   "cell_type": "markdown",
   "metadata": {},
   "source": [
    "### Get the current data's proximity index"
   ]
  },
  {
   "cell_type": "code",
   "execution_count": 90,
   "metadata": {},
   "outputs": [],
   "source": [
    "def get_matching_records(rec, on_column):\n",
    "    \"\"\"\n",
    "    Args:\n",
    "        rec (pd.DataFrame): population records\n",
    "        on_column (str): column to group by\n",
    "    Returns:\n",
    "        pd.DataFrame: dataframe with matching records' ids\n",
    "    \"\"\"\n",
    "    matching = pd.DataFrame(columns=[\"id_1\", \"id_2\"])\n",
    "\n",
    "    # Group the rows by chef_vocation\n",
    "    groups = rec.groupby(on_column)\n",
    "\n",
    "    # Compare each group to itself using merge\n",
    "    for _, group in groups:\n",
    "        pairs = itertools.combinations(group.index, 2)\n",
    "        matching = pd.concat([matching, pd.DataFrame(pairs, columns=[\"id_1\", \"id_2\"])])\n",
    "\n",
    "    return matching"
   ]
  },
  {
   "cell_type": "code",
   "execution_count": 94,
   "metadata": {},
   "outputs": [],
   "source": [
    "def merge_matching_records(rec, matching, on_column):\n",
    "    \"\"\"\n",
    "    Args:\n",
    "        rec (pd.DataFrame): population records\n",
    "        matching (pd.DataFrame): dataframe with matching records' ids\n",
    "        on_column (str): column to group by\n",
    "    Returns:\n",
    "        pd.DataFrame: dataframe with matching records' ids and data\n",
    "    \"\"\"\n",
    "    new_matching_data = matching.copy()\n",
    "    new_matching_data = new_matching_data \\\n",
    "        .merge(rec, left_on=\"id_1\", right_index=True) \\\n",
    "        .merge(rec, left_on=\"id_2\", right_index=True, suffixes=(\"_1\", \"_2\"))\n",
    "\n",
    "    # check is list\n",
    "    if isinstance(on_column, list):\n",
    "        new_matching_data = new_matching_data[\n",
    "            [\"nom_rue_1\", \"nom_rue_2\"] + [on_col + \"_1\" for on_col in on_column]\n",
    "        ].rename(columns={\n",
    "            on_col + \"_1\": on_col for on_col in on_column\n",
    "        })\n",
    "    else:\n",
    "        new_matching_data = new_matching_data[[\n",
    "            \"nom_rue_1\",\n",
    "            \"nom_rue_2\",\n",
    "            on_column + \"_1\",\n",
    "        ]].rename(columns={\n",
    "            on_column + \"_1\": on_column,\n",
    "        })\n",
    "\n",
    "    return new_matching_data"
   ]
  },
  {
   "cell_type": "code",
   "execution_count": 104,
   "metadata": {},
   "outputs": [],
   "source": [
    "def clean_matching_data(matching_data, on_column, min_cluster_size_thd=10, invalid_values=[\"?\", \"·\", \"ne\", \"nee\"]):\n",
    "    \"\"\"\n",
    "    Args:\n",
    "        matching_data (pd.DataFrame): dataframe with matching records' ids and data\n",
    "        on_column (str): column to group by\n",
    "        min_cluster_size_thd (int): minimum cluster size threshold\n",
    "        invalid_chief_vocations (list): invalid chief vocations\n",
    "    Returns:\n",
    "        pd.DataFrame: dataframe with matching records' ids and data after cleaning\n",
    "    \"\"\"\n",
    "    new_matching_data = matching_data.copy()\n",
    "    if isinstance(on_column, list):\n",
    "        for on_col in on_column:\n",
    "            new_matching_data = new_matching_data[~new_matching_data[on_col].isin(invalid_values)]\n",
    "    else:\n",
    "        new_matching_data = new_matching_data[~new_matching_data[on_column].isin(invalid_values)]\n",
    "    new_matching_data = new_matching_data.groupby(on_column).filter(lambda x: len(x) >= min_cluster_size_thd)\n",
    "\n",
    "    return new_matching_data"
   ]
  },
  {
   "cell_type": "code",
   "execution_count": 61,
   "metadata": {},
   "outputs": [],
   "source": [
    "def get_proximity_index(matching_data, on_column):\n",
    "    \"\"\"\n",
    "    Args:\n",
    "        matching_data (pd.DataFrame): dataframe with matching records' ids and data\n",
    "        on_column (str): column to group by\n",
    "    Returns:\n",
    "        float: proximity index\n",
    "    \"\"\"\n",
    "    new_matching_data = matching_data.copy()\n",
    "    # get whether the two records are on the same road\n",
    "    new_matching_data[\"same_road\"] = new_matching_data[\"nom_rue_1\"] == new_matching_data[\"nom_rue_2\"]\n",
    "\n",
    "    # get the proximity index for each chief vocation\n",
    "    proximity_indexes = defaultdict(float)\n",
    "    for chief_vocation, group in new_matching_data.groupby(on_column):\n",
    "        for _, row in group.iterrows():\n",
    "            proximity_indexes[chief_vocation] += 1 if row[\"same_road\"] else 0\n",
    "\n",
    "        proximity_indexes[chief_vocation] /= len(group)\n",
    "\n",
    "    # build a new dataframe with important information about each cluster\n",
    "    # get proximity indexes\n",
    "    clusters = pd.DataFrame.from_dict(proximity_indexes, orient=\"index\", columns=[\"proximity_index\"])\n",
    "    clusters = clusters.sort_values(by=\"proximity_index\", ascending=False)\n",
    "\n",
    "    # get number of edges\n",
    "    clusters['num_edges'] = 0\n",
    "    for chief_vocation, group in new_matching_data.groupby(on_column):\n",
    "        clusters.loc[chief_vocation, 'num_edges'] = len(group)\n",
    "\n",
    "    # get number of nodes\n",
    "    clusters['num_nodes'] = (1 + np.sqrt(1 + 8 * clusters['num_edges'])) / 2 # quadratic formula\n",
    "    clusters['num_nodes'] = clusters['num_nodes'].astype(int)\n",
    "\n",
    "    # average the proximity index by the number of nodes\n",
    "    proximity_index = np.sum(np.array(clusters['proximity_index']) * np.array(clusters['num_nodes'])) / clusters['num_nodes'].sum()\n",
    "\n",
    "    return proximity_index\n"
   ]
  },
  {
   "cell_type": "code",
   "execution_count": 63,
   "metadata": {},
   "outputs": [
    {
     "name": "stdout",
     "output_type": "stream",
     "text": [
      "Proximity index: 0.07506469380301693\n"
     ]
    }
   ],
   "source": [
    "def get_proximity_index_from_rec(rec, on_column):\n",
    "    \"\"\"\n",
    "    Args:\n",
    "        rec (pd.DataFrame): population records\n",
    "        on_column (str): column to group by\n",
    "    Returns:\n",
    "        float: proximity index\n",
    "    \"\"\"\n",
    "    matching = get_matching_records(rec, on_column)\n",
    "    matching_data = merge_matching_records(rec, matching, on_column)\n",
    "    matching_data = clean_matching_data(matching_data, on_column)\n",
    "    proximity_index = get_proximity_index(matching_data, on_column)\n",
    "\n",
    "    return proximity_index\n",
    "\n",
    "proximity_index = get_proximity_index_from_rec(rec, \"chef_vocation\")\n",
    "print(f\"Proximity index: {proximity_index}\")"
   ]
  },
  {
   "attachments": {},
   "cell_type": "markdown",
   "metadata": {},
   "source": [
    "### Get the proximity index on randomly shuffled data"
   ]
  },
  {
   "cell_type": "code",
   "execution_count": 66,
   "metadata": {},
   "outputs": [],
   "source": [
    "def shuffle_chief_vocations(rec, on_column):\n",
    "    \"\"\"\n",
    "    Args:\n",
    "        rec (pd.DataFrame): population records\n",
    "        on_column (str): column to group by\n",
    "    Returns:\n",
    "        pd.DataFrame: population records with shuffled chief vocations\n",
    "    \"\"\"\n",
    "    new_rec = rec.copy()\n",
    "    new_rec[on_column] = new_rec[on_column].sample(frac=1).values\n",
    "\n",
    "    return new_rec"
   ]
  },
  {
   "cell_type": "code",
   "execution_count": 70,
   "metadata": {},
   "outputs": [],
   "source": [
    "def get_random_proximity_index(rec, on_column):\n",
    "    \"\"\"\n",
    "    Args:\n",
    "        rec (pd.DataFrame): population records\n",
    "        on_column (str): column to group by\n",
    "    Returns:\n",
    "        float: proximity index\n",
    "    \"\"\"\n",
    "    rec = shuffle_chief_vocations(rec, on_column) # shuffle the chief vocations to get a new population\n",
    "    proximity_index = get_proximity_index_from_rec(rec, on_column)\n",
    "    \n",
    "    return proximity_index"
   ]
  },
  {
   "cell_type": "code",
   "execution_count": 71,
   "metadata": {},
   "outputs": [],
   "source": [
    "def get_bootstrapped_ci_proximity_index(rec, on_column, n=100, alpha=0.05):\n",
    "    \"\"\"\n",
    "    Args:\n",
    "        rec (pd.DataFrame): population records\n",
    "        n (int): number of bootstrap iterations\n",
    "    Returns:\n",
    "        float: proximity index\n",
    "    \"\"\"\n",
    "    proximity_indexes = []\n",
    "    for _ in tqdm(range(n)):\n",
    "        proximity_indexes.append(get_random_proximity_index(rec, on_column))\n",
    "\n",
    "    # get the confidence interval\n",
    "    proximity_indexes = np.array(proximity_indexes)\n",
    "    lower_bound = np.percentile(proximity_indexes, alpha / 2 * 100)\n",
    "    upper_bound = np.percentile(proximity_indexes, (1 - alpha / 2) * 100)\n",
    "\n",
    "    return lower_bound, upper_bound"
   ]
  },
  {
   "cell_type": "code",
   "execution_count": 52,
   "metadata": {},
   "outputs": [
    {
     "name": "stderr",
     "output_type": "stream",
     "text": [
      "100%|██████████| 100/100 [03:19<00:00,  1.99s/it]"
     ]
    },
    {
     "name": "stdout",
     "output_type": "stream",
     "text": [
      " The 95% confidence interval for the proximity index is [0.03137840435947604, 0.03465384562253532]\n"
     ]
    },
    {
     "name": "stderr",
     "output_type": "stream",
     "text": [
      "\n"
     ]
    }
   ],
   "source": [
    "lower_bound, upper_bound = get_bootstrapped_ci_proximity_index(rec, \"chef_vocation\")\n",
    "print(f\" The 95% confidence interval for the proximity index is [{lower_bound}, {upper_bound}]\")"
   ]
  },
  {
   "attachments": {},
   "cell_type": "markdown",
   "metadata": {},
   "source": [
    "In summary, the proximity index describes how houses with the same chief's vocation tend to be close to each other (in the same road). With a proximity index of $1$, all houses with the same chief's vocation are in the same road. With a proximity index of $0$, all houses with the same chief's vocation are in different roads. The proximity index of our dataset is about $0.075$, whereas a random shuffle of the dataset (still preserving the same prevalence of each vocation) has a confidence interval of $[0.031, 0.034]$.\n",
    "\n",
    "This finding suggests that there is some degree of non-randomness in the distribution of houses with the same chief's vocation. However, it's important to be cautious when interpreting the results of the proximity index. This measure only considers one aspect of the spatial distribution of houses, and it's possible that other factors could be influencing the clustering patterns that are observed. Additionally, the proximity index only considers the distribution of houses with the same chief's vocation, and it's possible that other factors could also be clustering in the same way. Therefore, it's important to consider these potential confounding factors when interpreting the results of the proximity index."
   ]
  },
  {
   "attachments": {},
   "cell_type": "markdown",
   "metadata": {},
   "source": [
    "## Matching house nodes by the chief's origin\n",
    "\n",
    "In this section, every node represents a house, and the edges represent whether chiefs' origin of the two houses are the same. The graph is unweighted and undirected."
   ]
  },
  {
   "attachments": {},
   "cell_type": "markdown",
   "metadata": {},
   "source": [
    "### Get the current data's proximity index"
   ]
  },
  {
   "cell_type": "code",
   "execution_count": 65,
   "metadata": {},
   "outputs": [
    {
     "name": "stdout",
     "output_type": "stream",
     "text": [
      "Proximity index: 0.052897171650312456\n"
     ]
    }
   ],
   "source": [
    "proximity_index = get_proximity_index_from_rec(rec, \"chef_origine\")\n",
    "print(f\"Proximity index: {proximity_index}\")"
   ]
  },
  {
   "attachments": {},
   "cell_type": "markdown",
   "metadata": {},
   "source": [
    "### Get the proximity index on randomly shuffled data"
   ]
  },
  {
   "cell_type": "code",
   "execution_count": 74,
   "metadata": {},
   "outputs": [
    {
     "name": "stderr",
     "output_type": "stream",
     "text": [
      "100%|██████████| 100/100 [10:21<00:00,  6.22s/it]"
     ]
    },
    {
     "name": "stdout",
     "output_type": "stream",
     "text": [
      " The 95% confidence interval for the proximity index is [0.02982299106572898, 0.03457017794819724]\n"
     ]
    },
    {
     "name": "stderr",
     "output_type": "stream",
     "text": [
      "\n"
     ]
    }
   ],
   "source": [
    "lower_bound, upper_bound = get_bootstrapped_ci_proximity_index(rec, \"chef_origine\")\n",
    "print(f\" The 95% confidence interval for the proximity index is [{lower_bound}, {upper_bound}]\")"
   ]
  },
  {
   "attachments": {},
   "cell_type": "markdown",
   "metadata": {},
   "source": [
    "There also is a significant difference when taking into account the chief's origin. This might lead us to believe that people with the same origin tend to live in the same area."
   ]
  },
  {
   "attachments": {},
   "cell_type": "markdown",
   "metadata": {},
   "source": [
    "## Matching house nodes by the chief's year of arrival"
   ]
  },
  {
   "attachments": {},
   "cell_type": "markdown",
   "metadata": {},
   "source": [
    "### Get the current data's proximity index"
   ]
  },
  {
   "cell_type": "code",
   "execution_count": 75,
   "metadata": {},
   "outputs": [
    {
     "name": "stdout",
     "output_type": "stream",
     "text": [
      "Proximity index: 0.06773890872022503\n"
     ]
    }
   ],
   "source": [
    "proximity_index = get_proximity_index_from_rec(rec, \"chef_annee_arrivee\")\n",
    "print(f\"Proximity index: {proximity_index}\")"
   ]
  },
  {
   "attachments": {},
   "cell_type": "markdown",
   "metadata": {},
   "source": [
    "### Get the proximity index on randomly shuffled data"
   ]
  },
  {
   "cell_type": "code",
   "execution_count": 77,
   "metadata": {},
   "outputs": [
    {
     "name": "stderr",
     "output_type": "stream",
     "text": [
      "100%|██████████| 100/100 [15:50<00:00,  9.50s/it]"
     ]
    },
    {
     "name": "stdout",
     "output_type": "stream",
     "text": [
      " The 95% confidence interval for the proximity index is [0.029857567328123336, 0.0363242971366465]\n"
     ]
    },
    {
     "name": "stderr",
     "output_type": "stream",
     "text": [
      "\n"
     ]
    }
   ],
   "source": [
    "lower_bound, upper_bound = get_bootstrapped_ci_proximity_index(rec, \"chef_annee_arrivee\")\n",
    "print(f\" The 95% confidence interval for the proximity index is [{lower_bound}, {upper_bound}]\")"
   ]
  },
  {
   "attachments": {},
   "cell_type": "markdown",
   "metadata": {},
   "source": [
    "The same happens when we consider the year of arrival of the chief. This might lead us to believe that people who arrived at the same year tend to live in the same area. But this might also be due to the fact that Lausanne was expanding, and people were moving to the new areas at about the same time."
   ]
  },
  {
   "attachments": {},
   "cell_type": "markdown",
   "metadata": {},
   "source": [
    "## Matching house nodes by the chief's year of birth"
   ]
  },
  {
   "cell_type": "markdown",
   "metadata": {},
   "source": [
    "### Get the current data's proximity index"
   ]
  },
  {
   "cell_type": "code",
   "execution_count": 85,
   "metadata": {},
   "outputs": [
    {
     "name": "stdout",
     "output_type": "stream",
     "text": [
      "Proximity index: 0.03618268612132012\n"
     ]
    }
   ],
   "source": [
    "proximity_index = get_proximity_index_from_rec(rec, \"chef_annee_naissance\")\n",
    "print(f\"Proximity index: {proximity_index}\")"
   ]
  },
  {
   "cell_type": "markdown",
   "metadata": {},
   "source": [
    "### Get the proximity index on randomly shuffled data"
   ]
  },
  {
   "cell_type": "code",
   "execution_count": 86,
   "metadata": {},
   "outputs": [
    {
     "name": "stderr",
     "output_type": "stream",
     "text": [
      "100%|██████████| 100/100 [03:39<00:00,  2.20s/it]"
     ]
    },
    {
     "name": "stdout",
     "output_type": "stream",
     "text": [
      " The 95% confidence interval for the proximity index is [0.031240412052650275, 0.034157239499055116]\n"
     ]
    },
    {
     "name": "stderr",
     "output_type": "stream",
     "text": [
      "\n"
     ]
    }
   ],
   "source": [
    "lower_bound, upper_bound = get_bootstrapped_ci_proximity_index(rec, \"chef_annee_naissance\", n=100)\n",
    "print(f\" The 95% confidence interval for the proximity index is [{lower_bound}, {upper_bound}]\")"
   ]
  },
  {
   "attachments": {},
   "cell_type": "markdown",
   "metadata": {},
   "source": [
    "When taking into account the chief's year of birth, we get a slight difference, but it is not that significant. People born at the same year tend to live in the same area, but not significantly more than random."
   ]
  },
  {
   "attachments": {},
   "cell_type": "markdown",
   "metadata": {},
   "source": [
    "## Matching house nodes by the chief's wife year of birth"
   ]
  },
  {
   "cell_type": "markdown",
   "metadata": {},
   "source": [
    "### Get the current data's proximity index"
   ]
  },
  {
   "cell_type": "code",
   "execution_count": 87,
   "metadata": {},
   "outputs": [
    {
     "name": "stdout",
     "output_type": "stream",
     "text": [
      "Proximity index: 0.03327712832001548\n"
     ]
    }
   ],
   "source": [
    "proximity_index = get_proximity_index_from_rec(rec, \"epouse_annee_naissance\")\n",
    "print(f\"Proximity index: {proximity_index}\")"
   ]
  },
  {
   "cell_type": "markdown",
   "metadata": {},
   "source": [
    "### Get the proximity index on randomly shuffled data"
   ]
  },
  {
   "cell_type": "code",
   "execution_count": 88,
   "metadata": {},
   "outputs": [
    {
     "name": "stderr",
     "output_type": "stream",
     "text": [
      "100%|██████████| 100/100 [03:41<00:00,  2.21s/it]"
     ]
    },
    {
     "name": "stdout",
     "output_type": "stream",
     "text": [
      " The 95% confidence interval for the proximity index is [0.030988005992089115, 0.034623336483340456]\n"
     ]
    },
    {
     "name": "stderr",
     "output_type": "stream",
     "text": [
      "\n"
     ]
    }
   ],
   "source": [
    "lower_bound, upper_bound = get_bootstrapped_ci_proximity_index(rec, \"epouse_annee_naissance\", n=100)\n",
    "print(f\" The 95% confidence interval for the proximity index is [{lower_bound}, {upper_bound}]\")"
   ]
  },
  {
   "attachments": {},
   "cell_type": "markdown",
   "metadata": {},
   "source": [
    "To conclude, taking into account the chief's wife year of birth, we might think that this is also not a significant factor in the clustering of houses. And indeed, we cannot use this information to cluster houses."
   ]
  },
  {
   "attachments": {},
   "cell_type": "markdown",
   "metadata": {},
   "source": [
    "## Using the three most significant factors to cluster houses"
   ]
  },
  {
   "cell_type": "code",
   "execution_count": null,
   "metadata": {},
   "outputs": [],
   "source": [
    "# get the matching records\n",
    "matching_columns = ['chef_vocation', 'chef_origine', 'chef_annee_arrivee']\n",
    "matching_columns_weights = [1, 1, 1]\n",
    "\n",
    "# define the matchings with scores of 0\n",
    "index_pairs = list(itertools.combinations(rec.index, 2))\n",
    "matching = pd.DataFrame(index=range(len(index_pairs)), columns=[\"id_1\", \"id_2\", \"score\"])\n",
    "matching[[\"id_1\", \"id_2\"]] = index_pairs\n",
    "matching[\"score\"] = 0\n",
    "matching = matching.set_index([\"id_1\", \"id_2\"])\n",
    "# add score for each matching column\n",
    "for matching_column in matching_columns:\n",
    "    groups = rec.groupby(matching_column)\n",
    "    for _, group in tqdm(groups):\n",
    "        pairs = itertools.combinations(group.index, 2)\n",
    "        for pair in pairs:\n",
    "            matching.loc[pair, \"score\"] += 1\n",
    "        \n",
    "matching = matching \\\n",
    "    .sort_values(by=\"score\", ascending=False) \\\n",
    "    .reset_index()\n",
    "matching.head()"
   ]
  },
  {
   "cell_type": "code",
   "execution_count": 207,
   "metadata": {},
   "outputs": [
    {
     "data": {
      "text/html": [
       "<div>\n",
       "<style scoped>\n",
       "    .dataframe tbody tr th:only-of-type {\n",
       "        vertical-align: middle;\n",
       "    }\n",
       "\n",
       "    .dataframe tbody tr th {\n",
       "        vertical-align: top;\n",
       "    }\n",
       "\n",
       "    .dataframe thead th {\n",
       "        text-align: right;\n",
       "    }\n",
       "</style>\n",
       "<table border=\"1\" class=\"dataframe\">\n",
       "  <thead>\n",
       "    <tr style=\"text-align: right;\">\n",
       "      <th></th>\n",
       "      <th>id_1</th>\n",
       "      <th>id_2</th>\n",
       "      <th>score</th>\n",
       "      <th>chef_vocation</th>\n",
       "      <th>chef_origine</th>\n",
       "      <th>chef_annee_arrivee</th>\n",
       "    </tr>\n",
       "  </thead>\n",
       "  <tbody>\n",
       "    <tr>\n",
       "      <th>0</th>\n",
       "      <td>937</td>\n",
       "      <td>2746</td>\n",
       "      <td>3</td>\n",
       "      <td>rentiere</td>\n",
       "      <td>lausanne</td>\n",
       "      <td>·</td>\n",
       "    </tr>\n",
       "    <tr>\n",
       "      <th>162182</th>\n",
       "      <td>265</td>\n",
       "      <td>2746</td>\n",
       "      <td>2</td>\n",
       "      <td>lingere</td>\n",
       "      <td>lausanne</td>\n",
       "      <td>·</td>\n",
       "    </tr>\n",
       "    <tr>\n",
       "      <th>402861</th>\n",
       "      <td>920</td>\n",
       "      <td>2746</td>\n",
       "      <td>1</td>\n",
       "      <td>·</td>\n",
       "      <td>·</td>\n",
       "      <td>·</td>\n",
       "    </tr>\n",
       "    <tr>\n",
       "      <th>1022</th>\n",
       "      <td>2398</td>\n",
       "      <td>2746</td>\n",
       "      <td>3</td>\n",
       "      <td>rentiere</td>\n",
       "      <td>lausanne</td>\n",
       "      <td>·</td>\n",
       "    </tr>\n",
       "    <tr>\n",
       "      <th>1002941</th>\n",
       "      <td>1311</td>\n",
       "      <td>2746</td>\n",
       "      <td>1</td>\n",
       "      <td>·</td>\n",
       "      <td>·</td>\n",
       "      <td>·</td>\n",
       "    </tr>\n",
       "  </tbody>\n",
       "</table>\n",
       "</div>"
      ],
      "text/plain": [
       "         id_1  id_2  score chef_vocation chef_origine chef_annee_arrivee\n",
       "0         937  2746      3      rentiere     lausanne                  ·\n",
       "162182    265  2746      2       lingere     lausanne                  ·\n",
       "402861    920  2746      1             ·            ·                  ·\n",
       "1022     2398  2746      3      rentiere     lausanne                  ·\n",
       "1002941  1311  2746      1             ·            ·                  ·"
      ]
     },
     "execution_count": 207,
     "metadata": {},
     "output_type": "execute_result"
    }
   ],
   "source": [
    "# get the matching data\n",
    "matching_data = matching \\\n",
    "        .merge(rec, left_on=\"id_1\", right_index=True) \\\n",
    "        .merge(rec, left_on=\"id_2\", right_index=True, suffixes=(\"_1\", \"_2\"))\n",
    "matching_data = matching_data[\n",
    "            [\"id_1\", \"id_2\", \"score\"] + [on_col + \"_1\" for on_col in matching_columns]\n",
    "        ].rename(columns={\n",
    "            on_col + \"_1\": on_col for on_col in matching_columns\n",
    "        })\n",
    "matching_data.head()"
   ]
  },
  {
   "cell_type": "code",
   "execution_count": 208,
   "metadata": {},
   "outputs": [
    {
     "data": {
      "text/html": [
       "<div>\n",
       "<style scoped>\n",
       "    .dataframe tbody tr th:only-of-type {\n",
       "        vertical-align: middle;\n",
       "    }\n",
       "\n",
       "    .dataframe tbody tr th {\n",
       "        vertical-align: top;\n",
       "    }\n",
       "\n",
       "    .dataframe thead th {\n",
       "        text-align: right;\n",
       "    }\n",
       "</style>\n",
       "<table border=\"1\" class=\"dataframe\">\n",
       "  <thead>\n",
       "    <tr style=\"text-align: right;\">\n",
       "      <th></th>\n",
       "      <th>id_1</th>\n",
       "      <th>id_2</th>\n",
       "      <th>score</th>\n",
       "    </tr>\n",
       "  </thead>\n",
       "  <tbody>\n",
       "    <tr>\n",
       "      <th>1963065</th>\n",
       "      <td>333</td>\n",
       "      <td>2746</td>\n",
       "      <td>1</td>\n",
       "    </tr>\n",
       "    <tr>\n",
       "      <th>1967052</th>\n",
       "      <td>332</td>\n",
       "      <td>2746</td>\n",
       "      <td>1</td>\n",
       "    </tr>\n",
       "    <tr>\n",
       "      <th>2350001</th>\n",
       "      <td>219</td>\n",
       "      <td>2746</td>\n",
       "      <td>1</td>\n",
       "    </tr>\n",
       "    <tr>\n",
       "      <th>1938429</th>\n",
       "      <td>2315</td>\n",
       "      <td>2746</td>\n",
       "      <td>1</td>\n",
       "    </tr>\n",
       "    <tr>\n",
       "      <th>2547337</th>\n",
       "      <td>2086</td>\n",
       "      <td>2746</td>\n",
       "      <td>1</td>\n",
       "    </tr>\n",
       "  </tbody>\n",
       "</table>\n",
       "</div>"
      ],
      "text/plain": [
       "         id_1  id_2  score\n",
       "1963065   333  2746      1\n",
       "1967052   332  2746      1\n",
       "2350001   219  2746      1\n",
       "1938429  2315  2746      1\n",
       "2547337  2086  2746      1"
      ]
     },
     "execution_count": 208,
     "metadata": {},
     "output_type": "execute_result"
    }
   ],
   "source": [
    "# clean the matching data\n",
    "invalid_values = [\"?\", \"·\", \"ne\", \"nee\"]\n",
    "min_cluster_size_thd = 10\n",
    "\n",
    "for on_col in matching_columns:\n",
    "    matching_data = matching_data[~matching_data[on_col].isin(invalid_values)]\n",
    "matching_data = matching_data.groupby(matching_columns).filter(lambda x: len(x) >= min_cluster_size_thd)\n",
    "matching_data = matching_data[matching_data[\"score\"] > 0]\n",
    "edge_list = matching_data[[\"id_1\", \"id_2\", \"score\"]]\n",
    "edge_list.head()"
   ]
  },
  {
   "cell_type": "code",
   "execution_count": 209,
   "metadata": {},
   "outputs": [
    {
     "data": {
      "text/html": [
       "<div>\n",
       "<style scoped>\n",
       "    .dataframe tbody tr th:only-of-type {\n",
       "        vertical-align: middle;\n",
       "    }\n",
       "\n",
       "    .dataframe tbody tr th {\n",
       "        vertical-align: top;\n",
       "    }\n",
       "\n",
       "    .dataframe thead th {\n",
       "        text-align: right;\n",
       "    }\n",
       "</style>\n",
       "<table border=\"1\" class=\"dataframe\">\n",
       "  <thead>\n",
       "    <tr style=\"text-align: right;\">\n",
       "      <th></th>\n",
       "      <th>id</th>\n",
       "      <th>nom_rue</th>\n",
       "    </tr>\n",
       "  </thead>\n",
       "  <tbody>\n",
       "    <tr>\n",
       "      <th>0</th>\n",
       "      <td>1</td>\n",
       "      <td>marterey</td>\n",
       "    </tr>\n",
       "    <tr>\n",
       "      <th>1</th>\n",
       "      <td>2</td>\n",
       "      <td>marterey</td>\n",
       "    </tr>\n",
       "    <tr>\n",
       "      <th>2</th>\n",
       "      <td>3</td>\n",
       "      <td>marterey</td>\n",
       "    </tr>\n",
       "    <tr>\n",
       "      <th>3</th>\n",
       "      <td>4</td>\n",
       "      <td>marterey</td>\n",
       "    </tr>\n",
       "    <tr>\n",
       "      <th>4</th>\n",
       "      <td>5</td>\n",
       "      <td>marterey</td>\n",
       "    </tr>\n",
       "  </tbody>\n",
       "</table>\n",
       "</div>"
      ],
      "text/plain": [
       "   id   nom_rue\n",
       "0   1  marterey\n",
       "1   2  marterey\n",
       "2   3  marterey\n",
       "3   4  marterey\n",
       "4   5  marterey"
      ]
     },
     "execution_count": 209,
     "metadata": {},
     "output_type": "execute_result"
    }
   ],
   "source": [
    "node_list = rec \\\n",
    "    .reset_index() \\\n",
    "    .rename(columns={\"index\": \"id\"}) \\\n",
    "    [[\"id\", \"nom_rue\"]]\n",
    "node_list.head()"
   ]
  },
  {
   "cell_type": "code",
   "execution_count": 210,
   "metadata": {},
   "outputs": [],
   "source": [
    "# write to csvs\n",
    "node_list.to_csv(\"data/node_list.csv\", index=False)\n",
    "edge_list.to_csv(\"data/edge_list.csv\", index=False)"
   ]
  }
 ],
 "metadata": {
  "kernelspec": {
   "display_name": "base",
   "language": "python",
   "name": "python3"
  },
  "language_info": {
   "codemirror_mode": {
    "name": "ipython",
    "version": 3
   },
   "file_extension": ".py",
   "mimetype": "text/x-python",
   "name": "python",
   "nbconvert_exporter": "python",
   "pygments_lexer": "ipython3",
   "version": "3.9.13"
  },
  "orig_nbformat": 4
 },
 "nbformat": 4,
 "nbformat_minor": 2
}
