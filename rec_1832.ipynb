{
 "cells": [
  {
   "attachments": {},
   "cell_type": "markdown",
   "metadata": {},
   "source": [
    "# Statistiques sur les données de recensement de 1832"
   ]
  },
  {
   "cell_type": "code",
   "execution_count": 73,
   "metadata": {},
   "outputs": [],
   "source": [
    "import numpy as np\n",
    "import pandas as pd\n",
    "import seaborn as sns\n",
    "import matplotlib.pyplot as plt\n",
    "import re\n",
    "\n",
    "from scipy import stats"
   ]
  },
  {
   "cell_type": "code",
   "execution_count": 74,
   "metadata": {},
   "outputs": [],
   "source": [
    "def get_color_list(cmap, n):\n",
    "    \n",
    "    values = np.linspace(0, 1, n)\n",
    "    colors = cmap(values)\n",
    "    colors = [color[:3] for color in colors]\n",
    "    return colors"
   ]
  },
  {
   "cell_type": "code",
   "execution_count": 75,
   "metadata": {},
   "outputs": [
    {
     "data": {
      "text/plain": [
       "[array([0.28627451, 0.        , 0.41568627]),\n",
       " array([0.45507113, 0.00344483, 0.46046905]),\n",
       " array([0.63277201, 0.00392157, 0.48744329]),\n",
       " array([0.80522876, 0.1372549 , 0.55947712]),\n",
       " array([0.92224529, 0.31507882, 0.61353326]),\n",
       " array([0.97397924, 0.50595925, 0.66705113]),\n",
       " array([0.98300654, 0.67320261, 0.72418301]),\n",
       " array([0.98918877, 0.79829296, 0.78059208]),\n",
       " array([0.99311034, 0.88939639, 0.87715494]),\n",
       " array([1.        , 0.96862745, 0.95294118])]"
      ]
     },
     "execution_count": 75,
     "metadata": {},
     "output_type": "execute_result"
    }
   ],
   "source": [
    "get_color_list(plt.cm.RdPu_r, n=10)"
   ]
  },
  {
   "cell_type": "code",
   "execution_count": 76,
   "metadata": {},
   "outputs": [
    {
     "data": {
      "image/png": "[encoded data removed]",
      "text/html": [
       "<div style=\"vertical-align: middle;\"><strong>RdPu_r</strong> </div><div class=\"cmap\"><img alt=\"RdPu_r colormap\" title=\"RdPu_r\" style=\"border: 1px solid #555;\" src=\"data:image/png;base64,iVBORw0KGgoAAAANSUhEUgAAAgAAAABACAYAAABsv8+/AAAAFXRFWHRUaXRsZQBSZFB1X3IgY29sb3JtYXDcliYZAAAAG3RFWHREZXNjcmlwdGlvbgBSZFB1X3IgY29sb3JtYXCVAT79AAAAMHRFWHRBdXRob3IATWF0cGxvdGxpYiB2My42LjIsIGh0dHBzOi8vbWF0cGxvdGxpYi5vcmdxzlVfAAAAMnRFWHRTb2Z0d2FyZQBNYXRwbG90bGliIHYzLjYuMiwgaHR0cHM6Ly9tYXRwbG90bGliLm9yZ19oyngAAAIBSURBVHic7dZBUsMwEEVBDbfjKtx/DwscpzyxIgey+92blIVkSSmgXn2Or+8xxqjx62P7rG1k/nybX4vn8/VX5/1934vr6vwc6/1W9+vrn7/n6rz19/LqubZ9th/s38dHnT9v86puz3X+vHzfeL5Pmzfdpxbn2t/X9mvrq30x1e5Rk/H7/OP+9/uNwwv6+Nv33+/12v73X5A6ftbV8ePz6+89nrOP177uze+tvq7Nv41XG+9/SA/zr82rft7Zfn386vzFfe73X3z2A8/uu5x/dZ/Je/+9zzise7z/8eeP+83ONVvX5rf71fQez9dd/r4m593/Tw4AII4AAIBAAgAAAgkAAAgkAAAgkAAAgEACAAACCQAACCQAACCQAACAQAIAAAIJAAAIJAAAIJAAAIBAAgAAAgkAAAgkAAAgkAAAgEACAAACCQAACCQAACCQAACAQAIAAAIJAAAIJAAAIJAAAIBAAgAAAgkAAAgkAAAgkAAAgEACAAACCQAACCQAACCQAACAQAIAAAIJAAAIJAAAIJAAAIBAAgAAAgkAAAgkAAAgkAAAgEACAAACCQAACCQAACCQAACAQAIAAAIJAAAIJAAAIJAAAIBAAgAAAgkAAAgkAAAgkAAAgEACAAACCQAACCQAACCQAACAQAIAAAIJAAAIJAAAIJAAAIBAAgAAAv0ARuMEaEU4/bcAAAAASUVORK5CYII=\"></div><div style=\"vertical-align: middle; max-width: 514px; display: flex; justify-content: space-between;\"><div style=\"float: left;\"><div title=\"#49006aff\" style=\"display: inline-block; width: 1em; height: 1em; margin: 0; vertical-align: middle; border: 1px solid #555; background-color: #49006aff;\"></div> under</div><div style=\"margin: 0 auto; display: inline-block;\">bad <div title=\"#00000000\" style=\"display: inline-block; width: 1em; height: 1em; margin: 0; vertical-align: middle; border: 1px solid #555; background-color: #00000000;\"></div></div><div style=\"float: right;\">over <div title=\"#fff7f3ff\" style=\"display: inline-block; width: 1em; height: 1em; margin: 0; vertical-align: middle; border: 1px solid #555; background-color: #fff7f3ff;\"></div></div>"
      ],
      "text/plain": [
       "<matplotlib.colors.LinearSegmentedColormap at 0x13d58245970>"
      ]
     },
     "execution_count": 76,
     "metadata": {},
     "output_type": "execute_result"
    }
   ],
   "source": [
    "plt.cm.RdPu_r"
   ]
  },
  {
   "cell_type": "code",
   "execution_count": 77,
   "metadata": {},
   "outputs": [
    {
     "data": {
      "image/png": "[encoded data removed]",
      "text/html": [
       "<div style=\"vertical-align: middle;\"><strong>Set3</strong> </div><div class=\"cmap\"><img alt=\"Set3 colormap\" title=\"Set3\" style=\"border: 1px solid #555;\" src=\"data:image/png;base64,iVBORw0KGgoAAAANSUhEUgAAAgAAAABACAYAAABsv8+/AAAAE3RFWHRUaXRsZQBTZXQzIGNvbG9ybWFwH1kXwQAAABl0RVh0RGVzY3JpcHRpb24AU2V0MyBjb2xvcm1hcJTrh1kAAAAwdEVYdEF1dGhvcgBNYXRwbG90bGliIHYzLjYuMiwgaHR0cHM6Ly9tYXRwbG90bGliLm9yZ3HOVV8AAAAydEVYdFNvZnR3YXJlAE1hdHBsb3RsaWIgdjMuNi4yLCBodHRwczovL21hdHBsb3RsaWIub3JnX2jKeAAAAYxJREFUeJzt1i0yKGAYQGE/gSDYhRmjGNkCLEPWZKJoVDu4MxZwi6CxAFkimrlFd7fwJe+Y8zwrOPFs3r6+fG/8EpdHn9MJy54eD6YTlpw+308nLLs5Pp9OWHK9fTedsOzv4c50wrKzf1fTCUve9r6mE5a9//mYTliyf7E7nbDsZOthOmHZ1nQAAPDzDAAABBkAAAgyAAAQZAAAIMgAAECQAQCAIAMAAEEGAACCDAAABBkAAAgyAAAQZAAAIMgAAECQAQCAIAMAAEEGAACCDAAABBkAAAgyAAAQZAAAIMgAAECQAQCAIAMAAEEGAACCDAAABBkAAAgyAAAQZAAAIMgAAECQAQCAIAMAAEEGAACCDAAABBkAAAgyAAAQZAAAIMgAAECQAQCAIAMAAEEGAACCDAAABBkAAAgyAAAQZAAAIMgAAECQAQCAIAMAAEEGAACCDAAABBkAAAgyAAAQZAAAIMgAAECQAQCAIAMAAEEGAACCDAAABBkAAAgyAAAQZAAAIMgAAECQAQCAoP/vpRLaXUZaWQAAAABJRU5ErkJggg==\"></div><div style=\"vertical-align: middle; max-width: 514px; display: flex; justify-content: space-between;\"><div style=\"float: left;\"><div title=\"#8dd3c7ff\" style=\"display: inline-block; width: 1em; height: 1em; margin: 0; vertical-align: middle; border: 1px solid #555; background-color: #8dd3c7ff;\"></div> under</div><div style=\"margin: 0 auto; display: inline-block;\">bad <div title=\"#00000000\" style=\"display: inline-block; width: 1em; height: 1em; margin: 0; vertical-align: middle; border: 1px solid #555; background-color: #00000000;\"></div></div><div style=\"float: right;\">over <div title=\"#ffed6fff\" style=\"display: inline-block; width: 1em; height: 1em; margin: 0; vertical-align: middle; border: 1px solid #555; background-color: #ffed6fff;\"></div></div>"
      ],
      "text/plain": [
       "<matplotlib.colors.ListedColormap at 0x13d58245370>"
      ]
     },
     "execution_count": 77,
     "metadata": {},
     "output_type": "execute_result"
    }
   ],
   "source": [
    "plt.cm.Set3"
   ]
  },
  {
   "cell_type": "code",
   "execution_count": 78,
   "metadata": {},
   "outputs": [],
   "source": [
    "df = pd.read_excel(\"data/1832_v4.xlsx\", index_col=0)\n",
    "jobs = pd.read_excel(\"data/histoire urbaine digitale classification metiers.xlsx\", na_values=\"?\", sheet_name=\"data\")"
   ]
  },
  {
   "cell_type": "code",
   "execution_count": 79,
   "metadata": {},
   "outputs": [],
   "source": [
    "df = df[[\n",
    "    \"nom_rue_norm_2\",\n",
    "    \"no_maison\",\n",
    "    \"proprietaire_nom_norm_2\",\n",
    "    \"chef_prenom_norm\",\n",
    "    \"chef_nom_norm_2\",\n",
    "    \"chef_annee_naissance\",\n",
    "    \"epouse_nom_norm\",\n",
    "    \"epouse_annee_naissance\",\n",
    "    \"enfants_dans_la_commune_prenom_norm\",\n",
    "    \"enfants_annee_naissance\",\n",
    "    \"chef_origine_norm_2\",\n",
    "    \"chef_annee_arrivee\",\n",
    "    \"chef_vocation_norm_2\",\n",
    "    \"pensionnaires_prenom_norm\",\n",
    "    \"pensionnaires_nom_norm\",\n",
    "    \"pensionnaires_origine_norm\",\n",
    "    \"Page\"\n",
    "]]"
   ]
  },
  {
   "cell_type": "code",
   "execution_count": 80,
   "metadata": {},
   "outputs": [],
   "source": [
    "# remove \"_norm_2\" from all column names\n",
    "df.columns = [re.sub(\"_norm_2\", \"\", col) for col in df.columns]\n",
    "# remove \"_norm\" from all column names\n",
    "df.columns = [re.sub(\"_norm\", \"\", col) for col in df.columns]"
   ]
  },
  {
   "cell_type": "code",
   "execution_count": 81,
   "metadata": {},
   "outputs": [
    {
     "data": {
      "text/plain": [
       "Index(['nom_rue', 'no_maison', 'proprietaire_nom', 'chef_prenom', 'chef_nom',\n",
       "       'chef_annee_naissance', 'epouse_nom', 'epouse_annee_naissance',\n",
       "       'enfants_dans_la_commune_prenom', 'enfants_annee_naissance',\n",
       "       'chef_origine', 'chef_annee_arrivee', 'chef_vocation',\n",
       "       'pensionnaires_prenom', 'pensionnaires_nom', 'pensionnaires_origine',\n",
       "       'Page'],\n",
       "      dtype='object')"
      ]
     },
     "execution_count": 81,
     "metadata": {},
     "output_type": "execute_result"
    }
   ],
   "source": [
    "df.columns"
   ]
  },
  {
   "cell_type": "code",
   "execution_count": 82,
   "metadata": {},
   "outputs": [
    {
     "data": {
      "text/html": [
       "<div>\n",
       "<style scoped>\n",
       "    .dataframe tbody tr th:only-of-type {\n",
       "        vertical-align: middle;\n",
       "    }\n",
       "\n",
       "    .dataframe tbody tr th {\n",
       "        vertical-align: top;\n",
       "    }\n",
       "\n",
       "    .dataframe thead th {\n",
       "        text-align: right;\n",
       "    }\n",
       "</style>\n",
       "<table border=\"1\" class=\"dataframe\">\n",
       "  <thead>\n",
       "    <tr style=\"text-align: right;\">\n",
       "      <th></th>\n",
       "      <th>JOB</th>\n",
       "      <th>CLASS</th>\n",
       "    </tr>\n",
       "  </thead>\n",
       "  <tbody>\n",
       "    <tr>\n",
       "      <th>0</th>\n",
       "      <td>rentier?</td>\n",
       "      <td>rente</td>\n",
       "    </tr>\n",
       "    <tr>\n",
       "      <th>1</th>\n",
       "      <td>rentiere</td>\n",
       "      <td>rente</td>\n",
       "    </tr>\n",
       "    <tr>\n",
       "      <th>2</th>\n",
       "      <td>journalier</td>\n",
       "      <td>agricole</td>\n",
       "    </tr>\n",
       "    <tr>\n",
       "      <th>3</th>\n",
       "      <td>vigneron</td>\n",
       "      <td>agricole</td>\n",
       "    </tr>\n",
       "    <tr>\n",
       "      <th>4</th>\n",
       "      <td>proprietaire</td>\n",
       "      <td>rente</td>\n",
       "    </tr>\n",
       "    <tr>\n",
       "      <th>5</th>\n",
       "      <td>rentier</td>\n",
       "      <td>rente</td>\n",
       "    </tr>\n",
       "    <tr>\n",
       "      <th>6</th>\n",
       "      <td>cordonnier</td>\n",
       "      <td>artisanat</td>\n",
       "    </tr>\n",
       "    <tr>\n",
       "      <th>7</th>\n",
       "      <td>menuisier</td>\n",
       "      <td>artisanat/construction</td>\n",
       "    </tr>\n",
       "    <tr>\n",
       "      <th>8</th>\n",
       "      <td>journaliere</td>\n",
       "      <td>agricole</td>\n",
       "    </tr>\n",
       "    <tr>\n",
       "      <th>9</th>\n",
       "      <td>charpentier</td>\n",
       "      <td>construction</td>\n",
       "    </tr>\n",
       "  </tbody>\n",
       "</table>\n",
       "</div>"
      ],
      "text/plain": [
       "            JOB                   CLASS\n",
       "0      rentier?                   rente\n",
       "1      rentiere                   rente\n",
       "2    journalier                agricole\n",
       "3      vigneron                agricole\n",
       "4  proprietaire                   rente\n",
       "5       rentier                   rente\n",
       "6    cordonnier               artisanat\n",
       "7     menuisier  artisanat/construction\n",
       "8   journaliere                agricole\n",
       "9   charpentier            construction"
      ]
     },
     "execution_count": 82,
     "metadata": {},
     "output_type": "execute_result"
    }
   ],
   "source": [
    "jobs.head(10)"
   ]
  },
  {
   "cell_type": "code",
   "execution_count": 83,
   "metadata": {},
   "outputs": [
    {
     "data": {
      "text/plain": [
       "1                 charon\n",
       "2       marechal-ferrant\n",
       "3                lingere\n",
       "4                rentier\n",
       "5       garcon voiturier\n",
       "              ...       \n",
       "3697         agriculteur\n",
       "3698          journalier\n",
       "3699         agriculteur\n",
       "3700         agriculteur\n",
       "3701            fruitier\n",
       "Name: chef_vocation, Length: 3674, dtype: object"
      ]
     },
     "execution_count": 83,
     "metadata": {},
     "output_type": "execute_result"
    }
   ],
   "source": [
    "df[\"chef_vocation\"]"
   ]
  },
  {
   "cell_type": "code",
   "execution_count": 84,
   "metadata": {},
   "outputs": [],
   "source": [
    "# Join df and jobs with chef_vocation in df and JOB in jobs\n",
    "df = df.join(jobs.set_index(\"JOB\"), on=\"chef_vocation\", how=\"left\")\n",
    "# rename the CLASS column as chef_vocation_class\n",
    "df = df.rename(columns={\"CLASS\": \"chef_vocation_class\"})"
   ]
  },
  {
   "cell_type": "code",
   "execution_count": 85,
   "metadata": {},
   "outputs": [
    {
     "data": {
      "text/html": [
       "<div>\n",
       "<style scoped>\n",
       "    .dataframe tbody tr th:only-of-type {\n",
       "        vertical-align: middle;\n",
       "    }\n",
       "\n",
       "    .dataframe tbody tr th {\n",
       "        vertical-align: top;\n",
       "    }\n",
       "\n",
       "    .dataframe thead th {\n",
       "        text-align: right;\n",
       "    }\n",
       "</style>\n",
       "<table border=\"1\" class=\"dataframe\">\n",
       "  <thead>\n",
       "    <tr style=\"text-align: right;\">\n",
       "      <th></th>\n",
       "      <th>chef_vocation</th>\n",
       "      <th>chef_vocation_class</th>\n",
       "    </tr>\n",
       "  </thead>\n",
       "  <tbody>\n",
       "    <tr>\n",
       "      <th>1</th>\n",
       "      <td>charon</td>\n",
       "      <td>NaN</td>\n",
       "    </tr>\n",
       "    <tr>\n",
       "      <th>2</th>\n",
       "      <td>marechal-ferrant</td>\n",
       "      <td>artisanat</td>\n",
       "    </tr>\n",
       "    <tr>\n",
       "      <th>3</th>\n",
       "      <td>lingere</td>\n",
       "      <td>service</td>\n",
       "    </tr>\n",
       "    <tr>\n",
       "      <th>4</th>\n",
       "      <td>rentier</td>\n",
       "      <td>rente</td>\n",
       "    </tr>\n",
       "    <tr>\n",
       "      <th>5</th>\n",
       "      <td>garcon voiturier</td>\n",
       "      <td>NaN</td>\n",
       "    </tr>\n",
       "    <tr>\n",
       "      <th>...</th>\n",
       "      <td>...</td>\n",
       "      <td>...</td>\n",
       "    </tr>\n",
       "    <tr>\n",
       "      <th>3697</th>\n",
       "      <td>agriculteur</td>\n",
       "      <td>agricole</td>\n",
       "    </tr>\n",
       "    <tr>\n",
       "      <th>3698</th>\n",
       "      <td>journalier</td>\n",
       "      <td>agricole</td>\n",
       "    </tr>\n",
       "    <tr>\n",
       "      <th>3699</th>\n",
       "      <td>agriculteur</td>\n",
       "      <td>agricole</td>\n",
       "    </tr>\n",
       "    <tr>\n",
       "      <th>3700</th>\n",
       "      <td>agriculteur</td>\n",
       "      <td>agricole</td>\n",
       "    </tr>\n",
       "    <tr>\n",
       "      <th>3701</th>\n",
       "      <td>fruitier</td>\n",
       "      <td>NaN</td>\n",
       "    </tr>\n",
       "  </tbody>\n",
       "</table>\n",
       "<p>3674 rows × 2 columns</p>\n",
       "</div>"
      ],
      "text/plain": [
       "         chef_vocation chef_vocation_class\n",
       "1               charon                 NaN\n",
       "2     marechal-ferrant           artisanat\n",
       "3              lingere             service\n",
       "4              rentier               rente\n",
       "5     garcon voiturier                 NaN\n",
       "...                ...                 ...\n",
       "3697       agriculteur            agricole\n",
       "3698        journalier            agricole\n",
       "3699       agriculteur            agricole\n",
       "3700       agriculteur            agricole\n",
       "3701          fruitier                 NaN\n",
       "\n",
       "[3674 rows x 2 columns]"
      ]
     },
     "execution_count": 85,
     "metadata": {},
     "output_type": "execute_result"
    }
   ],
   "source": [
    "df[[\"chef_vocation\", \"chef_vocation_class\"]]"
   ]
  },
  {
   "cell_type": "code",
   "execution_count": 86,
   "metadata": {},
   "outputs": [
    {
     "data": {
      "text/html": [
       "<div>\n",
       "<style scoped>\n",
       "    .dataframe tbody tr th:only-of-type {\n",
       "        vertical-align: middle;\n",
       "    }\n",
       "\n",
       "    .dataframe tbody tr th {\n",
       "        vertical-align: top;\n",
       "    }\n",
       "\n",
       "    .dataframe thead th {\n",
       "        text-align: right;\n",
       "    }\n",
       "</style>\n",
       "<table border=\"1\" class=\"dataframe\">\n",
       "  <thead>\n",
       "    <tr style=\"text-align: right;\">\n",
       "      <th></th>\n",
       "      <th>JOB</th>\n",
       "      <th>CLASS</th>\n",
       "    </tr>\n",
       "  </thead>\n",
       "  <tbody>\n",
       "    <tr>\n",
       "      <th>40</th>\n",
       "      <td>ministre</td>\n",
       "      <td>administration</td>\n",
       "    </tr>\n",
       "  </tbody>\n",
       "</table>\n",
       "</div>"
      ],
      "text/plain": [
       "         JOB           CLASS\n",
       "40  ministre  administration"
      ]
     },
     "execution_count": 86,
     "metadata": {},
     "output_type": "execute_result"
    }
   ],
   "source": [
    "jobs[jobs.JOB == \"ministre\"]"
   ]
  },
  {
   "cell_type": "code",
   "execution_count": 87,
   "metadata": {},
   "outputs": [
    {
     "data": {
      "text/plain": [
       "array([nan, 'artisanat', 'service', 'rente', 'commerce',\n",
       "       'artisanat/service', 'agricole', 'construction',\n",
       "       'artisanat/construction', 'administration',\n",
       "       'construction/artisanat', 'service/construction',\n",
       "       'service/artisanat'], dtype=object)"
      ]
     },
     "execution_count": 87,
     "metadata": {},
     "output_type": "execute_result"
    }
   ],
   "source": [
    "df.chef_vocation_class.unique()"
   ]
  },
  {
   "cell_type": "code",
   "execution_count": 88,
   "metadata": {},
   "outputs": [
    {
     "data": {
      "text/plain": [
       "Index(['nom_rue', 'no_maison', 'proprietaire_nom', 'chef_prenom', 'chef_nom',\n",
       "       'chef_annee_naissance', 'epouse_nom', 'epouse_annee_naissance',\n",
       "       'enfants_dans_la_commune_prenom', 'enfants_annee_naissance',\n",
       "       'chef_origine', 'chef_annee_arrivee', 'chef_vocation',\n",
       "       'pensionnaires_prenom', 'pensionnaires_nom', 'pensionnaires_origine',\n",
       "       'Page', 'chef_vocation_class'],\n",
       "      dtype='object')"
      ]
     },
     "execution_count": 88,
     "metadata": {},
     "output_type": "execute_result"
    }
   ],
   "source": [
    "df.columns"
   ]
  },
  {
   "cell_type": "code",
   "execution_count": 89,
   "metadata": {},
   "outputs": [
    {
     "data": {
      "text/plain": [
       "(3674, 18)"
      ]
     },
     "execution_count": 89,
     "metadata": {},
     "output_type": "execute_result"
    }
   ],
   "source": [
    "df.shape"
   ]
  },
  {
   "attachments": {},
   "cell_type": "markdown",
   "metadata": {},
   "source": [
    "## Statistiques sur les lieux d'origines des chefs de famille"
   ]
  },
  {
   "cell_type": "code",
   "execution_count": 90,
   "metadata": {},
   "outputs": [
    {
     "data": {
      "text/plain": [
       "(3674,)"
      ]
     },
     "execution_count": 90,
     "metadata": {},
     "output_type": "execute_result"
    }
   ],
   "source": [
    "df.chef_origine.shape"
   ]
  },
  {
   "cell_type": "code",
   "execution_count": 91,
   "metadata": {},
   "outputs": [
    {
     "data": {
      "text/plain": [
       "chef_origine\n",
       "lausanne                 622\n",
       "·                        126\n",
       "lutry                    102\n",
       "corporation francaise     73\n",
       "epalinges                 68\n",
       "dtype: int64"
      ]
     },
     "execution_count": 91,
     "metadata": {},
     "output_type": "execute_result"
    }
   ],
   "source": [
    "origins = df.groupby(\"chef_origine\").size().sort_values(ascending=False)\n",
    "origins.head()"
   ]
  },
  {
   "cell_type": "code",
   "execution_count": 92,
   "metadata": {},
   "outputs": [
    {
     "data": {
      "text/plain": [
       "0.34471455886369845"
      ]
     },
     "execution_count": 92,
     "metadata": {},
     "output_type": "execute_result"
    },
    {
     "data": {
      "image/png": "[encoded data removed]",
      "text/plain": [
       "<Figure size 640x480 with 1 Axes>"
      ]
     },
     "metadata": {},
     "output_type": "display_data"
    }
   ],
   "source": [
    "# Get the percentage of the population that is represented by the top 10 origins and plot it as a graph in terms of x\n",
    "percentages = [origins.head(x).sum() / origins.sum() for x in range(0, len(origins))]\n",
    "# Plot the above as a line\n",
    "plt.title(\"Population représentée par le nombre d'origines différentes prises en compte\")\n",
    "plt.xlabel(\"Nombre d'origines différentes\")\n",
    "plt.ylabel(\"Population représentée [%]\")\n",
    "plt.grid(visible=True, which=\"both\")\n",
    "plt.plot(np.asarray(percentages) * 100,'-',color=\"#e36866\", linewidth=4)\n",
    "origins.head(12).sum() / origins.sum()"
   ]
  },
  {
   "cell_type": "code",
   "execution_count": 93,
   "metadata": {},
   "outputs": [
    {
     "data": {
      "text/plain": [
       "1197"
      ]
     },
     "execution_count": 93,
     "metadata": {},
     "output_type": "execute_result"
    }
   ],
   "source": [
    "origins[:10].sum()"
   ]
  },
  {
   "cell_type": "code",
   "execution_count": 98,
   "metadata": {},
   "outputs": [
    {
     "name": "stdout",
     "output_type": "stream",
     "text": [
      "Nombre d'indéfini 126\n"
     ]
    },
    {
     "data": {
      "image/png": "[encoded data removed]",
      "text/plain": [
       "<Figure size 640x480 with 1 Axes>"
      ]
     },
     "metadata": {},
     "output_type": "display_data"
    }
   ],
   "source": [
    "origins = df.groupby(\"chef_origine\").size().sort_values(ascending=False)\n",
    "# drop the index ·\n",
    "print(f\"Nombre d'indéfini {origins.loc['·']}\")\n",
    "origins = origins.drop(\"·\", axis=0)\n",
    "origins_with_others = pd.concat([origins[:12], pd.Series(origins[12:].sum(), index=[\"Autres\"])])\n",
    "# plot the top 12 origins as a bar chart with the others grouped as \"Autres\"\n",
    "plt.title(\"Top 12 des origines des chefs de famille (33% de la population)\")\n",
    "plt.xlabel(\"Origine\")\n",
    "plt.ylabel(\"Nombre de chefs de famille\")\n",
    "# plot only the horizontal grid\n",
    "plt.grid(visible=True, which=\"major\", axis=\"y\")\n",
    "plt.bar(origins[:12].index, origins[:12].values, color=get_color_list(plt.cm.Set3, 13))\n",
    "plt.xticks(rotation=90)\n",
    "plt.show()"
   ]
  },
  {
   "attachments": {},
   "cell_type": "markdown",
   "metadata": {},
   "source": [
    "On a enlevé le point parce qu'il ne represente que ???"
   ]
  },
  {
   "cell_type": "code",
   "execution_count": 116,
   "metadata": {},
   "outputs": [
    {
     "data": {
      "image/png": "[encoded data removed]",
      "text/plain": [
       "<Figure size 640x480 with 1 Axes>"
      ]
     },
     "metadata": {},
     "output_type": "display_data"
    }
   ],
   "source": [
    "# Make the same plot as above but with the percentage of the population represented by each origin in a pie chart\n",
    "plt.title(\"Top 12 des origines des chefs de famille (33% de la population)\")\n",
    "# make the percentages more readable spacing them out$\n",
    "plt.pie(origins[:12].values, labels=origins[:12].index, autopct=\"%1.1f%%\", colors=get_color_list(plt.cm.Set3, 12), pctdistance=0.8, startangle=45)\n",
    "plt.show()"
   ]
  },
  {
   "cell_type": "code",
   "execution_count": 95,
   "metadata": {},
   "outputs": [
    {
     "data": {
      "text/plain": [
       "0.1692977681001633"
      ]
     },
     "execution_count": 95,
     "metadata": {},
     "output_type": "execute_result"
    }
   ],
   "source": [
    "# What is the percentage of people comming from Lausanne ?\n",
    "origins[0] / df.shape[0]"
   ]
  },
  {
   "attachments": {},
   "cell_type": "markdown",
   "metadata": {},
   "source": [
    "$17\\%$ des chefs sont d'origine lausanoises."
   ]
  },
  {
   "cell_type": "code",
   "execution_count": 117,
   "metadata": {},
   "outputs": [],
   "source": [
    "df_new = df[df.chef_annee_naissance.str.len() == 4]\n",
    "df_new = df_new[df_new.chef_annee_naissance.str.isnumeric()]\n",
    "df_new.chef_annee_naissance = df_new.chef_annee_naissance.astype(int)"
   ]
  },
  {
   "attachments": {},
   "cell_type": "markdown",
   "metadata": {},
   "source": [
    "On ne prend que les années de naissances qui ont 4"
   ]
  },
  {
   "cell_type": "code",
   "execution_count": 118,
   "metadata": {},
   "outputs": [
    {
     "data": {
      "text/plain": [
       "0.7939575394665215"
      ]
     },
     "execution_count": 118,
     "metadata": {},
     "output_type": "execute_result"
    }
   ],
   "source": [
    "df_new.shape[0] / df.shape[0]"
   ]
  },
  {
   "attachments": {},
   "cell_type": "markdown",
   "metadata": {},
   "source": [
    "On obtient 79% des chefs de familles."
   ]
  },
  {
   "cell_type": "code",
   "execution_count": 119,
   "metadata": {},
   "outputs": [
    {
     "data": {
      "text/html": [
       "<div>\n",
       "<style scoped>\n",
       "    .dataframe tbody tr th:only-of-type {\n",
       "        vertical-align: middle;\n",
       "    }\n",
       "\n",
       "    .dataframe tbody tr th {\n",
       "        vertical-align: top;\n",
       "    }\n",
       "\n",
       "    .dataframe thead th {\n",
       "        text-align: right;\n",
       "    }\n",
       "</style>\n",
       "<table border=\"1\" class=\"dataframe\">\n",
       "  <thead>\n",
       "    <tr style=\"text-align: right;\">\n",
       "      <th></th>\n",
       "      <th>chef_annee_naissance</th>\n",
       "      <th>Page</th>\n",
       "    </tr>\n",
       "  </thead>\n",
       "  <tbody>\n",
       "    <tr>\n",
       "      <th>count</th>\n",
       "      <td>2917.000000</td>\n",
       "      <td>2917.000000</td>\n",
       "    </tr>\n",
       "    <tr>\n",
       "      <th>mean</th>\n",
       "      <td>1787.910525</td>\n",
       "      <td>75.427151</td>\n",
       "    </tr>\n",
       "    <tr>\n",
       "      <th>std</th>\n",
       "      <td>127.003629</td>\n",
       "      <td>41.505349</td>\n",
       "    </tr>\n",
       "    <tr>\n",
       "      <th>min</th>\n",
       "      <td>1264.000000</td>\n",
       "      <td>1.000000</td>\n",
       "    </tr>\n",
       "    <tr>\n",
       "      <th>25%</th>\n",
       "      <td>1776.000000</td>\n",
       "      <td>42.000000</td>\n",
       "    </tr>\n",
       "    <tr>\n",
       "      <th>50%</th>\n",
       "      <td>1787.000000</td>\n",
       "      <td>77.000000</td>\n",
       "    </tr>\n",
       "    <tr>\n",
       "      <th>75%</th>\n",
       "      <td>1798.000000</td>\n",
       "      <td>109.000000</td>\n",
       "    </tr>\n",
       "    <tr>\n",
       "      <th>max</th>\n",
       "      <td>7771.000000</td>\n",
       "      <td>151.000000</td>\n",
       "    </tr>\n",
       "  </tbody>\n",
       "</table>\n",
       "</div>"
      ],
      "text/plain": [
       "       chef_annee_naissance         Page\n",
       "count           2917.000000  2917.000000\n",
       "mean            1787.910525    75.427151\n",
       "std              127.003629    41.505349\n",
       "min             1264.000000     1.000000\n",
       "25%             1776.000000    42.000000\n",
       "50%             1787.000000    77.000000\n",
       "75%             1798.000000   109.000000\n",
       "max             7771.000000   151.000000"
      ]
     },
     "execution_count": 119,
     "metadata": {},
     "output_type": "execute_result"
    }
   ],
   "source": [
    "df_new.describe()"
   ]
  },
  {
   "attachments": {},
   "cell_type": "markdown",
   "metadata": {},
   "source": [
    "On se rend compte qu'il y a des anomalies encore, des gens nés en 1264 (qui deverait être 1764) et 7771 (qui deverait être 1771)."
   ]
  },
  {
   "attachments": {},
   "cell_type": "markdown",
   "metadata": {},
   "source": [
    "Remove all people that are negative or less than $0$ years old and people that are more than $130$ years old."
   ]
  },
  {
   "cell_type": "code",
   "execution_count": 122,
   "metadata": {},
   "outputs": [
    {
     "name": "stdout",
     "output_type": "stream",
     "text": [
      "Ratio of values that we keep 78.606424%, number of values that we keep is 2888.\n"
     ]
    }
   ],
   "source": [
    "df_new = df_new[(df_new.chef_annee_naissance < 1832) & (df_new.chef_annee_naissance >= 1700)]\n",
    "print(f\"Ratio of values that we keep {df_new.shape[0] / df.shape[0]:%}, number of values that we keep is {df_new.shape[0]}.\")"
   ]
  },
  {
   "attachments": {},
   "cell_type": "markdown",
   "metadata": {},
   "source": [
    "Il nous reste 78% des chefs de familles."
   ]
  },
  {
   "attachments": {},
   "cell_type": "markdown",
   "metadata": {},
   "source": [
    "On effectue du bootstrap pour avoir une estimation de la moyenne et avoir un intervalle de confiance."
   ]
  },
  {
   "cell_type": "code",
   "execution_count": 123,
   "metadata": {},
   "outputs": [],
   "source": [
    "# Bootstrap the mean of the chef_annee_naissance column with 10_000 samples\n",
    "means = []\n",
    "for i in range(10_000):\n",
    "    sample = df_new.chef_annee_naissance.sample(frac=1, replace=True)\n",
    "    means.append(sample.mean())"
   ]
  },
  {
   "cell_type": "code",
   "execution_count": 125,
   "metadata": {},
   "outputs": [
    {
     "data": {
      "text/plain": [
       "array([1784.95463989, 1786.03638331])"
      ]
     },
     "execution_count": 125,
     "metadata": {},
     "output_type": "execute_result"
    }
   ],
   "source": [
    "# Compute the 95% confidence interval of the mean\n",
    "ci = np.quantile(means, [0.025, 0.975])\n",
    "ci"
   ]
  },
  {
   "cell_type": "code",
   "execution_count": 137,
   "metadata": {},
   "outputs": [
    {
     "data": {
      "image/png": "[encoded data removed]",
      "text/plain": [
       "<Figure size 640x480 with 1 Axes>"
      ]
     },
     "metadata": {},
     "output_type": "display_data"
    }
   ],
   "source": [
    "# plot the means with the 95% confidence interval\n",
    "plt.title(\"\")\n",
    "sns.histplot(means, color=\"#e36866\")\n",
    "plt.axvline(ci[0], color=\"red\", label=\"95% CI\")\n",
    "plt.axvline(ci[1], color=\"red\")\n",
    "plt.legend()\n",
    "plt.xticks(rotation=45)\n",
    "# plot the mean too\n",
    "plt.axvline(np.mean(means), color=\"black\", label=f\"Moyenne\")\n",
    "# show label\n",
    "plt.legend()\n",
    "plt.show()"
   ]
  },
  {
   "cell_type": "code",
   "execution_count": 145,
   "metadata": {},
   "outputs": [
    {
     "name": "stdout",
     "output_type": "stream",
     "text": [
      "La moyenne des années de naissance des chefs de famille est de 1785.50 avec un intervalle de confiance de 95% de 1784.95 à 1786.04.\n",
      "Cela s'écrirait donc 1785.5 ± 0.5.\n"
     ]
    }
   ],
   "source": [
    "# indicate the mean year of birth of the chef de famille with the 95% confidence interval\n",
    "print(f\"La moyenne des années de naissance des chefs de famille est de {np.mean(means):.2f} avec un intervalle de confiance de 95% de {ci[0]:.2f} à {ci[1]:.2f}.\")\n",
    "print(f\"Cela s'écrirait donc {np.mean(means):.1f} ± {np.mean(means) - ci[0]:.1f}.\")"
   ]
  },
  {
   "cell_type": "code",
   "execution_count": 147,
   "metadata": {},
   "outputs": [
    {
     "name": "stdout",
     "output_type": "stream",
     "text": [
      "La moyenne d'âge des chefs de famille est de 46.50 avec un intervalle de confiance de 95% de 47.05 à 45.96.\n",
      "Cela s'écrirait donc 46.5 ± 0.5.\n"
     ]
    }
   ],
   "source": [
    "# The mean age of the chef de famille\n",
    "print(f\"La moyenne d'âge des chefs de famille est de {1832 - np.mean(means):.2f} avec un intervalle de confiance de 95% de {1832 - ci[0]:.2f} à {1832 - ci[1]:.2f}.\")\n",
    "print(f\"Cela s'écrirait donc {1832 - np.mean(means):.1f} ± {np.mean(means) - ci[0]:.1f}.\")"
   ]
  },
  {
   "cell_type": "code",
   "execution_count": 149,
   "metadata": {},
   "outputs": [
    {
     "data": {
      "text/plain": [
       "(1700, 1824)"
      ]
     },
     "execution_count": 149,
     "metadata": {},
     "output_type": "execute_result"
    }
   ],
   "source": [
    "df_new.chef_annee_naissance.min(), df_new.chef_annee_naissance.max()"
   ]
  },
  {
   "cell_type": "code",
   "execution_count": 153,
   "metadata": {},
   "outputs": [
    {
     "data": {
      "text/plain": [
       "14.881286866936966"
      ]
     },
     "execution_count": 153,
     "metadata": {},
     "output_type": "execute_result"
    }
   ],
   "source": [
    "# std of the chef_annee_naissance column\n",
    "df_new.chef_annee_naissance.std()"
   ]
  },
  {
   "cell_type": "code",
   "execution_count": 35,
   "metadata": {},
   "outputs": [],
   "source": [
    "# Bootstrap the mean of the chef_annee_naissance that have \"administration\" as chef_vocation_class with 10_000 samples\n",
    "means_administration = []\n",
    "for i in range(10_000):\n",
    "    sample = df_new[df_new.chef_vocation_class == \"administration\"].chef_annee_naissance.sample(frac=1, replace=True)\n",
    "    means_administration.append(sample.mean())\n",
    "    \n",
    "# Bootstrap the mean of the chef_annee_naissance that have \"construction\" as chef_vocation_class with 10_000 samples\n",
    "means_construction = []\n",
    "for i in range(10_000):\n",
    "    sample = df_new[df_new.chef_vocation_class == \"construction\"].chef_annee_naissance.sample(frac=1, replace=True)\n",
    "    means_construction.append(sample.mean())"
   ]
  },
  {
   "cell_type": "code",
   "execution_count": 42,
   "metadata": {},
   "outputs": [
    {
     "data": {
      "text/plain": [
       "<AxesSubplot:ylabel='Count'>"
      ]
     },
     "execution_count": 42,
     "metadata": {},
     "output_type": "execute_result"
    },
    {
     "data": {
      "image/png": "[encoded data removed]",
      "text/plain": [
       "<Figure size 640x480 with 1 Axes>"
      ]
     },
     "metadata": {},
     "output_type": "display_data"
    }
   ],
   "source": [
    "sns.histplot([means_administration, means_construction])"
   ]
  },
  {
   "cell_type": "code",
   "execution_count": 56,
   "metadata": {},
   "outputs": [
    {
     "data": {
      "text/plain": [
       "<AxesSubplot:xlabel='chef_annee_naissance', ylabel='Count'>"
      ]
     },
     "execution_count": 56,
     "metadata": {},
     "output_type": "execute_result"
    },
    {
     "data": {
      "image/png": "[encoded data removed]",
      "text/plain": [
       "<Figure size 640x480 with 1 Axes>"
      ]
     },
     "metadata": {},
     "output_type": "display_data"
    }
   ],
   "source": [
    "sns.histplot(df_new[df_new.chef_vocation_class == \"construction\"].chef_annee_naissance, label=\"construction\")\n",
    "sns.histplot(df_new[df_new.chef_vocation_class == \"administration\"].chef_annee_naissance, label=\"administration\")"
   ]
  },
  {
   "cell_type": "code",
   "execution_count": 34,
   "metadata": {},
   "outputs": [
    {
     "data": {
      "text/plain": [
       "(46.60714285714289, 44.37755102040819)"
      ]
     },
     "execution_count": 34,
     "metadata": {},
     "output_type": "execute_result"
    }
   ],
   "source": [
    "(1832 - df_new[df_new.chef_vocation_class == \"administration\"].chef_annee_naissance.mean(), 1832 - df_new[df_new.chef_vocation_class == \"construction\"].chef_annee_naissance.mean())"
   ]
  },
  {
   "cell_type": "code",
   "execution_count": 11,
   "metadata": {},
   "outputs": [
    {
     "data": {
      "text/html": [
       "<div>\n",
       "<style scoped>\n",
       "    .dataframe tbody tr th:only-of-type {\n",
       "        vertical-align: middle;\n",
       "    }\n",
       "\n",
       "    .dataframe tbody tr th {\n",
       "        vertical-align: top;\n",
       "    }\n",
       "\n",
       "    .dataframe thead th {\n",
       "        text-align: right;\n",
       "    }\n",
       "</style>\n",
       "<table border=\"1\" class=\"dataframe\">\n",
       "  <thead>\n",
       "    <tr style=\"text-align: right;\">\n",
       "      <th></th>\n",
       "      <th>nom_rue</th>\n",
       "      <th>no_maison</th>\n",
       "      <th>proprietaire_nom</th>\n",
       "      <th>chef_prenom</th>\n",
       "      <th>chef_nom</th>\n",
       "      <th>chef_annee_naissance</th>\n",
       "      <th>epouse_nom</th>\n",
       "      <th>epouse_annee_naissance</th>\n",
       "      <th>enfants_dans_la_commune_prenom</th>\n",
       "      <th>enfants_annee_naissance</th>\n",
       "      <th>...</th>\n",
       "      <th>chef_annee_arrivee</th>\n",
       "      <th>chef_vocation</th>\n",
       "      <th>chef_recepisse</th>\n",
       "      <th>pensionnaires_prenom</th>\n",
       "      <th>pensionnaires_nom</th>\n",
       "      <th>pensionnaires_origine</th>\n",
       "      <th>pensionnaires_condition</th>\n",
       "      <th>pensionnaires_recepisse</th>\n",
       "      <th>observations</th>\n",
       "      <th>Page</th>\n",
       "    </tr>\n",
       "  </thead>\n",
       "  <tbody>\n",
       "    <tr>\n",
       "      <th>1</th>\n",
       "      <td>martheray</td>\n",
       "      <td>1</td>\n",
       "      <td>veidmann</td>\n",
       "      <td>george</td>\n",
       "      <td>de naisse|veidmann</td>\n",
       "      <td>1764</td>\n",
       "      <td>·</td>\n",
       "      <td>·</td>\n",
       "      <td>·</td>\n",
       "      <td>·</td>\n",
       "      <td>...</td>\n",
       "      <td>1786</td>\n",
       "      <td>charon</td>\n",
       "      <td>844</td>\n",
       "      <td>louise|anna|francois|jn adam</td>\n",
       "      <td>veidmann|la maurer|kirsner|reverber</td>\n",
       "      <td>tolochenaz|frutigen|cirol|bavarois</td>\n",
       "      <td>petite fille naturelle|dom|macon|ouvrier charron</td>\n",
       "      <td>12879|10913|16222</td>\n",
       "      <td>de barhara taidman nee</td>\n",
       "      <td>1</td>\n",
       "    </tr>\n",
       "    <tr>\n",
       "      <th>3</th>\n",
       "      <td>martheray</td>\n",
       "      <td>3</td>\n",
       "      <td>fiaux</td>\n",
       "      <td>louise</td>\n",
       "      <td>piot</td>\n",
       "      <td>1785</td>\n",
       "      <td>neissance</td>\n",
       "      <td>·</td>\n",
       "      <td>benjamin</td>\n",
       "      <td>1815</td>\n",
       "      <td>...</td>\n",
       "      <td>nee</td>\n",
       "      <td>lingere</td>\n",
       "      <td>2272</td>\n",
       "      <td>·</td>\n",
       "      <td>·</td>\n",
       "      <td>·</td>\n",
       "      <td>·</td>\n",
       "      <td>·</td>\n",
       "      <td>·</td>\n",
       "      <td>1</td>\n",
       "    </tr>\n",
       "    <tr>\n",
       "      <th>5</th>\n",
       "      <td>martheray</td>\n",
       "      <td>·</td>\n",
       "      <td>·</td>\n",
       "      <td>louis vincent</td>\n",
       "      <td>lavanchy</td>\n",
       "      <td>1802</td>\n",
       "      <td>baud</td>\n",
       "      <td>1805</td>\n",
       "      <td>·</td>\n",
       "      <td>·</td>\n",
       "      <td>...</td>\n",
       "      <td>ne</td>\n",
       "      <td>garcon viturier</td>\n",
       "      <td>4462</td>\n",
       "      <td>·</td>\n",
       "      <td>·</td>\n",
       "      <td>·</td>\n",
       "      <td>·</td>\n",
       "      <td>·</td>\n",
       "      <td>·</td>\n",
       "      <td>1</td>\n",
       "    </tr>\n",
       "    <tr>\n",
       "      <th>7</th>\n",
       "      <td>martheray</td>\n",
       "      <td>·</td>\n",
       "      <td>·</td>\n",
       "      <td>dominique</td>\n",
       "      <td>dubois</td>\n",
       "      <td>1797</td>\n",
       "      <td>·</td>\n",
       "      <td>·</td>\n",
       "      <td>·</td>\n",
       "      <td>·</td>\n",
       "      <td>...</td>\n",
       "      <td>1828</td>\n",
       "      <td>abenitte|no de</td>\n",
       "      <td>1490</td>\n",
       "      <td>adolphine cecile|adolphine</td>\n",
       "      <td>borrely|borrely</td>\n",
       "      <td>paris|enfant de la che</td>\n",
       "      <td>lingere|dite nee en o</td>\n",
       "      <td>489</td>\n",
       "      <td>·</td>\n",
       "      <td>1</td>\n",
       "    </tr>\n",
       "    <tr>\n",
       "      <th>8</th>\n",
       "      <td>martheray</td>\n",
       "      <td>·</td>\n",
       "      <td>·</td>\n",
       "      <td>francois</td>\n",
       "      <td>piaux</td>\n",
       "      <td>1787</td>\n",
       "      <td>blaud</td>\n",
       "      <td>·</td>\n",
       "      <td>felix|charles|ernestine</td>\n",
       "      <td>1826|·|1822</td>\n",
       "      <td>...</td>\n",
       "      <td>ne</td>\n",
       "      <td>rentier</td>\n",
       "      <td>·</td>\n",
       "      <td>rose marie</td>\n",
       "      <td>metraux</td>\n",
       "      <td>pailly</td>\n",
       "      <td>domest</td>\n",
       "      <td>3370</td>\n",
       "      <td>·</td>\n",
       "      <td>1</td>\n",
       "    </tr>\n",
       "    <tr>\n",
       "      <th>...</th>\n",
       "      <td>...</td>\n",
       "      <td>...</td>\n",
       "      <td>...</td>\n",
       "      <td>...</td>\n",
       "      <td>...</td>\n",
       "      <td>...</td>\n",
       "      <td>...</td>\n",
       "      <td>...</td>\n",
       "      <td>...</td>\n",
       "      <td>...</td>\n",
       "      <td>...</td>\n",
       "      <td>...</td>\n",
       "      <td>...</td>\n",
       "      <td>...</td>\n",
       "      <td>...</td>\n",
       "      <td>...</td>\n",
       "      <td>...</td>\n",
       "      <td>...</td>\n",
       "      <td>...</td>\n",
       "      <td>...</td>\n",
       "      <td>...</td>\n",
       "    </tr>\n",
       "    <tr>\n",
       "      <th>3697</th>\n",
       "      <td>no de leurs</td>\n",
       "      <td>·</td>\n",
       "      <td>·</td>\n",
       "      <td>jn abram</td>\n",
       "      <td>martin</td>\n",
       "      <td>1804</td>\n",
       "      <td>francoise</td>\n",
       "      <td>1804</td>\n",
       "      <td>henry|david</td>\n",
       "      <td>1829|1830</td>\n",
       "      <td>...</td>\n",
       "      <td>·</td>\n",
       "      <td>atif</td>\n",
       "      <td>·</td>\n",
       "      <td>·</td>\n",
       "      <td>·</td>\n",
       "      <td>·</td>\n",
       "      <td>·</td>\n",
       "      <td>·</td>\n",
       "      <td>·</td>\n",
       "      <td>150</td>\n",
       "    </tr>\n",
       "    <tr>\n",
       "      <th>3698</th>\n",
       "      <td>montherond</td>\n",
       "      <td>·</td>\n",
       "      <td>jacob martin</td>\n",
       "      <td>jean abram</td>\n",
       "      <td>blanc</td>\n",
       "      <td>1806</td>\n",
       "      <td>marie</td>\n",
       "      <td>1807</td>\n",
       "      <td>charles elie|louis jules</td>\n",
       "      <td>1829|1831</td>\n",
       "      <td>...</td>\n",
       "      <td>1830</td>\n",
       "      <td>journallier</td>\n",
       "      <td>·</td>\n",
       "      <td>·</td>\n",
       "      <td>·</td>\n",
       "      <td>·</td>\n",
       "      <td>·</td>\n",
       "      <td>·</td>\n",
       "      <td>·</td>\n",
       "      <td>151</td>\n",
       "    </tr>\n",
       "    <tr>\n",
       "      <th>3699</th>\n",
       "      <td>sangalles</td>\n",
       "      <td>·</td>\n",
       "      <td>commune de t|lausanne</td>\n",
       "      <td>veuve</td>\n",
       "      <td>culler</td>\n",
       "      <td>1810</td>\n",
       "      <td>·</td>\n",
       "      <td>neene</td>\n",
       "      <td>jn louise|lse susanne|jean marc|jaques|ct fran...</td>\n",
       "      <td>1800|1803|1806|1808|1809|1812|1814</td>\n",
       "      <td>...</td>\n",
       "      <td>1820</td>\n",
       "      <td>agriculteur</td>\n",
       "      <td>922</td>\n",
       "      <td>·</td>\n",
       "      <td>·</td>\n",
       "      <td>·</td>\n",
       "      <td>·</td>\n",
       "      <td>·</td>\n",
       "      <td>·</td>\n",
       "      <td>151</td>\n",
       "    </tr>\n",
       "    <tr>\n",
       "      <th>3700</th>\n",
       "      <td>chalet aux cenfans</td>\n",
       "      <td>·</td>\n",
       "      <td>md aubergiste</td>\n",
       "      <td>david</td>\n",
       "      <td>abeiden</td>\n",
       "      <td>1771</td>\n",
       "      <td>francoise</td>\n",
       "      <td>1773</td>\n",
       "      <td>·</td>\n",
       "      <td>·</td>\n",
       "      <td>...</td>\n",
       "      <td>·</td>\n",
       "      <td>agriculteur</td>\n",
       "      <td>612</td>\n",
       "      <td>·</td>\n",
       "      <td>·</td>\n",
       "      <td>·</td>\n",
       "      <td>·</td>\n",
       "      <td>·</td>\n",
       "      <td>·</td>\n",
       "      <td>151</td>\n",
       "    </tr>\n",
       "    <tr>\n",
       "      <th>3701</th>\n",
       "      <td>chalet aux cenfans</td>\n",
       "      <td>·</td>\n",
       "      <td>md aubergiste</td>\n",
       "      <td>pierre</td>\n",
       "      <td>debinden</td>\n",
       "      <td>1799</td>\n",
       "      <td>jne marie|dupers</td>\n",
       "      <td>1797</td>\n",
       "      <td>jn susanne|jn louise</td>\n",
       "      <td>1821|1831</td>\n",
       "      <td>...</td>\n",
       "      <td>·</td>\n",
       "      <td>fruisier</td>\n",
       "      <td>1007</td>\n",
       "      <td>·</td>\n",
       "      <td>·</td>\n",
       "      <td>·</td>\n",
       "      <td>·</td>\n",
       "      <td>·</td>\n",
       "      <td>·</td>\n",
       "      <td>151</td>\n",
       "    </tr>\n",
       "  </tbody>\n",
       "</table>\n",
       "<p>2877 rows × 21 columns</p>\n",
       "</div>"
      ],
      "text/plain": [
       "                 nom_rue no_maison       proprietaire_nom    chef_prenom  \\\n",
       "1              martheray         1               veidmann         george   \n",
       "3              martheray         3                  fiaux         louise   \n",
       "5              martheray         ·                      ·  louis vincent   \n",
       "7              martheray         ·                      ·      dominique   \n",
       "8              martheray         ·                      ·       francois   \n",
       "...                  ...       ...                    ...            ...   \n",
       "3697         no de leurs         ·                      ·       jn abram   \n",
       "3698          montherond         ·           jacob martin     jean abram   \n",
       "3699           sangalles         ·  commune de t|lausanne          veuve   \n",
       "3700  chalet aux cenfans         ·          md aubergiste          david   \n",
       "3701  chalet aux cenfans         ·          md aubergiste         pierre   \n",
       "\n",
       "                chef_nom  chef_annee_naissance        epouse_nom  \\\n",
       "1     de naisse|veidmann                  1764                 ·   \n",
       "3                   piot                  1785         neissance   \n",
       "5               lavanchy                  1802              baud   \n",
       "7                 dubois                  1797                 ·   \n",
       "8                  piaux                  1787             blaud   \n",
       "...                  ...                   ...               ...   \n",
       "3697              martin                  1804         francoise   \n",
       "3698               blanc                  1806             marie   \n",
       "3699              culler                  1810                 ·   \n",
       "3700             abeiden                  1771         francoise   \n",
       "3701            debinden                  1799  jne marie|dupers   \n",
       "\n",
       "     epouse_annee_naissance  \\\n",
       "1                         ·   \n",
       "3                         ·   \n",
       "5                      1805   \n",
       "7                         ·   \n",
       "8                         ·   \n",
       "...                     ...   \n",
       "3697                   1804   \n",
       "3698                   1807   \n",
       "3699                  neene   \n",
       "3700                   1773   \n",
       "3701                   1797   \n",
       "\n",
       "                         enfants_dans_la_commune_prenom  \\\n",
       "1                                                     ·   \n",
       "3                                              benjamin   \n",
       "5                                                     ·   \n",
       "7                                                     ·   \n",
       "8                               felix|charles|ernestine   \n",
       "...                                                 ...   \n",
       "3697                                        henry|david   \n",
       "3698                           charles elie|louis jules   \n",
       "3699  jn louise|lse susanne|jean marc|jaques|ct fran...   \n",
       "3700                                                  ·   \n",
       "3701                               jn susanne|jn louise   \n",
       "\n",
       "                 enfants_annee_naissance  ... chef_annee_arrivee  \\\n",
       "1                                      ·  ...               1786   \n",
       "3                                   1815  ...                nee   \n",
       "5                                      ·  ...                 ne   \n",
       "7                                      ·  ...               1828   \n",
       "8                            1826|·|1822  ...                 ne   \n",
       "...                                  ...  ...                ...   \n",
       "3697                           1829|1830  ...                  ·   \n",
       "3698                           1829|1831  ...               1830   \n",
       "3699  1800|1803|1806|1808|1809|1812|1814  ...               1820   \n",
       "3700                                   ·  ...                  ·   \n",
       "3701                           1821|1831  ...                  ·   \n",
       "\n",
       "        chef_vocation chef_recepisse          pensionnaires_prenom  \\\n",
       "1              charon            844  louise|anna|francois|jn adam   \n",
       "3             lingere           2272                             ·   \n",
       "5     garcon viturier           4462                             ·   \n",
       "7      abenitte|no de           1490    adolphine cecile|adolphine   \n",
       "8             rentier              ·                    rose marie   \n",
       "...               ...            ...                           ...   \n",
       "3697             atif              ·                             ·   \n",
       "3698      journallier              ·                             ·   \n",
       "3699      agriculteur            922                             ·   \n",
       "3700      agriculteur            612                             ·   \n",
       "3701         fruisier           1007                             ·   \n",
       "\n",
       "                        pensionnaires_nom               pensionnaires_origine  \\\n",
       "1     veidmann|la maurer|kirsner|reverber  tolochenaz|frutigen|cirol|bavarois   \n",
       "3                                       ·                                   ·   \n",
       "5                                       ·                                   ·   \n",
       "7                         borrely|borrely              paris|enfant de la che   \n",
       "8                                 metraux                              pailly   \n",
       "...                                   ...                                 ...   \n",
       "3697                                    ·                                   ·   \n",
       "3698                                    ·                                   ·   \n",
       "3699                                    ·                                   ·   \n",
       "3700                                    ·                                   ·   \n",
       "3701                                    ·                                   ·   \n",
       "\n",
       "                               pensionnaires_condition  \\\n",
       "1     petite fille naturelle|dom|macon|ouvrier charron   \n",
       "3                                                    ·   \n",
       "5                                                    ·   \n",
       "7                                lingere|dite nee en o   \n",
       "8                                               domest   \n",
       "...                                                ...   \n",
       "3697                                                 ·   \n",
       "3698                                                 ·   \n",
       "3699                                                 ·   \n",
       "3700                                                 ·   \n",
       "3701                                                 ·   \n",
       "\n",
       "     pensionnaires_recepisse            observations Page  \n",
       "1          12879|10913|16222  de barhara taidman nee    1  \n",
       "3                          ·                       ·    1  \n",
       "5                          ·                       ·    1  \n",
       "7                        489                       ·    1  \n",
       "8                       3370                       ·    1  \n",
       "...                      ...                     ...  ...  \n",
       "3697                       ·                       ·  150  \n",
       "3698                       ·                       ·  151  \n",
       "3699                       ·                       ·  151  \n",
       "3700                       ·                       ·  151  \n",
       "3701                       ·                       ·  151  \n",
       "\n",
       "[2877 rows x 21 columns]"
      ]
     },
     "execution_count": 11,
     "metadata": {},
     "output_type": "execute_result"
    }
   ],
   "source": [
    "df_new"
   ]
  },
  {
   "cell_type": "code",
   "execution_count": 12,
   "metadata": {},
   "outputs": [
    {
     "data": {
      "text/html": [
       "<div>\n",
       "<style scoped>\n",
       "    .dataframe tbody tr th:only-of-type {\n",
       "        vertical-align: middle;\n",
       "    }\n",
       "\n",
       "    .dataframe tbody tr th {\n",
       "        vertical-align: top;\n",
       "    }\n",
       "\n",
       "    .dataframe thead th {\n",
       "        text-align: right;\n",
       "    }\n",
       "</style>\n",
       "<table border=\"1\" class=\"dataframe\">\n",
       "  <thead>\n",
       "    <tr style=\"text-align: right;\">\n",
       "      <th></th>\n",
       "      <th>chef_annee_naissance</th>\n",
       "      <th>Page</th>\n",
       "    </tr>\n",
       "  </thead>\n",
       "  <tbody>\n",
       "    <tr>\n",
       "      <th>count</th>\n",
       "      <td>2877.000000</td>\n",
       "      <td>2877.000000</td>\n",
       "    </tr>\n",
       "    <tr>\n",
       "      <th>mean</th>\n",
       "      <td>1785.818561</td>\n",
       "      <td>75.569343</td>\n",
       "    </tr>\n",
       "    <tr>\n",
       "      <th>std</th>\n",
       "      <td>14.055069</td>\n",
       "      <td>41.524744</td>\n",
       "    </tr>\n",
       "    <tr>\n",
       "      <th>min</th>\n",
       "      <td>1741.000000</td>\n",
       "      <td>1.000000</td>\n",
       "    </tr>\n",
       "    <tr>\n",
       "      <th>25%</th>\n",
       "      <td>1776.000000</td>\n",
       "      <td>42.000000</td>\n",
       "    </tr>\n",
       "    <tr>\n",
       "      <th>50%</th>\n",
       "      <td>1787.000000</td>\n",
       "      <td>77.000000</td>\n",
       "    </tr>\n",
       "    <tr>\n",
       "      <th>75%</th>\n",
       "      <td>1797.000000</td>\n",
       "      <td>109.000000</td>\n",
       "    </tr>\n",
       "    <tr>\n",
       "      <th>max</th>\n",
       "      <td>1824.000000</td>\n",
       "      <td>151.000000</td>\n",
       "    </tr>\n",
       "  </tbody>\n",
       "</table>\n",
       "</div>"
      ],
      "text/plain": [
       "       chef_annee_naissance         Page\n",
       "count           2877.000000  2877.000000\n",
       "mean            1785.818561    75.569343\n",
       "std               14.055069    41.524744\n",
       "min             1741.000000     1.000000\n",
       "25%             1776.000000    42.000000\n",
       "50%             1787.000000    77.000000\n",
       "75%             1797.000000   109.000000\n",
       "max             1824.000000   151.000000"
      ]
     },
     "execution_count": 12,
     "metadata": {},
     "output_type": "execute_result"
    }
   ],
   "source": [
    "df_new.describe()"
   ]
  },
  {
   "cell_type": "code",
   "execution_count": 13,
   "metadata": {},
   "outputs": [
    {
     "data": {
      "text/html": [
       "<div>\n",
       "<style scoped>\n",
       "    .dataframe tbody tr th:only-of-type {\n",
       "        vertical-align: middle;\n",
       "    }\n",
       "\n",
       "    .dataframe tbody tr th {\n",
       "        vertical-align: top;\n",
       "    }\n",
       "\n",
       "    .dataframe thead th {\n",
       "        text-align: right;\n",
       "    }\n",
       "</style>\n",
       "<table border=\"1\" class=\"dataframe\">\n",
       "  <thead>\n",
       "    <tr style=\"text-align: right;\">\n",
       "      <th></th>\n",
       "      <th>nom_rue</th>\n",
       "      <th>no_maison</th>\n",
       "      <th>proprietaire_nom</th>\n",
       "      <th>chef_prenom</th>\n",
       "      <th>chef_nom</th>\n",
       "      <th>chef_annee_naissance</th>\n",
       "      <th>epouse_nom</th>\n",
       "      <th>epouse_annee_naissance</th>\n",
       "      <th>enfants_dans_la_commune_prenom</th>\n",
       "      <th>enfants_annee_naissance</th>\n",
       "      <th>...</th>\n",
       "      <th>chef_annee_arrivee</th>\n",
       "      <th>chef_vocation</th>\n",
       "      <th>chef_recepisse</th>\n",
       "      <th>pensionnaires_prenom</th>\n",
       "      <th>pensionnaires_nom</th>\n",
       "      <th>pensionnaires_origine</th>\n",
       "      <th>pensionnaires_condition</th>\n",
       "      <th>pensionnaires_recepisse</th>\n",
       "      <th>observations</th>\n",
       "      <th>Page</th>\n",
       "    </tr>\n",
       "  </thead>\n",
       "  <tbody>\n",
       "    <tr>\n",
       "      <th>563</th>\n",
       "      <td>saux</td>\n",
       "      <td>·</td>\n",
       "      <td>·</td>\n",
       "      <td>jean david</td>\n",
       "      <td>martin</td>\n",
       "      <td>1824</td>\n",
       "      <td>coulin</td>\n",
       "      <td>1804</td>\n",
       "      <td>francois|emanuel</td>\n",
       "      <td>1828|1830</td>\n",
       "      <td>...</td>\n",
       "      <td>·</td>\n",
       "      <td>tanneur</td>\n",
       "      <td>3185</td>\n",
       "      <td>louise</td>\n",
       "      <td>maillari</td>\n",
       "      <td>perey</td>\n",
       "      <td>pensionnaire</td>\n",
       "      <td>4850</td>\n",
       "      <td>·</td>\n",
       "      <td>22</td>\n",
       "    </tr>\n",
       "  </tbody>\n",
       "</table>\n",
       "<p>1 rows × 21 columns</p>\n",
       "</div>"
      ],
      "text/plain": [
       "    nom_rue no_maison proprietaire_nom chef_prenom chef_nom  \\\n",
       "563    saux         ·                ·  jean david   martin   \n",
       "\n",
       "     chef_annee_naissance epouse_nom epouse_annee_naissance  \\\n",
       "563                  1824     coulin                   1804   \n",
       "\n",
       "    enfants_dans_la_commune_prenom enfants_annee_naissance  ...  \\\n",
       "563               francois|emanuel               1828|1830  ...   \n",
       "\n",
       "    chef_annee_arrivee chef_vocation chef_recepisse pensionnaires_prenom  \\\n",
       "563                  ·       tanneur           3185               louise   \n",
       "\n",
       "    pensionnaires_nom pensionnaires_origine pensionnaires_condition  \\\n",
       "563          maillari                 perey            pensionnaire   \n",
       "\n",
       "    pensionnaires_recepisse observations Page  \n",
       "563                    4850            ·   22  \n",
       "\n",
       "[1 rows x 21 columns]"
      ]
     },
     "execution_count": 13,
     "metadata": {},
     "output_type": "execute_result"
    }
   ],
   "source": [
    "df_new[df_new.chef_annee_naissance == 1824]"
   ]
  },
  {
   "cell_type": "code",
   "execution_count": null,
   "metadata": {},
   "outputs": [],
   "source": []
  },
  {
   "cell_type": "markdown",
   "metadata": {},
   "source": [
    "Find the proprietary that comes up the most frequently."
   ]
  },
  {
   "cell_type": "code",
   "execution_count": 14,
   "metadata": {},
   "outputs": [
    {
     "data": {
      "text/plain": [
       "proprietaire_nom\n",
       "·            1748\n",
       "blanc          27\n",
       "iio            13\n",
       "rouge          12\n",
       "chapuis        12\n",
       "             ... \n",
       "fischer         1\n",
       "forneret        1\n",
       "fraisse         1\n",
       "franallon       1\n",
       "·|nos           1\n",
       "Length: 735, dtype: int64"
      ]
     },
     "execution_count": 14,
     "metadata": {},
     "output_type": "execute_result"
    }
   ],
   "source": [
    "df_new.groupby(\"proprietaire_nom\").size().sort_values(ascending=False)"
   ]
  },
  {
   "cell_type": "markdown",
   "metadata": {},
   "source": [
    "Number of children:"
   ]
  },
  {
   "cell_type": "code",
   "execution_count": 15,
   "metadata": {},
   "outputs": [],
   "source": [
    "def count_children(s: str) -> int:\n",
    "    if s == '·' or s == '.':\n",
    "        return 0\n",
    "    return s.count(\"|\") + 1\n",
    "\n",
    "df_new[\"nb_enfants\"] = df_new.enfants_dans_la_commune_prenom.apply(count_children)"
   ]
  },
  {
   "cell_type": "code",
   "execution_count": 16,
   "metadata": {},
   "outputs": [
    {
     "data": {
      "text/html": [
       "<div>\n",
       "<style scoped>\n",
       "    .dataframe tbody tr th:only-of-type {\n",
       "        vertical-align: middle;\n",
       "    }\n",
       "\n",
       "    .dataframe tbody tr th {\n",
       "        vertical-align: top;\n",
       "    }\n",
       "\n",
       "    .dataframe thead th {\n",
       "        text-align: right;\n",
       "    }\n",
       "</style>\n",
       "<table border=\"1\" class=\"dataframe\">\n",
       "  <thead>\n",
       "    <tr style=\"text-align: right;\">\n",
       "      <th></th>\n",
       "      <th>chef_annee_naissance</th>\n",
       "      <th>Page</th>\n",
       "      <th>nb_enfants</th>\n",
       "    </tr>\n",
       "  </thead>\n",
       "  <tbody>\n",
       "    <tr>\n",
       "      <th>count</th>\n",
       "      <td>2877.000000</td>\n",
       "      <td>2877.000000</td>\n",
       "      <td>2877.000000</td>\n",
       "    </tr>\n",
       "    <tr>\n",
       "      <th>mean</th>\n",
       "      <td>1785.818561</td>\n",
       "      <td>75.569343</td>\n",
       "      <td>1.534932</td>\n",
       "    </tr>\n",
       "    <tr>\n",
       "      <th>std</th>\n",
       "      <td>14.055069</td>\n",
       "      <td>41.524744</td>\n",
       "      <td>1.698168</td>\n",
       "    </tr>\n",
       "    <tr>\n",
       "      <th>min</th>\n",
       "      <td>1741.000000</td>\n",
       "      <td>1.000000</td>\n",
       "      <td>0.000000</td>\n",
       "    </tr>\n",
       "    <tr>\n",
       "      <th>25%</th>\n",
       "      <td>1776.000000</td>\n",
       "      <td>42.000000</td>\n",
       "      <td>0.000000</td>\n",
       "    </tr>\n",
       "    <tr>\n",
       "      <th>50%</th>\n",
       "      <td>1787.000000</td>\n",
       "      <td>77.000000</td>\n",
       "      <td>1.000000</td>\n",
       "    </tr>\n",
       "    <tr>\n",
       "      <th>75%</th>\n",
       "      <td>1797.000000</td>\n",
       "      <td>109.000000</td>\n",
       "      <td>2.000000</td>\n",
       "    </tr>\n",
       "    <tr>\n",
       "      <th>max</th>\n",
       "      <td>1824.000000</td>\n",
       "      <td>151.000000</td>\n",
       "      <td>10.000000</td>\n",
       "    </tr>\n",
       "  </tbody>\n",
       "</table>\n",
       "</div>"
      ],
      "text/plain": [
       "       chef_annee_naissance         Page   nb_enfants\n",
       "count           2877.000000  2877.000000  2877.000000\n",
       "mean            1785.818561    75.569343     1.534932\n",
       "std               14.055069    41.524744     1.698168\n",
       "min             1741.000000     1.000000     0.000000\n",
       "25%             1776.000000    42.000000     0.000000\n",
       "50%             1787.000000    77.000000     1.000000\n",
       "75%             1797.000000   109.000000     2.000000\n",
       "max             1824.000000   151.000000    10.000000"
      ]
     },
     "execution_count": 16,
     "metadata": {},
     "output_type": "execute_result"
    }
   ],
   "source": [
    "df_new.describe()"
   ]
  },
  {
   "cell_type": "code",
   "execution_count": 25,
   "metadata": {},
   "outputs": [
    {
     "data": {
      "text/plain": [
       "<AxesSubplot:title={'center':'Distribution des années de naissance du chef'}, xlabel='chef_annee_naissance', ylabel='Count'>"
      ]
     },
     "execution_count": 25,
     "metadata": {},
     "output_type": "execute_result"
    },
    {
     "data": {
      "image/png": "[encoded data removed]",
      "text/plain": [
       "<Figure size 640x480 with 1 Axes>"
      ]
     },
     "metadata": {},
     "output_type": "display_data"
    }
   ],
   "source": [
    "plt.title(\"Distribution des années de naissance du chef\")\n",
    "sns.histplot(data=df_new, x=\"chef_annee_naissance\", bins=30)"
   ]
  },
  {
   "cell_type": "code",
   "execution_count": 18,
   "metadata": {},
   "outputs": [
    {
     "data": {
      "text/plain": [
       "<AxesSubplot:title={'center':\"Distribution du nombre d'enfants\"}, xlabel='nb_enfants', ylabel='Count'>"
      ]
     },
     "execution_count": 18,
     "metadata": {},
     "output_type": "execute_result"
    },
    {
     "data": {
      "image/png": "[encoded data removed]",
      "text/plain": [
       "<Figure size 640x480 with 1 Axes>"
      ]
     },
     "metadata": {},
     "output_type": "display_data"
    }
   ],
   "source": [
    "plt.title(\"Distribution du nombre d'enfants\")\n",
    "sns.histplot(data=df_new, x=\"nb_enfants\", discrete=True)"
   ]
  },
  {
   "cell_type": "code",
   "execution_count": 37,
   "metadata": {},
   "outputs": [],
   "source": [
    "import statsmodels.api as sm\n",
    "import scipy"
   ]
  },
  {
   "cell_type": "code",
   "execution_count": 68,
   "metadata": {},
   "outputs": [
    {
     "ename": "TypeError",
     "evalue": "'int' object is not iterable",
     "output_type": "error",
     "traceback": [
      "\u001b[1;31m---------------------------------------------------------------------------\u001b[0m",
      "\u001b[1;31mTypeError\u001b[0m                                 Traceback (most recent call last)",
      "File \u001b[1;32mc:\\Users\\Ozan\\anaconda3\\envs\\shs\\lib\\site-packages\\statsmodels\\graphics\\gofplots.py:232\u001b[0m, in \u001b[0;36mProbPlot.__init__\u001b[1;34m(self, data, dist, fit, distargs, a, loc, scale)\u001b[0m\n\u001b[0;32m    231\u001b[0m \u001b[39mtry\u001b[39;00m:\n\u001b[1;32m--> 232\u001b[0m     \u001b[39mself\u001b[39m\u001b[39m.\u001b[39mdist \u001b[39m=\u001b[39m dist(\u001b[39m*\u001b[39mdistargs, \u001b[39m*\u001b[39m\u001b[39m*\u001b[39m\u001b[39mdict\u001b[39m(loc\u001b[39m=\u001b[39mloc, scale\u001b[39m=\u001b[39mscale))\n\u001b[0;32m    233\u001b[0m \u001b[39mexcept\u001b[39;00m \u001b[39mException\u001b[39;00m:\n",
      "\u001b[1;31mTypeError\u001b[0m: scipy.stats._distn_infrastructure.rv_generic.stats() argument after * must be an iterable, not int",
      "\nDuring handling of the above exception, another exception occurred:\n",
      "\u001b[1;31mTypeError\u001b[0m                                 Traceback (most recent call last)",
      "\u001b[1;32mc:\\Users\\Ozan\\Documents\\Recensements19e-20221102\\rec_1832.ipynb Cell 23\u001b[0m in \u001b[0;36m<cell line: 1>\u001b[1;34m()\u001b[0m\n\u001b[1;32m----> <a href='vscode-notebook-cell:/c%3A/Users/Ozan/Documents/Recensements19e-20221102/rec_1832.ipynb#X34sZmlsZQ%3D%3D?line=0'>1</a>\u001b[0m sm\u001b[39m.\u001b[39;49mqqplot(df_new\u001b[39m.\u001b[39;49mnb_enfants, line\u001b[39m=\u001b[39;49m\u001b[39m'\u001b[39;49m\u001b[39m45\u001b[39;49m\u001b[39m'\u001b[39;49m, dist\u001b[39m=\u001b[39;49mscipy\u001b[39m.\u001b[39;49mstats\u001b[39m.\u001b[39;49mpoisson\u001b[39m.\u001b[39;49mstats, distargs\u001b[39m=\u001b[39;49m\u001b[39m5\u001b[39;49m)\n",
      "File \u001b[1;32mc:\\Users\\Ozan\\anaconda3\\envs\\shs\\lib\\site-packages\\statsmodels\\graphics\\gofplots.py:688\u001b[0m, in \u001b[0;36mqqplot\u001b[1;34m(data, dist, distargs, a, loc, scale, fit, line, ax, **plotkwargs)\u001b[0m\n\u001b[0;32m    581\u001b[0m \u001b[39mdef\u001b[39;00m \u001b[39mqqplot\u001b[39m(\n\u001b[0;32m    582\u001b[0m     data,\n\u001b[0;32m    583\u001b[0m     dist\u001b[39m=\u001b[39mstats\u001b[39m.\u001b[39mnorm,\n\u001b[1;32m   (...)\u001b[0m\n\u001b[0;32m    591\u001b[0m     \u001b[39m*\u001b[39m\u001b[39m*\u001b[39mplotkwargs,\n\u001b[0;32m    592\u001b[0m ):\n\u001b[0;32m    593\u001b[0m     \u001b[39m\"\"\"\u001b[39;00m\n\u001b[0;32m    594\u001b[0m \u001b[39m    Q-Q plot of the quantiles of x versus the quantiles/ppf of a distribution.\u001b[39;00m\n\u001b[0;32m    595\u001b[0m \n\u001b[1;32m   (...)\u001b[0m\n\u001b[0;32m    686\u001b[0m \u001b[39m    .. plot:: plots/graphics_gofplots_qqplot.py\u001b[39;00m\n\u001b[0;32m    687\u001b[0m \u001b[39m    \"\"\"\u001b[39;00m\n\u001b[1;32m--> 688\u001b[0m     probplot \u001b[39m=\u001b[39m ProbPlot(\n\u001b[0;32m    689\u001b[0m         data, dist\u001b[39m=\u001b[39;49mdist, distargs\u001b[39m=\u001b[39;49mdistargs, fit\u001b[39m=\u001b[39;49mfit, a\u001b[39m=\u001b[39;49ma, loc\u001b[39m=\u001b[39;49mloc, scale\u001b[39m=\u001b[39;49mscale\n\u001b[0;32m    690\u001b[0m     )\n\u001b[0;32m    691\u001b[0m     fig \u001b[39m=\u001b[39m probplot\u001b[39m.\u001b[39mqqplot(ax\u001b[39m=\u001b[39max, line\u001b[39m=\u001b[39mline, \u001b[39m*\u001b[39m\u001b[39m*\u001b[39mplotkwargs)\n\u001b[0;32m    692\u001b[0m     \u001b[39mreturn\u001b[39;00m fig\n",
      "File \u001b[1;32mc:\\Users\\Ozan\\anaconda3\\envs\\shs\\lib\\site-packages\\statsmodels\\graphics\\gofplots.py:234\u001b[0m, in \u001b[0;36mProbPlot.__init__\u001b[1;34m(self, data, dist, fit, distargs, a, loc, scale)\u001b[0m\n\u001b[0;32m    232\u001b[0m     \u001b[39mself\u001b[39m\u001b[39m.\u001b[39mdist \u001b[39m=\u001b[39m dist(\u001b[39m*\u001b[39mdistargs, \u001b[39m*\u001b[39m\u001b[39m*\u001b[39m\u001b[39mdict\u001b[39m(loc\u001b[39m=\u001b[39mloc, scale\u001b[39m=\u001b[39mscale))\n\u001b[0;32m    233\u001b[0m \u001b[39mexcept\u001b[39;00m \u001b[39mException\u001b[39;00m:\n\u001b[1;32m--> 234\u001b[0m     distargs \u001b[39m=\u001b[39m \u001b[39m\"\u001b[39m\u001b[39m, \u001b[39m\u001b[39m\"\u001b[39m\u001b[39m.\u001b[39mjoin([\u001b[39mstr\u001b[39m(da) \u001b[39mfor\u001b[39;00m da \u001b[39min\u001b[39;00m distargs])\n\u001b[0;32m    235\u001b[0m     cmd \u001b[39m=\u001b[39m \u001b[39m\"\u001b[39m\u001b[39mdist(\u001b[39m\u001b[39m{distargs}\u001b[39;00m\u001b[39m, loc=\u001b[39m\u001b[39m{loc}\u001b[39;00m\u001b[39m, scale=\u001b[39m\u001b[39m{scale}\u001b[39;00m\u001b[39m)\u001b[39m\u001b[39m\"\u001b[39m\n\u001b[0;32m    236\u001b[0m     cmd \u001b[39m=\u001b[39m cmd\u001b[39m.\u001b[39mformat(distargs\u001b[39m=\u001b[39mdistargs, loc\u001b[39m=\u001b[39mloc, scale\u001b[39m=\u001b[39mscale)\n",
      "\u001b[1;31mTypeError\u001b[0m: 'int' object is not iterable"
     ]
    }
   ],
   "source": [
    "sm.qqplot(df_new.nb_enfants, line='45', dist=scipy.stats.poisson.stats, distargs=5)"
   ]
  }
 ],
 "metadata": {
  "kernelspec": {
   "display_name": "base",
   "language": "python",
   "name": "python3"
  },
  "language_info": {
   "codemirror_mode": {
    "name": "ipython",
    "version": 3
   },
   "file_extension": ".py",
   "mimetype": "text/x-python",
   "name": "python",
   "nbconvert_exporter": "python",
   "pygments_lexer": "ipython3",
   "version": "3.9.13"
  },
  "orig_nbformat": 4,
  "vscode": {
   "interpreter": {
    "hash": "019424e969de16a8bbe2e9d52a42379164901f36de92207636d2ee0147f735e6"
   }
  }
 },
 "nbformat": 4,
 "nbformat_minor": 2
}
