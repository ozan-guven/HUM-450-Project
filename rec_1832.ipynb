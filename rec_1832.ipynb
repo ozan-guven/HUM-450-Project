{
 "cells": [
  {
   "attachments": {},
   "cell_type": "markdown",
   "metadata": {},
   "source": [
    "# Statistiques sur les données de recensement de 1832"
   ]
  },
  {
   "cell_type": "code",
   "execution_count": 1,
   "metadata": {},
   "outputs": [],
   "source": [
    "import numpy as np\n",
    "import pandas as pd\n",
    "import seaborn as sns\n",
    "import matplotlib.pyplot as plt\n",
    "import re\n",
    "\n",
    "from scipy import stats"
   ]
  },
  {
   "cell_type": "code",
   "execution_count": 2,
   "metadata": {},
   "outputs": [],
   "source": [
    "def get_color_list(cmap, n):\n",
    "    \n",
    "    values = np.linspace(0, 1, n)\n",
    "    colors = cmap(values)\n",
    "    colors = [color[:3] for color in colors]\n",
    "    return colors"
   ]
  },
  {
   "cell_type": "code",
   "execution_count": 6,
   "metadata": {},
   "outputs": [],
   "source": [
    "df = pd.read_excel(\"data/1832_v4.xlsx\", index_col=0)\n",
    "jobs = pd.read_excel(\"data/histoire urbaine digitale classification metiers.xlsx\", na_values=\"?\", sheet_name=\"data\")"
   ]
  },
  {
   "cell_type": "code",
   "execution_count": 7,
   "metadata": {},
   "outputs": [],
   "source": [
    "df = df[[\n",
    "    \"nom_rue_norm_2\",\n",
    "    \"no_maison\",\n",
    "    \"proprietaire_nom_norm_2\",\n",
    "    \"chef_prenom_norm\",\n",
    "    \"chef_nom_norm_2\",\n",
    "    \"chef_annee_naissance\",\n",
    "    \"epouse_nom_norm\",\n",
    "    \"epouse_annee_naissance\",\n",
    "    \"enfants_dans_la_commune_prenom_norm\",\n",
    "    \"enfants_annee_naissance\",\n",
    "    \"chef_origine_norm_2\",\n",
    "    \"chef_annee_arrivee\",\n",
    "    \"chef_vocation_norm_2\",\n",
    "    \"pensionnaires_prenom_norm\",\n",
    "    \"pensionnaires_nom_norm\",\n",
    "    \"pensionnaires_origine_norm\",\n",
    "    \"Page\"\n",
    "]]"
   ]
  },
  {
   "cell_type": "code",
   "execution_count": 8,
   "metadata": {},
   "outputs": [],
   "source": [
    "# remove \"_norm_2\" from all column names\n",
    "df.columns = [re.sub(\"_norm_2\", \"\", col) for col in df.columns]\n",
    "# remove \"_norm\" from all column names\n",
    "df.columns = [re.sub(\"_norm\", \"\", col) for col in df.columns]"
   ]
  },
  {
   "cell_type": "code",
   "execution_count": 9,
   "metadata": {},
   "outputs": [
    {
     "data": {
      "text/plain": [
       "Index(['nom_rue', 'no_maison', 'proprietaire_nom', 'chef_prenom', 'chef_nom',\n",
       "       'chef_annee_naissance', 'epouse_nom', 'epouse_annee_naissance',\n",
       "       'enfants_dans_la_commune_prenom', 'enfants_annee_naissance',\n",
       "       'chef_origine', 'chef_annee_arrivee', 'chef_vocation',\n",
       "       'pensionnaires_prenom', 'pensionnaires_nom', 'pensionnaires_origine',\n",
       "       'Page'],\n",
       "      dtype='object')"
      ]
     },
     "execution_count": 9,
     "metadata": {},
     "output_type": "execute_result"
    }
   ],
   "source": [
    "df.columns"
   ]
  },
  {
   "cell_type": "code",
   "execution_count": 12,
   "metadata": {},
   "outputs": [],
   "source": [
    "# Join df and jobs with chef_vocation in df and JOB in jobs\n",
    "df = df.join(jobs.set_index(\"JOB\"), on=\"chef_vocation\", how=\"left\")\n",
    "# rename the CLASS column as chef_vocation_class\n",
    "df = df.rename(columns={\"CLASS\": \"chef_vocation_class\"})"
   ]
  },
  {
   "cell_type": "code",
   "execution_count": 13,
   "metadata": {},
   "outputs": [
    {
     "data": {
      "text/html": [
       "<div>\n",
       "<style scoped>\n",
       "    .dataframe tbody tr th:only-of-type {\n",
       "        vertical-align: middle;\n",
       "    }\n",
       "\n",
       "    .dataframe tbody tr th {\n",
       "        vertical-align: top;\n",
       "    }\n",
       "\n",
       "    .dataframe thead th {\n",
       "        text-align: right;\n",
       "    }\n",
       "</style>\n",
       "<table border=\"1\" class=\"dataframe\">\n",
       "  <thead>\n",
       "    <tr style=\"text-align: right;\">\n",
       "      <th></th>\n",
       "      <th>chef_vocation</th>\n",
       "      <th>chef_vocation_class</th>\n",
       "    </tr>\n",
       "  </thead>\n",
       "  <tbody>\n",
       "    <tr>\n",
       "      <th>1</th>\n",
       "      <td>charon</td>\n",
       "      <td>NaN</td>\n",
       "    </tr>\n",
       "    <tr>\n",
       "      <th>2</th>\n",
       "      <td>marechal-ferrant</td>\n",
       "      <td>artisanat</td>\n",
       "    </tr>\n",
       "    <tr>\n",
       "      <th>3</th>\n",
       "      <td>lingere</td>\n",
       "      <td>service</td>\n",
       "    </tr>\n",
       "    <tr>\n",
       "      <th>4</th>\n",
       "      <td>rentier</td>\n",
       "      <td>rente</td>\n",
       "    </tr>\n",
       "    <tr>\n",
       "      <th>5</th>\n",
       "      <td>garcon voiturier</td>\n",
       "      <td>NaN</td>\n",
       "    </tr>\n",
       "    <tr>\n",
       "      <th>...</th>\n",
       "      <td>...</td>\n",
       "      <td>...</td>\n",
       "    </tr>\n",
       "    <tr>\n",
       "      <th>3697</th>\n",
       "      <td>agriculteur</td>\n",
       "      <td>agricole</td>\n",
       "    </tr>\n",
       "    <tr>\n",
       "      <th>3698</th>\n",
       "      <td>journalier</td>\n",
       "      <td>agricole</td>\n",
       "    </tr>\n",
       "    <tr>\n",
       "      <th>3699</th>\n",
       "      <td>agriculteur</td>\n",
       "      <td>agricole</td>\n",
       "    </tr>\n",
       "    <tr>\n",
       "      <th>3700</th>\n",
       "      <td>agriculteur</td>\n",
       "      <td>agricole</td>\n",
       "    </tr>\n",
       "    <tr>\n",
       "      <th>3701</th>\n",
       "      <td>fruitier</td>\n",
       "      <td>NaN</td>\n",
       "    </tr>\n",
       "  </tbody>\n",
       "</table>\n",
       "<p>3674 rows × 2 columns</p>\n",
       "</div>"
      ],
      "text/plain": [
       "         chef_vocation chef_vocation_class\n",
       "1               charon                 NaN\n",
       "2     marechal-ferrant           artisanat\n",
       "3              lingere             service\n",
       "4              rentier               rente\n",
       "5     garcon voiturier                 NaN\n",
       "...                ...                 ...\n",
       "3697       agriculteur            agricole\n",
       "3698        journalier            agricole\n",
       "3699       agriculteur            agricole\n",
       "3700       agriculteur            agricole\n",
       "3701          fruitier                 NaN\n",
       "\n",
       "[3674 rows x 2 columns]"
      ]
     },
     "execution_count": 13,
     "metadata": {},
     "output_type": "execute_result"
    }
   ],
   "source": [
    "df[[\"chef_vocation\", \"chef_vocation_class\"]]"
   ]
  },
  {
   "cell_type": "code",
   "execution_count": 14,
   "metadata": {},
   "outputs": [
    {
     "data": {
      "text/html": [
       "<div>\n",
       "<style scoped>\n",
       "    .dataframe tbody tr th:only-of-type {\n",
       "        vertical-align: middle;\n",
       "    }\n",
       "\n",
       "    .dataframe tbody tr th {\n",
       "        vertical-align: top;\n",
       "    }\n",
       "\n",
       "    .dataframe thead th {\n",
       "        text-align: right;\n",
       "    }\n",
       "</style>\n",
       "<table border=\"1\" class=\"dataframe\">\n",
       "  <thead>\n",
       "    <tr style=\"text-align: right;\">\n",
       "      <th></th>\n",
       "      <th>JOB</th>\n",
       "      <th>CLASS</th>\n",
       "    </tr>\n",
       "  </thead>\n",
       "  <tbody>\n",
       "    <tr>\n",
       "      <th>40</th>\n",
       "      <td>ministre</td>\n",
       "      <td>administration</td>\n",
       "    </tr>\n",
       "  </tbody>\n",
       "</table>\n",
       "</div>"
      ],
      "text/plain": [
       "         JOB           CLASS\n",
       "40  ministre  administration"
      ]
     },
     "execution_count": 14,
     "metadata": {},
     "output_type": "execute_result"
    }
   ],
   "source": [
    "jobs[jobs.JOB == \"ministre\"]"
   ]
  },
  {
   "cell_type": "code",
   "execution_count": 15,
   "metadata": {},
   "outputs": [
    {
     "data": {
      "text/plain": [
       "array([nan, 'artisanat', 'service', 'rente', 'commerce',\n",
       "       'artisanat/service', 'agricole', 'construction',\n",
       "       'artisanat/construction', 'administration',\n",
       "       'construction/artisanat', 'service/construction',\n",
       "       'service/artisanat'], dtype=object)"
      ]
     },
     "execution_count": 15,
     "metadata": {},
     "output_type": "execute_result"
    }
   ],
   "source": [
    "df.chef_vocation_class.unique()"
   ]
  },
  {
   "cell_type": "code",
   "execution_count": 16,
   "metadata": {},
   "outputs": [
    {
     "data": {
      "text/plain": [
       "Index(['nom_rue', 'no_maison', 'proprietaire_nom', 'chef_prenom', 'chef_nom',\n",
       "       'chef_annee_naissance', 'epouse_nom', 'epouse_annee_naissance',\n",
       "       'enfants_dans_la_commune_prenom', 'enfants_annee_naissance',\n",
       "       'chef_origine', 'chef_annee_arrivee', 'chef_vocation',\n",
       "       'pensionnaires_prenom', 'pensionnaires_nom', 'pensionnaires_origine',\n",
       "       'Page', 'chef_vocation_class'],\n",
       "      dtype='object')"
      ]
     },
     "execution_count": 16,
     "metadata": {},
     "output_type": "execute_result"
    }
   ],
   "source": [
    "df.columns"
   ]
  },
  {
   "cell_type": "code",
   "execution_count": 17,
   "metadata": {},
   "outputs": [
    {
     "data": {
      "text/plain": [
       "(3674, 18)"
      ]
     },
     "execution_count": 17,
     "metadata": {},
     "output_type": "execute_result"
    }
   ],
   "source": [
    "df.shape"
   ]
  },
  {
   "attachments": {},
   "cell_type": "markdown",
   "metadata": {},
   "source": [
    "## Statistiques sur les lieux d'origines des chefs de famille"
   ]
  },
  {
   "cell_type": "code",
   "execution_count": 18,
   "metadata": {},
   "outputs": [
    {
     "data": {
      "text/plain": [
       "(3674,)"
      ]
     },
     "execution_count": 18,
     "metadata": {},
     "output_type": "execute_result"
    }
   ],
   "source": [
    "df.chef_origine.shape"
   ]
  },
  {
   "cell_type": "code",
   "execution_count": 67,
   "metadata": {},
   "outputs": [
    {
     "name": "stdout",
     "output_type": "stream",
     "text": [
      "Nombre d'indéfini 126, cela représente 3.44% des données\n"
     ]
    },
    {
     "data": {
      "text/plain": [
       "chef_origine\n",
       "lausanne                 622\n",
       "lutry                    102\n",
       "corporation francaise     73\n",
       "epalinges                 68\n",
       "villette                  53\n",
       "dtype: int64"
      ]
     },
     "execution_count": 67,
     "metadata": {},
     "output_type": "execute_result"
    }
   ],
   "source": [
    "origins = df.groupby(\"chef_origine\").size().sort_values(ascending=False)\n",
    "# drop the index ·\n",
    "print(f\"Nombre d'indéfini {origins.loc['·']}, cela représente {origins.loc['·']/origins.sum():.2%} des données\")\n",
    "origins = origins.drop(\"·\", axis=0)\n",
    "origins.head()"
   ]
  },
  {
   "cell_type": "code",
   "execution_count": 69,
   "metadata": {},
   "outputs": [],
   "source": [
    "#for i in df.groupby(\"chef_origine\").size().sort_values(ascending=False).index:\n",
    "#    print(i)"
   ]
  },
  {
   "cell_type": "code",
   "execution_count": 20,
   "metadata": {},
   "outputs": [
    {
     "data": {
      "text/plain": [
       "0.34471455886369845"
      ]
     },
     "execution_count": 20,
     "metadata": {},
     "output_type": "execute_result"
    },
    {
     "data": {
      "image/png": "[encoded data removed]",
      "text/plain": [
       "<Figure size 640x480 with 1 Axes>"
      ]
     },
     "metadata": {},
     "output_type": "display_data"
    }
   ],
   "source": [
    "# Get the percentage of the population that is represented by the top 10 origins and plot it as a graph in terms of x\n",
    "percentages = [origins.head(x).sum() / origins.sum() for x in range(0, len(origins))]\n",
    "# Plot the above as a line\n",
    "plt.title(\"Population représentée par le nombre d'origines différentes prises en compte\")\n",
    "plt.xlabel(\"Nombre d'origines différentes\")\n",
    "plt.ylabel(\"Population représentée [%]\")\n",
    "plt.grid(visible=True, which=\"both\")\n",
    "plt.plot(np.asarray(percentages) * 100,'-',color=\"#e36866\", linewidth=4)\n",
    "origins.head(12).sum() / origins.sum()"
   ]
  },
  {
   "cell_type": "code",
   "execution_count": 21,
   "metadata": {},
   "outputs": [
    {
     "data": {
      "text/plain": [
       "1197"
      ]
     },
     "execution_count": 21,
     "metadata": {},
     "output_type": "execute_result"
    }
   ],
   "source": [
    "origins[:10].sum()"
   ]
  },
  {
   "cell_type": "code",
   "execution_count": 22,
   "metadata": {},
   "outputs": [
    {
     "name": "stdout",
     "output_type": "stream",
     "text": [
      "Nombre d'indéfini 126\n"
     ]
    },
    {
     "data": {
      "image/png": "[encoded data removed]",
      "text/plain": [
       "<Figure size 640x480 with 1 Axes>"
      ]
     },
     "metadata": {},
     "output_type": "display_data"
    }
   ],
   "source": [
    "\n",
    "origins_with_others = pd.concat([origins[:12], pd.Series(origins[12:].sum(), index=[\"Autres\"])])\n",
    "# plot the top 12 origins as a bar chart with the others grouped as \"Autres\"\n",
    "plt.title(\"Top 12 des origines des chefs de famille (33% de la population)\")\n",
    "plt.xlabel(\"Origine\")\n",
    "plt.ylabel(\"Nombre de chefs de famille\")\n",
    "# plot only the horizontal grid\n",
    "plt.grid(visible=True, which=\"major\", axis=\"y\")\n",
    "plt.bar(origins[:12].index, origins[:12].values, color=get_color_list(plt.cm.Set3, 13))\n",
    "plt.xticks(rotation=90)\n",
    "plt.show()"
   ]
  },
  {
   "attachments": {},
   "cell_type": "markdown",
   "metadata": {},
   "source": [
    "On a enlevé le point parce qu'il ne represente que ???"
   ]
  },
  {
   "cell_type": "code",
   "execution_count": 23,
   "metadata": {},
   "outputs": [
    {
     "data": {
      "image/png": "[encoded data removed]",
      "text/plain": [
       "<Figure size 640x480 with 1 Axes>"
      ]
     },
     "metadata": {},
     "output_type": "display_data"
    }
   ],
   "source": [
    "# Make the same plot as above but with the percentage of the population represented by each origin in a pie chart\n",
    "plt.title(\"Top 12 des origines des chefs de famille (33% de la population)\")\n",
    "# make the percentages more readable spacing them out$\n",
    "plt.pie(origins[:12].values, labels=origins[:12].index, autopct=\"%1.1f%%\", colors=get_color_list(plt.cm.Set3, 12), pctdistance=0.8, startangle=45)\n",
    "plt.show()"
   ]
  },
  {
   "cell_type": "code",
   "execution_count": 24,
   "metadata": {},
   "outputs": [
    {
     "data": {
      "text/plain": [
       "0.1692977681001633"
      ]
     },
     "execution_count": 24,
     "metadata": {},
     "output_type": "execute_result"
    }
   ],
   "source": [
    "# What is the percentage of people comming from Lausanne ?\n",
    "origins[0] / df.shape[0]"
   ]
  },
  {
   "attachments": {},
   "cell_type": "markdown",
   "metadata": {},
   "source": [
    "$17\\%$ des chefs sont d'origine lausanoises."
   ]
  },
  {
   "attachments": {},
   "cell_type": "markdown",
   "metadata": {},
   "source": [
    "## Statistiqus sur l'année de naissance des chefs de familles"
   ]
  },
  {
   "attachments": {},
   "cell_type": "markdown",
   "metadata": {},
   "source": [
    "Les données ne sont pas propres, on a des choses bizarres dans toutes les colonnes. Pour ce faire, on essaie de prendre des données qui semblent propres."
   ]
  },
  {
   "attachments": {},
   "cell_type": "markdown",
   "metadata": {},
   "source": [
    "On ne prend que les années de naissances qui ont 4"
   ]
  },
  {
   "cell_type": "code",
   "execution_count": 25,
   "metadata": {},
   "outputs": [],
   "source": [
    "df_new = df[df.chef_annee_naissance.str.len() == 4]\n",
    "df_new = df_new[df_new.chef_annee_naissance.str.isnumeric()]\n",
    "df_new.chef_annee_naissance = df_new.chef_annee_naissance.astype(int)"
   ]
  },
  {
   "cell_type": "code",
   "execution_count": 26,
   "metadata": {},
   "outputs": [
    {
     "data": {
      "text/plain": [
       "0.7939575394665215"
      ]
     },
     "execution_count": 26,
     "metadata": {},
     "output_type": "execute_result"
    }
   ],
   "source": [
    "df_new.shape[0] / df.shape[0]"
   ]
  },
  {
   "attachments": {},
   "cell_type": "markdown",
   "metadata": {},
   "source": [
    "On obtient 79% des chefs de familles."
   ]
  },
  {
   "cell_type": "code",
   "execution_count": 39,
   "metadata": {},
   "outputs": [
    {
     "data": {
      "text/html": [
       "<div>\n",
       "<style scoped>\n",
       "    .dataframe tbody tr th:only-of-type {\n",
       "        vertical-align: middle;\n",
       "    }\n",
       "\n",
       "    .dataframe tbody tr th {\n",
       "        vertical-align: top;\n",
       "    }\n",
       "\n",
       "    .dataframe thead th {\n",
       "        text-align: right;\n",
       "    }\n",
       "</style>\n",
       "<table border=\"1\" class=\"dataframe\">\n",
       "  <thead>\n",
       "    <tr style=\"text-align: right;\">\n",
       "      <th></th>\n",
       "      <th>chef_annee_naissance</th>\n",
       "      <th>Page</th>\n",
       "    </tr>\n",
       "  </thead>\n",
       "  <tbody>\n",
       "    <tr>\n",
       "      <th>count</th>\n",
       "      <td>2876.000000</td>\n",
       "      <td>2876.000000</td>\n",
       "    </tr>\n",
       "    <tr>\n",
       "      <th>mean</th>\n",
       "      <td>1785.815021</td>\n",
       "      <td>75.590751</td>\n",
       "    </tr>\n",
       "    <tr>\n",
       "      <th>std</th>\n",
       "      <td>14.056230</td>\n",
       "      <td>41.516083</td>\n",
       "    </tr>\n",
       "    <tr>\n",
       "      <th>min</th>\n",
       "      <td>1741.000000</td>\n",
       "      <td>1.000000</td>\n",
       "    </tr>\n",
       "    <tr>\n",
       "      <th>25%</th>\n",
       "      <td>1776.000000</td>\n",
       "      <td>42.000000</td>\n",
       "    </tr>\n",
       "    <tr>\n",
       "      <th>50%</th>\n",
       "      <td>1787.000000</td>\n",
       "      <td>77.000000</td>\n",
       "    </tr>\n",
       "    <tr>\n",
       "      <th>75%</th>\n",
       "      <td>1797.000000</td>\n",
       "      <td>109.000000</td>\n",
       "    </tr>\n",
       "    <tr>\n",
       "      <th>max</th>\n",
       "      <td>1824.000000</td>\n",
       "      <td>151.000000</td>\n",
       "    </tr>\n",
       "  </tbody>\n",
       "</table>\n",
       "</div>"
      ],
      "text/plain": [
       "       chef_annee_naissance         Page\n",
       "count           2876.000000  2876.000000\n",
       "mean            1785.815021    75.590751\n",
       "std               14.056230    41.516083\n",
       "min             1741.000000     1.000000\n",
       "25%             1776.000000    42.000000\n",
       "50%             1787.000000    77.000000\n",
       "75%             1797.000000   109.000000\n",
       "max             1824.000000   151.000000"
      ]
     },
     "execution_count": 39,
     "metadata": {},
     "output_type": "execute_result"
    }
   ],
   "source": [
    "df_new.describe()"
   ]
  },
  {
   "attachments": {},
   "cell_type": "markdown",
   "metadata": {},
   "source": [
    "On se rend compte qu'il y a des anomalies encore, des gens nés en 1264 (qui deverait être 1764) et 7771 (qui deverait être 1771)."
   ]
  },
  {
   "attachments": {},
   "cell_type": "markdown",
   "metadata": {},
   "source": [
    "Remove all people that are negative or less than $0$ years old and people that are more than $100$ years old."
   ]
  },
  {
   "cell_type": "code",
   "execution_count": 40,
   "metadata": {},
   "outputs": [
    {
     "name": "stdout",
     "output_type": "stream",
     "text": [
      "Ratio of values that we keep 78.279804%, number of values that we keep is 2876.\n"
     ]
    }
   ],
   "source": [
    "df_new = df_new[(df_new.chef_annee_naissance < 1832) & (df_new.chef_annee_naissance >= 1732)]\n",
    "print(f\"Ratio of values that we keep {df_new.shape[0] / df.shape[0]:%}, number of values that we keep is {df_new.shape[0]}.\")"
   ]
  },
  {
   "attachments": {},
   "cell_type": "markdown",
   "metadata": {},
   "source": [
    "Il nous reste 78% des chefs de familles."
   ]
  },
  {
   "cell_type": "code",
   "execution_count": 41,
   "metadata": {},
   "outputs": [
    {
     "data": {
      "text/plain": [
       "<AxesSubplot:title={'center':'Distribution des années de naissance du chef'}, xlabel='chef_annee_naissance', ylabel='Count'>"
      ]
     },
     "execution_count": 41,
     "metadata": {},
     "output_type": "execute_result"
    },
    {
     "data": {
      "image/png": "[encoded data removed]",
      "text/plain": [
       "<Figure size 640x480 with 1 Axes>"
      ]
     },
     "metadata": {},
     "output_type": "display_data"
    }
   ],
   "source": [
    "plt.title(\"Distribution des années de naissance du chef\")\n",
    "sns.histplot(data=df_new, x=\"chef_annee_naissance\", bins=30, color=\"#e36866\")"
   ]
  },
  {
   "attachments": {},
   "cell_type": "markdown",
   "metadata": {},
   "source": [
    "On effectue du bootstrap pour avoir une estimation de la moyenne et avoir un intervalle de confiance."
   ]
  },
  {
   "cell_type": "code",
   "execution_count": 42,
   "metadata": {},
   "outputs": [],
   "source": [
    "# Bootstrap the mean of the chef_annee_naissance column with 10_000 samples\n",
    "means = []\n",
    "for i in range(10_000):\n",
    "    sample = df_new.chef_annee_naissance.sample(frac=1, replace=True)\n",
    "    means.append(sample.mean())"
   ]
  },
  {
   "cell_type": "code",
   "execution_count": 43,
   "metadata": {},
   "outputs": [
    {
     "data": {
      "text/plain": [
       "array([1785.3035379 , 1786.33380563])"
      ]
     },
     "execution_count": 43,
     "metadata": {},
     "output_type": "execute_result"
    }
   ],
   "source": [
    "# Compute the 95% confidence interval of the mean\n",
    "ci = np.quantile(means, [0.025, 0.975])\n",
    "ci"
   ]
  },
  {
   "cell_type": "code",
   "execution_count": 44,
   "metadata": {},
   "outputs": [
    {
     "data": {
      "image/png": "[encoded data removed]",
      "text/plain": [
       "<Figure size 640x480 with 1 Axes>"
      ]
     },
     "metadata": {},
     "output_type": "display_data"
    }
   ],
   "source": [
    "# plot the means with the 95% confidence interval\n",
    "plt.title(\"Moyenne de l'année de naissance en utilisant le bootstrap\")\n",
    "sns.histplot(means, color=\"#e36866\")\n",
    "plt.axvline(ci[0], color=\"red\", label=\"95% CI\")\n",
    "plt.axvline(ci[1], color=\"red\")\n",
    "plt.legend()\n",
    "plt.xticks(rotation=45)\n",
    "plt.axvline(np.mean(means), color=\"black\", label=f\"Moyenne\")\n",
    "plt.legend()\n",
    "plt.show()"
   ]
  },
  {
   "cell_type": "code",
   "execution_count": 45,
   "metadata": {},
   "outputs": [
    {
     "name": "stdout",
     "output_type": "stream",
     "text": [
      "La moyenne des années de naissance des chefs de famille est de 1785.82 avec un intervalle de confiance de 95% de 1785.30 à 1786.33.\n",
      "Cela s'écrirait donc 1785.8 ± 0.5.\n"
     ]
    }
   ],
   "source": [
    "# indicate the mean year of birth of the chef de famille with the 95% confidence interval\n",
    "print(f\"La moyenne des années de naissance des chefs de famille est de {np.mean(means):.2f} avec un intervalle de confiance de 95% de {ci[0]:.2f} à {ci[1]:.2f}.\")\n",
    "print(f\"Cela s'écrirait donc {np.mean(means):.1f} ± {np.mean(means) - ci[0]:.1f}.\")"
   ]
  },
  {
   "cell_type": "code",
   "execution_count": 46,
   "metadata": {},
   "outputs": [
    {
     "name": "stdout",
     "output_type": "stream",
     "text": [
      "La moyenne d'âge des chefs de famille est de 46.18 avec un intervalle de confiance de 95% de 46.70 à 45.67.\n",
      "Cela s'écrirait donc 46.2 ± 0.5.\n"
     ]
    }
   ],
   "source": [
    "# The mean age of the chef de famille\n",
    "print(f\"La moyenne d'âge des chefs de famille est de {1832 - np.mean(means):.2f} avec un intervalle de confiance de 95% de {1832 - ci[0]:.2f} à {1832 - ci[1]:.2f}.\")\n",
    "print(f\"Cela s'écrirait donc {1832 - np.mean(means):.1f} ± {np.mean(means) - ci[0]:.1f}.\")"
   ]
  },
  {
   "cell_type": "code",
   "execution_count": 47,
   "metadata": {},
   "outputs": [
    {
     "data": {
      "text/plain": [
       "(1741, 1824)"
      ]
     },
     "execution_count": 47,
     "metadata": {},
     "output_type": "execute_result"
    }
   ],
   "source": [
    "df_new.chef_annee_naissance.min(), df_new.chef_annee_naissance.max()"
   ]
  },
  {
   "cell_type": "code",
   "execution_count": 48,
   "metadata": {},
   "outputs": [
    {
     "data": {
      "text/plain": [
       "14.05622982538033"
      ]
     },
     "execution_count": 48,
     "metadata": {},
     "output_type": "execute_result"
    }
   ],
   "source": [
    "# std of the chef_annee_naissance column\n",
    "df_new.chef_annee_naissance.std()"
   ]
  },
  {
   "cell_type": "code",
   "execution_count": 49,
   "metadata": {},
   "outputs": [
    {
     "data": {
      "text/plain": [
       "count    2876.000000\n",
       "mean     1785.815021\n",
       "std        14.056230\n",
       "min      1741.000000\n",
       "25%      1776.000000\n",
       "50%      1787.000000\n",
       "75%      1797.000000\n",
       "max      1824.000000\n",
       "Name: chef_annee_naissance, dtype: float64"
      ]
     },
     "execution_count": 49,
     "metadata": {},
     "output_type": "execute_result"
    }
   ],
   "source": [
    "df_new.chef_annee_naissance.describe()"
   ]
  },
  {
   "cell_type": "code",
   "execution_count": 50,
   "metadata": {},
   "outputs": [
    {
     "data": {
      "text/plain": [
       "count    2876.000000\n",
       "mean       46.184979\n",
       "std        14.056230\n",
       "min         8.000000\n",
       "25%        35.000000\n",
       "50%        45.000000\n",
       "75%        56.000000\n",
       "max        91.000000\n",
       "Name: chef_annee_naissance, dtype: float64"
      ]
     },
     "execution_count": 50,
     "metadata": {},
     "output_type": "execute_result"
    }
   ],
   "source": [
    "(1832 - df_new.chef_annee_naissance).describe()"
   ]
  },
  {
   "attachments": {},
   "cell_type": "markdown",
   "metadata": {},
   "source": [
    "#### La même mais pour les épouses"
   ]
  },
  {
   "cell_type": "code",
   "execution_count": 82,
   "metadata": {},
   "outputs": [],
   "source": [
    "#TODO"
   ]
  },
  {
   "attachments": {},
   "cell_type": "markdown",
   "metadata": {},
   "source": [
    "## autres"
   ]
  },
  {
   "cell_type": "code",
   "execution_count": 51,
   "metadata": {},
   "outputs": [],
   "source": [
    "# Bootstrap the mean of the chef_annee_naissance that have \"administration\" as chef_vocation_class with 10_000 samples\n",
    "means_administration = []\n",
    "for i in range(10_000):\n",
    "    sample = df_new[df_new.chef_vocation_class == \"administration\"].chef_annee_naissance.sample(frac=1, replace=True)\n",
    "    means_administration.append(sample.mean())\n",
    "    \n",
    "# Bootstrap the mean of the chef_annee_naissance that have \"construction\" as chef_vocation_class with 10_000 samples\n",
    "means_construction = []\n",
    "for i in range(10_000):\n",
    "    sample = df_new[df_new.chef_vocation_class == \"construction\"].chef_annee_naissance.sample(frac=1, replace=True)\n",
    "    means_construction.append(sample.mean())"
   ]
  },
  {
   "cell_type": "code",
   "execution_count": 52,
   "metadata": {},
   "outputs": [
    {
     "data": {
      "text/plain": [
       "<AxesSubplot:ylabel='Count'>"
      ]
     },
     "execution_count": 52,
     "metadata": {},
     "output_type": "execute_result"
    },
    {
     "data": {
      "image/png": "[encoded data removed]",
      "text/plain": [
       "<Figure size 640x480 with 1 Axes>"
      ]
     },
     "metadata": {},
     "output_type": "display_data"
    }
   ],
   "source": [
    "sns.histplot([means_administration, means_construction])"
   ]
  },
  {
   "cell_type": "code",
   "execution_count": 53,
   "metadata": {},
   "outputs": [
    {
     "data": {
      "text/plain": [
       "<AxesSubplot:xlabel='chef_annee_naissance', ylabel='Count'>"
      ]
     },
     "execution_count": 53,
     "metadata": {},
     "output_type": "execute_result"
    },
    {
     "data": {
      "image/png": "[encoded data removed]",
      "text/plain": [
       "<Figure size 640x480 with 1 Axes>"
      ]
     },
     "metadata": {},
     "output_type": "display_data"
    }
   ],
   "source": [
    "sns.histplot(df_new[df_new.chef_vocation_class == \"construction\"].chef_annee_naissance, label=\"construction\")\n",
    "sns.histplot(df_new[df_new.chef_vocation_class == \"administration\"].chef_annee_naissance, label=\"administration\")"
   ]
  },
  {
   "cell_type": "code",
   "execution_count": 54,
   "metadata": {},
   "outputs": [
    {
     "data": {
      "text/plain": [
       "(45.16363636363644, 44.37755102040819)"
      ]
     },
     "execution_count": 54,
     "metadata": {},
     "output_type": "execute_result"
    }
   ],
   "source": [
    "(1832 - df_new[df_new.chef_vocation_class == \"administration\"].chef_annee_naissance.mean(), 1832 - df_new[df_new.chef_vocation_class == \"construction\"].chef_annee_naissance.mean())"
   ]
  },
  {
   "cell_type": "code",
   "execution_count": 55,
   "metadata": {},
   "outputs": [
    {
     "data": {
      "text/html": [
       "<div>\n",
       "<style scoped>\n",
       "    .dataframe tbody tr th:only-of-type {\n",
       "        vertical-align: middle;\n",
       "    }\n",
       "\n",
       "    .dataframe tbody tr th {\n",
       "        vertical-align: top;\n",
       "    }\n",
       "\n",
       "    .dataframe thead th {\n",
       "        text-align: right;\n",
       "    }\n",
       "</style>\n",
       "<table border=\"1\" class=\"dataframe\">\n",
       "  <thead>\n",
       "    <tr style=\"text-align: right;\">\n",
       "      <th></th>\n",
       "      <th>nom_rue</th>\n",
       "      <th>no_maison</th>\n",
       "      <th>proprietaire_nom</th>\n",
       "      <th>chef_prenom</th>\n",
       "      <th>chef_nom</th>\n",
       "      <th>chef_annee_naissance</th>\n",
       "      <th>epouse_nom</th>\n",
       "      <th>epouse_annee_naissance</th>\n",
       "      <th>enfants_dans_la_commune_prenom</th>\n",
       "      <th>enfants_annee_naissance</th>\n",
       "      <th>chef_origine</th>\n",
       "      <th>chef_annee_arrivee</th>\n",
       "      <th>chef_vocation</th>\n",
       "      <th>pensionnaires_prenom</th>\n",
       "      <th>pensionnaires_nom</th>\n",
       "      <th>pensionnaires_origine</th>\n",
       "      <th>Page</th>\n",
       "      <th>chef_vocation_class</th>\n",
       "    </tr>\n",
       "  </thead>\n",
       "  <tbody>\n",
       "    <tr>\n",
       "      <th>1</th>\n",
       "      <td>marterey</td>\n",
       "      <td>1</td>\n",
       "      <td>weidmann</td>\n",
       "      <td>georges henri</td>\n",
       "      <td>weidmann</td>\n",
       "      <td>1764</td>\n",
       "      <td>·</td>\n",
       "      <td>·</td>\n",
       "      <td>·</td>\n",
       "      <td>·</td>\n",
       "      <td>tolochenaz</td>\n",
       "      <td>1786</td>\n",
       "      <td>charon</td>\n",
       "      <td>louise|anna|francois|jn adam</td>\n",
       "      <td>weidmann|la maurer|kirsner|reverber</td>\n",
       "      <td>tolochenaz|frutigen|cirol|bavarois</td>\n",
       "      <td>1</td>\n",
       "      <td>NaN</td>\n",
       "    </tr>\n",
       "    <tr>\n",
       "      <th>3</th>\n",
       "      <td>marterey</td>\n",
       "      <td>3</td>\n",
       "      <td>fiaux</td>\n",
       "      <td>louise</td>\n",
       "      <td>piot</td>\n",
       "      <td>1785</td>\n",
       "      <td>neissance</td>\n",
       "      <td>·</td>\n",
       "      <td>benjamin</td>\n",
       "      <td>1815</td>\n",
       "      <td>pailly</td>\n",
       "      <td>nee</td>\n",
       "      <td>lingere</td>\n",
       "      <td>·</td>\n",
       "      <td>·</td>\n",
       "      <td>·</td>\n",
       "      <td>1</td>\n",
       "      <td>service</td>\n",
       "    </tr>\n",
       "    <tr>\n",
       "      <th>5</th>\n",
       "      <td>marterey</td>\n",
       "      <td>·</td>\n",
       "      <td>fiaux</td>\n",
       "      <td>louis vincent</td>\n",
       "      <td>lavanchy</td>\n",
       "      <td>1802</td>\n",
       "      <td>baudet</td>\n",
       "      <td>1805</td>\n",
       "      <td>·</td>\n",
       "      <td>·</td>\n",
       "      <td>lutry</td>\n",
       "      <td>ne</td>\n",
       "      <td>garcon voiturier</td>\n",
       "      <td>·</td>\n",
       "      <td>·</td>\n",
       "      <td>·</td>\n",
       "      <td>1</td>\n",
       "      <td>NaN</td>\n",
       "    </tr>\n",
       "    <tr>\n",
       "      <th>7</th>\n",
       "      <td>marterey</td>\n",
       "      <td>·</td>\n",
       "      <td>fiaux</td>\n",
       "      <td>dominique</td>\n",
       "      <td>dubois</td>\n",
       "      <td>1797</td>\n",
       "      <td>·</td>\n",
       "      <td>·</td>\n",
       "      <td>·</td>\n",
       "      <td>·</td>\n",
       "      <td>nancy</td>\n",
       "      <td>1828</td>\n",
       "      <td>ebeniste</td>\n",
       "      <td>adolphine cecile|adolphine</td>\n",
       "      <td>borrely|borrely</td>\n",
       "      <td>paris|enfant de la che</td>\n",
       "      <td>1</td>\n",
       "      <td>NaN</td>\n",
       "    </tr>\n",
       "    <tr>\n",
       "      <th>8</th>\n",
       "      <td>marterey</td>\n",
       "      <td>·</td>\n",
       "      <td>fiaux</td>\n",
       "      <td>francois</td>\n",
       "      <td>fiaux</td>\n",
       "      <td>1787</td>\n",
       "      <td>blaud</td>\n",
       "      <td>·</td>\n",
       "      <td>felix|charles|ernestine</td>\n",
       "      <td>1826|·|1822</td>\n",
       "      <td>lausanne</td>\n",
       "      <td>ne</td>\n",
       "      <td>rentier</td>\n",
       "      <td>rose marie</td>\n",
       "      <td>metraux</td>\n",
       "      <td>pailly</td>\n",
       "      <td>1</td>\n",
       "      <td>rente</td>\n",
       "    </tr>\n",
       "    <tr>\n",
       "      <th>...</th>\n",
       "      <td>...</td>\n",
       "      <td>...</td>\n",
       "      <td>...</td>\n",
       "      <td>...</td>\n",
       "      <td>...</td>\n",
       "      <td>...</td>\n",
       "      <td>...</td>\n",
       "      <td>...</td>\n",
       "      <td>...</td>\n",
       "      <td>...</td>\n",
       "      <td>...</td>\n",
       "      <td>...</td>\n",
       "      <td>...</td>\n",
       "      <td>...</td>\n",
       "      <td>...</td>\n",
       "      <td>...</td>\n",
       "      <td>...</td>\n",
       "      <td>...</td>\n",
       "    </tr>\n",
       "    <tr>\n",
       "      <th>3697</th>\n",
       "      <td>montheron</td>\n",
       "      <td>·</td>\n",
       "      <td>martin</td>\n",
       "      <td>jean abraham</td>\n",
       "      <td>martin</td>\n",
       "      <td>1804</td>\n",
       "      <td>francoise</td>\n",
       "      <td>1804</td>\n",
       "      <td>henry|david</td>\n",
       "      <td>1829|1830</td>\n",
       "      <td>froideville</td>\n",
       "      <td>·</td>\n",
       "      <td>agriculteur</td>\n",
       "      <td>·</td>\n",
       "      <td>·</td>\n",
       "      <td>·</td>\n",
       "      <td>150</td>\n",
       "      <td>agricole</td>\n",
       "    </tr>\n",
       "    <tr>\n",
       "      <th>3698</th>\n",
       "      <td>montheron</td>\n",
       "      <td>·</td>\n",
       "      <td>martin</td>\n",
       "      <td>jean abram</td>\n",
       "      <td>blanc</td>\n",
       "      <td>1806</td>\n",
       "      <td>marie</td>\n",
       "      <td>1807</td>\n",
       "      <td>charles elie|louis jules</td>\n",
       "      <td>1829|1831</td>\n",
       "      <td>lausanne</td>\n",
       "      <td>1830</td>\n",
       "      <td>journalier</td>\n",
       "      <td>·</td>\n",
       "      <td>·</td>\n",
       "      <td>·</td>\n",
       "      <td>151</td>\n",
       "      <td>agricole</td>\n",
       "    </tr>\n",
       "    <tr>\n",
       "      <th>3699</th>\n",
       "      <td>les saugealles</td>\n",
       "      <td>·</td>\n",
       "      <td>commune de lausanne</td>\n",
       "      <td>veuve</td>\n",
       "      <td>tuller</td>\n",
       "      <td>1810</td>\n",
       "      <td>·</td>\n",
       "      <td>neene</td>\n",
       "      <td>jn louise|lse susanne|jean marc|jaques|ct fran...</td>\n",
       "      <td>1800|1803|1806|1808|1809|1812|1814</td>\n",
       "      <td>gessenay</td>\n",
       "      <td>1820</td>\n",
       "      <td>agriculteur</td>\n",
       "      <td>·</td>\n",
       "      <td>·</td>\n",
       "      <td>·</td>\n",
       "      <td>151</td>\n",
       "      <td>agricole</td>\n",
       "    </tr>\n",
       "    <tr>\n",
       "      <th>3700</th>\n",
       "      <td>chalet aux enfants</td>\n",
       "      <td>·</td>\n",
       "      <td>auberjonois</td>\n",
       "      <td>david</td>\n",
       "      <td>zbinden</td>\n",
       "      <td>1771</td>\n",
       "      <td>francoise</td>\n",
       "      <td>1773</td>\n",
       "      <td>·</td>\n",
       "      <td>·</td>\n",
       "      <td>guggisberg</td>\n",
       "      <td>·</td>\n",
       "      <td>agriculteur</td>\n",
       "      <td>·</td>\n",
       "      <td>·</td>\n",
       "      <td>·</td>\n",
       "      <td>151</td>\n",
       "      <td>agricole</td>\n",
       "    </tr>\n",
       "    <tr>\n",
       "      <th>3701</th>\n",
       "      <td>chalet aux enfants</td>\n",
       "      <td>·</td>\n",
       "      <td>auberjonois</td>\n",
       "      <td>pierre</td>\n",
       "      <td>zbinden</td>\n",
       "      <td>1799</td>\n",
       "      <td>jeanne marie|dupers</td>\n",
       "      <td>1797</td>\n",
       "      <td>jn susanne|jn louise</td>\n",
       "      <td>1821|1831</td>\n",
       "      <td>guggisberg</td>\n",
       "      <td>·</td>\n",
       "      <td>fruitier</td>\n",
       "      <td>·</td>\n",
       "      <td>·</td>\n",
       "      <td>·</td>\n",
       "      <td>151</td>\n",
       "      <td>NaN</td>\n",
       "    </tr>\n",
       "  </tbody>\n",
       "</table>\n",
       "<p>2876 rows × 18 columns</p>\n",
       "</div>"
      ],
      "text/plain": [
       "                 nom_rue no_maison     proprietaire_nom    chef_prenom  \\\n",
       "1               marterey         1             weidmann  georges henri   \n",
       "3               marterey         3                fiaux         louise   \n",
       "5               marterey         ·                fiaux  louis vincent   \n",
       "7               marterey         ·                fiaux      dominique   \n",
       "8               marterey         ·                fiaux       francois   \n",
       "...                  ...       ...                  ...            ...   \n",
       "3697           montheron         ·               martin   jean abraham   \n",
       "3698           montheron         ·               martin     jean abram   \n",
       "3699      les saugealles         ·  commune de lausanne          veuve   \n",
       "3700  chalet aux enfants         ·          auberjonois          david   \n",
       "3701  chalet aux enfants         ·          auberjonois         pierre   \n",
       "\n",
       "      chef_nom  chef_annee_naissance           epouse_nom  \\\n",
       "1     weidmann                  1764                    ·   \n",
       "3         piot                  1785            neissance   \n",
       "5     lavanchy                  1802               baudet   \n",
       "7       dubois                  1797                    ·   \n",
       "8        fiaux                  1787                blaud   \n",
       "...        ...                   ...                  ...   \n",
       "3697    martin                  1804            francoise   \n",
       "3698     blanc                  1806                marie   \n",
       "3699    tuller                  1810                    ·   \n",
       "3700   zbinden                  1771            francoise   \n",
       "3701   zbinden                  1799  jeanne marie|dupers   \n",
       "\n",
       "     epouse_annee_naissance  \\\n",
       "1                         ·   \n",
       "3                         ·   \n",
       "5                      1805   \n",
       "7                         ·   \n",
       "8                         ·   \n",
       "...                     ...   \n",
       "3697                   1804   \n",
       "3698                   1807   \n",
       "3699                  neene   \n",
       "3700                   1773   \n",
       "3701                   1797   \n",
       "\n",
       "                         enfants_dans_la_commune_prenom  \\\n",
       "1                                                     ·   \n",
       "3                                              benjamin   \n",
       "5                                                     ·   \n",
       "7                                                     ·   \n",
       "8                               felix|charles|ernestine   \n",
       "...                                                 ...   \n",
       "3697                                        henry|david   \n",
       "3698                           charles elie|louis jules   \n",
       "3699  jn louise|lse susanne|jean marc|jaques|ct fran...   \n",
       "3700                                                  ·   \n",
       "3701                               jn susanne|jn louise   \n",
       "\n",
       "                 enfants_annee_naissance chef_origine chef_annee_arrivee  \\\n",
       "1                                      ·   tolochenaz               1786   \n",
       "3                                   1815       pailly                nee   \n",
       "5                                      ·        lutry                 ne   \n",
       "7                                      ·        nancy               1828   \n",
       "8                            1826|·|1822     lausanne                 ne   \n",
       "...                                  ...          ...                ...   \n",
       "3697                           1829|1830  froideville                  ·   \n",
       "3698                           1829|1831     lausanne               1830   \n",
       "3699  1800|1803|1806|1808|1809|1812|1814     gessenay               1820   \n",
       "3700                                   ·   guggisberg                  ·   \n",
       "3701                           1821|1831   guggisberg                  ·   \n",
       "\n",
       "         chef_vocation          pensionnaires_prenom  \\\n",
       "1               charon  louise|anna|francois|jn adam   \n",
       "3              lingere                             ·   \n",
       "5     garcon voiturier                             ·   \n",
       "7             ebeniste    adolphine cecile|adolphine   \n",
       "8              rentier                    rose marie   \n",
       "...                ...                           ...   \n",
       "3697       agriculteur                             ·   \n",
       "3698        journalier                             ·   \n",
       "3699       agriculteur                             ·   \n",
       "3700       agriculteur                             ·   \n",
       "3701          fruitier                             ·   \n",
       "\n",
       "                        pensionnaires_nom               pensionnaires_origine  \\\n",
       "1     weidmann|la maurer|kirsner|reverber  tolochenaz|frutigen|cirol|bavarois   \n",
       "3                                       ·                                   ·   \n",
       "5                                       ·                                   ·   \n",
       "7                         borrely|borrely              paris|enfant de la che   \n",
       "8                                 metraux                              pailly   \n",
       "...                                   ...                                 ...   \n",
       "3697                                    ·                                   ·   \n",
       "3698                                    ·                                   ·   \n",
       "3699                                    ·                                   ·   \n",
       "3700                                    ·                                   ·   \n",
       "3701                                    ·                                   ·   \n",
       "\n",
       "      Page chef_vocation_class  \n",
       "1        1                 NaN  \n",
       "3        1             service  \n",
       "5        1                 NaN  \n",
       "7        1                 NaN  \n",
       "8        1               rente  \n",
       "...    ...                 ...  \n",
       "3697   150            agricole  \n",
       "3698   151            agricole  \n",
       "3699   151            agricole  \n",
       "3700   151            agricole  \n",
       "3701   151                 NaN  \n",
       "\n",
       "[2876 rows x 18 columns]"
      ]
     },
     "execution_count": 55,
     "metadata": {},
     "output_type": "execute_result"
    }
   ],
   "source": [
    "df_new"
   ]
  },
  {
   "cell_type": "code",
   "execution_count": 56,
   "metadata": {},
   "outputs": [
    {
     "data": {
      "text/html": [
       "<div>\n",
       "<style scoped>\n",
       "    .dataframe tbody tr th:only-of-type {\n",
       "        vertical-align: middle;\n",
       "    }\n",
       "\n",
       "    .dataframe tbody tr th {\n",
       "        vertical-align: top;\n",
       "    }\n",
       "\n",
       "    .dataframe thead th {\n",
       "        text-align: right;\n",
       "    }\n",
       "</style>\n",
       "<table border=\"1\" class=\"dataframe\">\n",
       "  <thead>\n",
       "    <tr style=\"text-align: right;\">\n",
       "      <th></th>\n",
       "      <th>chef_annee_naissance</th>\n",
       "      <th>Page</th>\n",
       "    </tr>\n",
       "  </thead>\n",
       "  <tbody>\n",
       "    <tr>\n",
       "      <th>count</th>\n",
       "      <td>2876.000000</td>\n",
       "      <td>2876.000000</td>\n",
       "    </tr>\n",
       "    <tr>\n",
       "      <th>mean</th>\n",
       "      <td>1785.815021</td>\n",
       "      <td>75.590751</td>\n",
       "    </tr>\n",
       "    <tr>\n",
       "      <th>std</th>\n",
       "      <td>14.056230</td>\n",
       "      <td>41.516083</td>\n",
       "    </tr>\n",
       "    <tr>\n",
       "      <th>min</th>\n",
       "      <td>1741.000000</td>\n",
       "      <td>1.000000</td>\n",
       "    </tr>\n",
       "    <tr>\n",
       "      <th>25%</th>\n",
       "      <td>1776.000000</td>\n",
       "      <td>42.000000</td>\n",
       "    </tr>\n",
       "    <tr>\n",
       "      <th>50%</th>\n",
       "      <td>1787.000000</td>\n",
       "      <td>77.000000</td>\n",
       "    </tr>\n",
       "    <tr>\n",
       "      <th>75%</th>\n",
       "      <td>1797.000000</td>\n",
       "      <td>109.000000</td>\n",
       "    </tr>\n",
       "    <tr>\n",
       "      <th>max</th>\n",
       "      <td>1824.000000</td>\n",
       "      <td>151.000000</td>\n",
       "    </tr>\n",
       "  </tbody>\n",
       "</table>\n",
       "</div>"
      ],
      "text/plain": [
       "       chef_annee_naissance         Page\n",
       "count           2876.000000  2876.000000\n",
       "mean            1785.815021    75.590751\n",
       "std               14.056230    41.516083\n",
       "min             1741.000000     1.000000\n",
       "25%             1776.000000    42.000000\n",
       "50%             1787.000000    77.000000\n",
       "75%             1797.000000   109.000000\n",
       "max             1824.000000   151.000000"
      ]
     },
     "execution_count": 56,
     "metadata": {},
     "output_type": "execute_result"
    }
   ],
   "source": [
    "df_new.describe()"
   ]
  },
  {
   "cell_type": "code",
   "execution_count": 57,
   "metadata": {},
   "outputs": [
    {
     "data": {
      "text/html": [
       "<div>\n",
       "<style scoped>\n",
       "    .dataframe tbody tr th:only-of-type {\n",
       "        vertical-align: middle;\n",
       "    }\n",
       "\n",
       "    .dataframe tbody tr th {\n",
       "        vertical-align: top;\n",
       "    }\n",
       "\n",
       "    .dataframe thead th {\n",
       "        text-align: right;\n",
       "    }\n",
       "</style>\n",
       "<table border=\"1\" class=\"dataframe\">\n",
       "  <thead>\n",
       "    <tr style=\"text-align: right;\">\n",
       "      <th></th>\n",
       "      <th>nom_rue</th>\n",
       "      <th>no_maison</th>\n",
       "      <th>proprietaire_nom</th>\n",
       "      <th>chef_prenom</th>\n",
       "      <th>chef_nom</th>\n",
       "      <th>chef_annee_naissance</th>\n",
       "      <th>epouse_nom</th>\n",
       "      <th>epouse_annee_naissance</th>\n",
       "      <th>enfants_dans_la_commune_prenom</th>\n",
       "      <th>enfants_annee_naissance</th>\n",
       "      <th>chef_origine</th>\n",
       "      <th>chef_annee_arrivee</th>\n",
       "      <th>chef_vocation</th>\n",
       "      <th>pensionnaires_prenom</th>\n",
       "      <th>pensionnaires_nom</th>\n",
       "      <th>pensionnaires_origine</th>\n",
       "      <th>Page</th>\n",
       "      <th>chef_vocation_class</th>\n",
       "    </tr>\n",
       "  </thead>\n",
       "  <tbody>\n",
       "    <tr>\n",
       "      <th>563</th>\n",
       "      <td>cheneau de bourg</td>\n",
       "      <td>·</td>\n",
       "      <td>maget</td>\n",
       "      <td>jean david</td>\n",
       "      <td>martin</td>\n",
       "      <td>1824</td>\n",
       "      <td>coulin</td>\n",
       "      <td>1804</td>\n",
       "      <td>francois|emmanuel</td>\n",
       "      <td>1828|1830</td>\n",
       "      <td>villeneuve</td>\n",
       "      <td>·</td>\n",
       "      <td>tanneur</td>\n",
       "      <td>louise</td>\n",
       "      <td>maillari</td>\n",
       "      <td>perey</td>\n",
       "      <td>22</td>\n",
       "      <td>artisanat</td>\n",
       "    </tr>\n",
       "  </tbody>\n",
       "</table>\n",
       "</div>"
      ],
      "text/plain": [
       "              nom_rue no_maison proprietaire_nom chef_prenom chef_nom  \\\n",
       "563  cheneau de bourg         ·            maget  jean david   martin   \n",
       "\n",
       "     chef_annee_naissance epouse_nom epouse_annee_naissance  \\\n",
       "563                  1824     coulin                   1804   \n",
       "\n",
       "    enfants_dans_la_commune_prenom enfants_annee_naissance chef_origine  \\\n",
       "563              francois|emmanuel               1828|1830   villeneuve   \n",
       "\n",
       "    chef_annee_arrivee chef_vocation pensionnaires_prenom pensionnaires_nom  \\\n",
       "563                  ·       tanneur               louise          maillari   \n",
       "\n",
       "    pensionnaires_origine  Page chef_vocation_class  \n",
       "563                 perey    22           artisanat  "
      ]
     },
     "execution_count": 57,
     "metadata": {},
     "output_type": "execute_result"
    }
   ],
   "source": [
    "df_new[df_new.chef_annee_naissance == 1824]"
   ]
  },
  {
   "cell_type": "code",
   "execution_count": null,
   "metadata": {},
   "outputs": [],
   "source": []
  },
  {
   "cell_type": "markdown",
   "metadata": {},
   "source": [
    "Find the proprietary that comes up the most frequently."
   ]
  },
  {
   "cell_type": "code",
   "execution_count": 58,
   "metadata": {},
   "outputs": [
    {
     "data": {
      "text/plain": [
       "proprietaire_nom\n",
       "blanc             59\n",
       "perrin            49\n",
       "corbaz            46\n",
       "regamey           40\n",
       "martin            32\n",
       "                  ..\n",
       "decoppet           1\n",
       "decombaz           1\n",
       "de treytorrens     1\n",
       "peyrollaz          1\n",
       "pittet             1\n",
       "Length: 597, dtype: int64"
      ]
     },
     "execution_count": 58,
     "metadata": {},
     "output_type": "execute_result"
    }
   ],
   "source": [
    "df_new.groupby(\"proprietaire_nom\").size().sort_values(ascending=False)"
   ]
  },
  {
   "attachments": {},
   "cell_type": "markdown",
   "metadata": {},
   "source": [
    "## Statistiques sur le nombre d'enfants par famille"
   ]
  },
  {
   "cell_type": "code",
   "execution_count": 74,
   "metadata": {},
   "outputs": [
    {
     "data": {
      "text/plain": [
       "(3674, 19)"
      ]
     },
     "execution_count": 74,
     "metadata": {},
     "output_type": "execute_result"
    }
   ],
   "source": [
    "df.shape"
   ]
  },
  {
   "attachments": {},
   "cell_type": "markdown",
   "metadata": {},
   "source": [
    "On reprend toute la base de données (les 3674 entrées)."
   ]
  },
  {
   "attachments": {},
   "cell_type": "markdown",
   "metadata": {},
   "source": [
    "Les entrées sont de la forme suivante:\n",
    "```\n",
    "Alice|Bob\n",
    "·\n",
    "·\n",
    "Charlie|Dan|Eve\n",
    "Trudy|·|·|Mallor\n",
    "```"
   ]
  },
  {
   "cell_type": "code",
   "execution_count": 83,
   "metadata": {},
   "outputs": [],
   "source": [
    "def count_person(s: str) -> int:\n",
    "    if s == '·' or s == '.':\n",
    "        return 0\n",
    "    return s.count(\"|\") + 1"
   ]
  },
  {
   "cell_type": "code",
   "execution_count": 84,
   "metadata": {},
   "outputs": [],
   "source": [
    "df[\"nb_enfants\"] = df.enfants_dans_la_commune_prenom.apply(count_person)"
   ]
  },
  {
   "cell_type": "code",
   "execution_count": 85,
   "metadata": {},
   "outputs": [
    {
     "data": {
      "text/plain": [
       "count    3674.000000\n",
       "mean        1.443658\n",
       "std         1.655033\n",
       "min         0.000000\n",
       "25%         0.000000\n",
       "50%         1.000000\n",
       "75%         2.000000\n",
       "max        10.000000\n",
       "Name: nb_enfants, dtype: float64"
      ]
     },
     "execution_count": 85,
     "metadata": {},
     "output_type": "execute_result"
    }
   ],
   "source": [
    "df.nb_enfants.describe()"
   ]
  },
  {
   "cell_type": "code",
   "execution_count": 106,
   "metadata": {},
   "outputs": [
    {
     "data": {
      "image/png": "[encoded data removed]",
      "text/plain": [
       "<Figure size 640x480 with 1 Axes>"
      ]
     },
     "metadata": {},
     "output_type": "display_data"
    }
   ],
   "source": [
    "plt.title(\"Distribution du nombre d'enfants par foyer\")\n",
    "sns.histplot(data=df, x=\"nb_enfants\", discrete=True, color=\"#e36866\")\n",
    "plt.ylabel(\"Nombre de foyers\")\n",
    "plt.xlabel(\"Nombre d'enfants\")\n",
    "plt.xticks(range(0, 11))\n",
    "plt.show()"
   ]
  },
  {
   "cell_type": "code",
   "execution_count": 103,
   "metadata": {},
   "outputs": [
    {
     "data": {
      "image/png": "[encoded data removed]",
      "text/plain": [
       "<Figure size 640x480 with 1 Axes>"
      ]
     },
     "metadata": {},
     "output_type": "display_data"
    }
   ],
   "source": [
    "plt.title(\"Distribution du nombre d'enfants par foyer (échelle logarithmique)\")\n",
    "sns.histplot(data=df, x=\"nb_enfants\", discrete=True, color=\"#e36866\")\n",
    "plt.ylabel(\"Nombre de foyers\")\n",
    "plt.xlabel(\"Nombre d'enfants\")\n",
    "plt.yscale(\"log\")\n",
    "plt.xticks(range(0, 11))\n",
    "plt.show()"
   ]
  },
  {
   "attachments": {},
   "cell_type": "markdown",
   "metadata": {},
   "source": [
    "On peut voir que la distribution du nombre d'enfants par famille suis une loi exponentielle (la distribution est linéaire lorsqu'on la montre avec une échelle logarithmique)."
   ]
  },
  {
   "cell_type": "code",
   "execution_count": 107,
   "metadata": {},
   "outputs": [],
   "source": [
    "# Bootstrap the mean of the nb_enfants column with 10_000 samples\n",
    "means = []\n",
    "for i in range(10_000):\n",
    "    sample = df.nb_enfants.sample(frac=1, replace=True)\n",
    "    means.append(sample.mean())"
   ]
  },
  {
   "cell_type": "code",
   "execution_count": 108,
   "metadata": {},
   "outputs": [
    {
     "data": {
      "text/plain": [
       "array([1.39003811, 1.49701279])"
      ]
     },
     "execution_count": 108,
     "metadata": {},
     "output_type": "execute_result"
    }
   ],
   "source": [
    "# Compute the 95% confidence interval of the mean\n",
    "ci = np.quantile(means, [0.025, 0.975])\n",
    "ci"
   ]
  },
  {
   "cell_type": "code",
   "execution_count": 109,
   "metadata": {},
   "outputs": [
    {
     "data": {
      "image/png": "[encoded data removed]",
      "text/plain": [
       "<Figure size 640x480 with 1 Axes>"
      ]
     },
     "metadata": {},
     "output_type": "display_data"
    }
   ],
   "source": [
    "# plot the means with the 95% confidence interval\n",
    "plt.title(\"Moyenne du nombre d'enfants par foyer en utilisant le bootstrap\")\n",
    "sns.histplot(means, color=\"#e36866\")\n",
    "plt.axvline(ci[0], color=\"red\", label=\"95% CI\")\n",
    "plt.axvline(ci[1], color=\"red\")\n",
    "plt.legend()\n",
    "plt.xticks(rotation=45)\n",
    "plt.axvline(np.mean(means), color=\"black\", label=f\"Moyenne\")\n",
    "plt.legend()\n",
    "plt.show()"
   ]
  },
  {
   "cell_type": "code",
   "execution_count": 110,
   "metadata": {},
   "outputs": [
    {
     "name": "stdout",
     "output_type": "stream",
     "text": [
      "La moyenne du nombre d'enfants par foyer est de 1.44 avec un intervalle de confiance de 95% de 1.39 à 1.50.\n",
      "Cela s'écrirait donc 1.4 ± 0.1.\n"
     ]
    }
   ],
   "source": [
    "# indicate the mean year of birth of the chef de famille with the 95% confidence interval\n",
    "print(f\"La moyenne du nombre d'enfants par foyer est de {np.mean(means):.2f} avec un intervalle de confiance de 95% de {ci[0]:.2f} à {ci[1]:.2f}.\")\n",
    "print(f\"Cela s'écrirait donc {np.mean(means):.1f} ± {np.mean(means) - ci[0]:.1f}.\")"
   ]
  },
  {
   "attachments": {},
   "cell_type": "markdown",
   "metadata": {},
   "source": [
    "## Nombre de personnes par famille"
   ]
  },
  {
   "attachments": {},
   "cell_type": "markdown",
   "metadata": {},
   "source": [
    "Pour ce faire, on utiliser l'épouse, les enfants et les pensionnaires."
   ]
  },
  {
   "cell_type": "code",
   "execution_count": 113,
   "metadata": {},
   "outputs": [],
   "source": [
    "df[\"nb_epouse\"] = df.epouse_nom.apply(count_person)\n",
    "df[\"nb_pensionnaires\"] = df.pensionnaires_nom.apply(count_person)"
   ]
  },
  {
   "cell_type": "code",
   "execution_count": 114,
   "metadata": {},
   "outputs": [],
   "source": [
    "df[\"nb_personnes\"] = df.nb_enfants + df.nb_epouse + df.nb_pensionnaires + 1"
   ]
  },
  {
   "cell_type": "code",
   "execution_count": 115,
   "metadata": {},
   "outputs": [
    {
     "data": {
      "image/png": "[encoded data removed]",
      "text/plain": [
       "<Figure size 640x480 with 1 Axes>"
      ]
     },
     "metadata": {},
     "output_type": "display_data"
    }
   ],
   "source": [
    "# Plot the distribution of the number of people per household\n",
    "plt.title(\"Distribution du nombre de personnes par foyer\")\n",
    "sns.histplot(data=df, x=\"nb_personnes\", discrete=True, color=\"#e36866\")\n",
    "plt.ylabel(\"Nombre de foyers\")\n",
    "plt.xlabel(\"Nombre de personnes\")\n",
    "plt.show()"
   ]
  },
  {
   "cell_type": "code",
   "execution_count": 118,
   "metadata": {},
   "outputs": [
    {
     "data": {
      "text/html": [
       "<div>\n",
       "<style scoped>\n",
       "    .dataframe tbody tr th:only-of-type {\n",
       "        vertical-align: middle;\n",
       "    }\n",
       "\n",
       "    .dataframe tbody tr th {\n",
       "        vertical-align: top;\n",
       "    }\n",
       "\n",
       "    .dataframe thead th {\n",
       "        text-align: right;\n",
       "    }\n",
       "</style>\n",
       "<table border=\"1\" class=\"dataframe\">\n",
       "  <thead>\n",
       "    <tr style=\"text-align: right;\">\n",
       "      <th></th>\n",
       "      <th>nb_pensionnaires</th>\n",
       "      <th>nb_enfants</th>\n",
       "    </tr>\n",
       "  </thead>\n",
       "  <tbody>\n",
       "    <tr>\n",
       "      <th>nb_pensionnaires</th>\n",
       "      <td>1.000000</td>\n",
       "      <td>0.079207</td>\n",
       "    </tr>\n",
       "    <tr>\n",
       "      <th>nb_enfants</th>\n",
       "      <td>0.079207</td>\n",
       "      <td>1.000000</td>\n",
       "    </tr>\n",
       "  </tbody>\n",
       "</table>\n",
       "</div>"
      ],
      "text/plain": [
       "                  nb_pensionnaires  nb_enfants\n",
       "nb_pensionnaires          1.000000    0.079207\n",
       "nb_enfants                0.079207    1.000000"
      ]
     },
     "execution_count": 118,
     "metadata": {},
     "output_type": "execute_result"
    }
   ],
   "source": [
    "# Find the correlation between the number of people and the number of children\n",
    "df[[\"nb_pensionnaires\", \"nb_enfants\"]].corr()"
   ]
  },
  {
   "cell_type": "code",
   "execution_count": 131,
   "metadata": {},
   "outputs": [
    {
     "data": {
      "text/plain": [
       "1       5\n",
       "2       7\n",
       "3       3\n",
       "4       5\n",
       "5       2\n",
       "       ..\n",
       "3697    4\n",
       "3698    4\n",
       "3699    8\n",
       "3700    2\n",
       "3701    5\n",
       "Name: nb_personnes, Length: 3674, dtype: int64"
      ]
     },
     "execution_count": 131,
     "metadata": {},
     "output_type": "execute_result"
    }
   ],
   "source": [
    "df[\"nb_personnes\"]"
   ]
  },
  {
   "cell_type": "code",
   "execution_count": 141,
   "metadata": {},
   "outputs": [
    {
     "ename": "TypeError",
     "evalue": "object of type 'rv_continuous_frozen' has no len()",
     "output_type": "error",
     "traceback": [
      "\u001b[1;31m---------------------------------------------------------------------------\u001b[0m",
      "\u001b[1;31mTypeError\u001b[0m                                 Traceback (most recent call last)",
      "\u001b[1;32m~\\AppData\\Local\\Temp\\ipykernel_19628\\1163544944.py\u001b[0m in \u001b[0;36m<module>\u001b[1;34m\u001b[0m\n\u001b[1;32m----> 1\u001b[1;33m \u001b[0mstats\u001b[0m\u001b[1;33m.\u001b[0m\u001b[0mkstest\u001b[0m\u001b[1;33m(\u001b[0m\u001b[0mnp\u001b[0m\u001b[1;33m.\u001b[0m\u001b[0mrandom\u001b[0m\u001b[1;33m.\u001b[0m\u001b[0mnormal\u001b[0m\u001b[1;33m(\u001b[0m\u001b[0msize\u001b[0m\u001b[1;33m=\u001b[0m\u001b[1;36m1000\u001b[0m\u001b[1;33m)\u001b[0m\u001b[1;33m,\u001b[0m \u001b[0mstats\u001b[0m\u001b[1;33m.\u001b[0m\u001b[0mnorm\u001b[0m\u001b[1;33m)\u001b[0m\u001b[1;33m.\u001b[0m\u001b[0mpvalue\u001b[0m\u001b[1;33m\u001b[0m\u001b[1;33m\u001b[0m\u001b[0m\n\u001b[0m",
      "\u001b[1;32mc:\\Users\\Ozan\\anaconda3\\lib\\site-packages\\scipy\\_lib\\_util.py\u001b[0m in \u001b[0;36mwrapper\u001b[1;34m(*args, **kwargs)\u001b[0m\n\u001b[0;32m    700\u001b[0m                     \u001b[1;32mraise\u001b[0m \u001b[0mTypeError\u001b[0m\u001b[1;33m(\u001b[0m\u001b[0mmessage\u001b[0m\u001b[1;33m)\u001b[0m\u001b[1;33m\u001b[0m\u001b[1;33m\u001b[0m\u001b[0m\n\u001b[0;32m    701\u001b[0m                 \u001b[0mkwargs\u001b[0m\u001b[1;33m[\u001b[0m\u001b[0mnew_name\u001b[0m\u001b[1;33m]\u001b[0m \u001b[1;33m=\u001b[0m \u001b[0mkwargs\u001b[0m\u001b[1;33m.\u001b[0m\u001b[0mpop\u001b[0m\u001b[1;33m(\u001b[0m\u001b[0mold_name\u001b[0m\u001b[1;33m)\u001b[0m\u001b[1;33m\u001b[0m\u001b[1;33m\u001b[0m\u001b[0m\n\u001b[1;32m--> 702\u001b[1;33m             \u001b[1;32mreturn\u001b[0m \u001b[0mfun\u001b[0m\u001b[1;33m(\u001b[0m\u001b[1;33m*\u001b[0m\u001b[0margs\u001b[0m\u001b[1;33m,\u001b[0m \u001b[1;33m**\u001b[0m\u001b[0mkwargs\u001b[0m\u001b[1;33m)\u001b[0m\u001b[1;33m\u001b[0m\u001b[1;33m\u001b[0m\u001b[0m\n\u001b[0m\u001b[0;32m    703\u001b[0m         \u001b[1;32mreturn\u001b[0m \u001b[0mwrapper\u001b[0m\u001b[1;33m\u001b[0m\u001b[1;33m\u001b[0m\u001b[0m\n\u001b[0;32m    704\u001b[0m     \u001b[1;32mreturn\u001b[0m \u001b[0mdecorator\u001b[0m\u001b[1;33m\u001b[0m\u001b[1;33m\u001b[0m\u001b[0m\n",
      "\u001b[1;32mc:\\Users\\Ozan\\anaconda3\\lib\\site-packages\\scipy\\stats\\_stats_py.py\u001b[0m in \u001b[0;36mkstest\u001b[1;34m(rvs, cdf, args, N, alternative, method)\u001b[0m\n\u001b[0;32m   8053\u001b[0m     \u001b[0mxvals\u001b[0m\u001b[1;33m,\u001b[0m \u001b[0myvals\u001b[0m\u001b[1;33m,\u001b[0m \u001b[0mcdf\u001b[0m \u001b[1;33m=\u001b[0m \u001b[0m_parse_kstest_args\u001b[0m\u001b[1;33m(\u001b[0m\u001b[0mrvs\u001b[0m\u001b[1;33m,\u001b[0m \u001b[0mcdf\u001b[0m\u001b[1;33m,\u001b[0m \u001b[0margs\u001b[0m\u001b[1;33m,\u001b[0m \u001b[0mN\u001b[0m\u001b[1;33m)\u001b[0m\u001b[1;33m\u001b[0m\u001b[1;33m\u001b[0m\u001b[0m\n\u001b[0;32m   8054\u001b[0m     \u001b[1;32mif\u001b[0m \u001b[0mcdf\u001b[0m\u001b[1;33m:\u001b[0m\u001b[1;33m\u001b[0m\u001b[1;33m\u001b[0m\u001b[0m\n\u001b[1;32m-> 8055\u001b[1;33m         return ks_1samp(xvals, cdf, args=args, alternative=alternative,\n\u001b[0m\u001b[0;32m   8056\u001b[0m                         method=method)\n\u001b[0;32m   8057\u001b[0m     \u001b[1;32mreturn\u001b[0m \u001b[0mks_2samp\u001b[0m\u001b[1;33m(\u001b[0m\u001b[0mxvals\u001b[0m\u001b[1;33m,\u001b[0m \u001b[0myvals\u001b[0m\u001b[1;33m,\u001b[0m \u001b[0malternative\u001b[0m\u001b[1;33m=\u001b[0m\u001b[0malternative\u001b[0m\u001b[1;33m,\u001b[0m \u001b[0mmethod\u001b[0m\u001b[1;33m=\u001b[0m\u001b[0mmethod\u001b[0m\u001b[1;33m)\u001b[0m\u001b[1;33m\u001b[0m\u001b[1;33m\u001b[0m\u001b[0m\n",
      "\u001b[1;32mc:\\Users\\Ozan\\anaconda3\\lib\\site-packages\\scipy\\_lib\\_util.py\u001b[0m in \u001b[0;36mwrapper\u001b[1;34m(*args, **kwargs)\u001b[0m\n\u001b[0;32m    700\u001b[0m                     \u001b[1;32mraise\u001b[0m \u001b[0mTypeError\u001b[0m\u001b[1;33m(\u001b[0m\u001b[0mmessage\u001b[0m\u001b[1;33m)\u001b[0m\u001b[1;33m\u001b[0m\u001b[1;33m\u001b[0m\u001b[0m\n\u001b[0;32m    701\u001b[0m                 \u001b[0mkwargs\u001b[0m\u001b[1;33m[\u001b[0m\u001b[0mnew_name\u001b[0m\u001b[1;33m]\u001b[0m \u001b[1;33m=\u001b[0m \u001b[0mkwargs\u001b[0m\u001b[1;33m.\u001b[0m\u001b[0mpop\u001b[0m\u001b[1;33m(\u001b[0m\u001b[0mold_name\u001b[0m\u001b[1;33m)\u001b[0m\u001b[1;33m\u001b[0m\u001b[1;33m\u001b[0m\u001b[0m\n\u001b[1;32m--> 702\u001b[1;33m             \u001b[1;32mreturn\u001b[0m \u001b[0mfun\u001b[0m\u001b[1;33m(\u001b[0m\u001b[1;33m*\u001b[0m\u001b[0margs\u001b[0m\u001b[1;33m,\u001b[0m \u001b[1;33m**\u001b[0m\u001b[0mkwargs\u001b[0m\u001b[1;33m)\u001b[0m\u001b[1;33m\u001b[0m\u001b[1;33m\u001b[0m\u001b[0m\n\u001b[0m\u001b[0;32m    703\u001b[0m         \u001b[1;32mreturn\u001b[0m \u001b[0mwrapper\u001b[0m\u001b[1;33m\u001b[0m\u001b[1;33m\u001b[0m\u001b[0m\n\u001b[0;32m    704\u001b[0m     \u001b[1;32mreturn\u001b[0m \u001b[0mdecorator\u001b[0m\u001b[1;33m\u001b[0m\u001b[1;33m\u001b[0m\u001b[0m\n",
      "\u001b[1;32mc:\\Users\\Ozan\\anaconda3\\lib\\site-packages\\scipy\\stats\\_stats_py.py\u001b[0m in \u001b[0;36mks_1samp\u001b[1;34m(x, cdf, args, alternative, method)\u001b[0m\n\u001b[0;32m   7477\u001b[0m \u001b[1;33m\u001b[0m\u001b[0m\n\u001b[0;32m   7478\u001b[0m     \u001b[1;31m# alternative == 'two-sided':\u001b[0m\u001b[1;33m\u001b[0m\u001b[1;33m\u001b[0m\u001b[0m\n\u001b[1;32m-> 7479\u001b[1;33m     \u001b[0mDplus\u001b[0m \u001b[1;33m=\u001b[0m \u001b[0m_compute_dplus\u001b[0m\u001b[1;33m(\u001b[0m\u001b[0mcdfvals\u001b[0m\u001b[1;33m)\u001b[0m\u001b[1;33m\u001b[0m\u001b[1;33m\u001b[0m\u001b[0m\n\u001b[0m\u001b[0;32m   7480\u001b[0m     \u001b[0mDminus\u001b[0m \u001b[1;33m=\u001b[0m \u001b[0m_compute_dminus\u001b[0m\u001b[1;33m(\u001b[0m\u001b[0mcdfvals\u001b[0m\u001b[1;33m)\u001b[0m\u001b[1;33m\u001b[0m\u001b[1;33m\u001b[0m\u001b[0m\n\u001b[0;32m   7481\u001b[0m     \u001b[0mD\u001b[0m \u001b[1;33m=\u001b[0m \u001b[0mnp\u001b[0m\u001b[1;33m.\u001b[0m\u001b[0mmax\u001b[0m\u001b[1;33m(\u001b[0m\u001b[1;33m[\u001b[0m\u001b[0mDplus\u001b[0m\u001b[1;33m,\u001b[0m \u001b[0mDminus\u001b[0m\u001b[1;33m]\u001b[0m\u001b[1;33m)\u001b[0m\u001b[1;33m\u001b[0m\u001b[1;33m\u001b[0m\u001b[0m\n",
      "\u001b[1;32mc:\\Users\\Ozan\\anaconda3\\lib\\site-packages\\scipy\\stats\\_stats_py.py\u001b[0m in \u001b[0;36m_compute_dplus\u001b[1;34m(cdfvals)\u001b[0m\n\u001b[0;32m   7328\u001b[0m       \u001b[0mMaximum\u001b[0m \u001b[0mdistance\u001b[0m \u001b[0mof\u001b[0m \u001b[0mthe\u001b[0m \u001b[0mCDF\u001b[0m \u001b[0mvalues\u001b[0m \u001b[0mbelow\u001b[0m \u001b[0mUniform\u001b[0m\u001b[1;33m(\u001b[0m\u001b[1;36m0\u001b[0m\u001b[1;33m,\u001b[0m \u001b[1;36m1\u001b[0m\u001b[1;33m)\u001b[0m\u001b[1;33m\u001b[0m\u001b[1;33m\u001b[0m\u001b[0m\n\u001b[0;32m   7329\u001b[0m \"\"\"\n\u001b[1;32m-> 7330\u001b[1;33m     \u001b[0mn\u001b[0m \u001b[1;33m=\u001b[0m \u001b[0mlen\u001b[0m\u001b[1;33m(\u001b[0m\u001b[0mcdfvals\u001b[0m\u001b[1;33m)\u001b[0m\u001b[1;33m\u001b[0m\u001b[1;33m\u001b[0m\u001b[0m\n\u001b[0m\u001b[0;32m   7331\u001b[0m     \u001b[1;32mreturn\u001b[0m \u001b[1;33m(\u001b[0m\u001b[0mnp\u001b[0m\u001b[1;33m.\u001b[0m\u001b[0marange\u001b[0m\u001b[1;33m(\u001b[0m\u001b[1;36m1.0\u001b[0m\u001b[1;33m,\u001b[0m \u001b[0mn\u001b[0m \u001b[1;33m+\u001b[0m \u001b[1;36m1\u001b[0m\u001b[1;33m)\u001b[0m \u001b[1;33m/\u001b[0m \u001b[0mn\u001b[0m \u001b[1;33m-\u001b[0m \u001b[0mcdfvals\u001b[0m\u001b[1;33m)\u001b[0m\u001b[1;33m.\u001b[0m\u001b[0mmax\u001b[0m\u001b[1;33m(\u001b[0m\u001b[1;33m)\u001b[0m\u001b[1;33m\u001b[0m\u001b[1;33m\u001b[0m\u001b[0m\n\u001b[0;32m   7332\u001b[0m \u001b[1;33m\u001b[0m\u001b[0m\n",
      "\u001b[1;31mTypeError\u001b[0m: object of type 'rv_continuous_frozen' has no len()"
     ]
    }
   ],
   "source": [
    "stats.kstest(np.random.normal(size=1000), stats.normaltest).pvalue"
   ]
  }
 ],
 "metadata": {
  "kernelspec": {
   "display_name": "base",
   "language": "python",
   "name": "python3"
  },
  "language_info": {
   "codemirror_mode": {
    "name": "ipython",
    "version": 3
   },
   "file_extension": ".py",
   "mimetype": "text/x-python",
   "name": "python",
   "nbconvert_exporter": "python",
   "pygments_lexer": "ipython3",
   "version": "3.9.13"
  },
  "orig_nbformat": 4,
  "vscode": {
   "interpreter": {
    "hash": "019424e969de16a8bbe2e9d52a42379164901f36de92207636d2ee0147f735e6"
   }
  }
 },
 "nbformat": 4,
 "nbformat_minor": 2
}
