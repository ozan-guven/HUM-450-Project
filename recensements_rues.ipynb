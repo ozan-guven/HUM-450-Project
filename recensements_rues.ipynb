{
 "cells": [
  {
   "cell_type": "markdown",
   "metadata": {},
   "source": [
    "# Extraction et Analyse des Rues du Recensement de Lausanne en 1832 "
   ]
  },
  {
   "cell_type": "markdown",
   "metadata": {},
   "source": [
    "## Imports"
   ]
  },
  {
   "cell_type": "code",
   "execution_count": 1,
   "metadata": {},
   "outputs": [],
   "source": [
    "import pandas as pd\n",
    "import numpy as np\n",
    "\n",
    "from fuzzywuzzy import fuzz\n",
    "from fuzzywuzzy import process\n",
    "\n",
    "RECENSEMENTS_PATH = './data/1832_v4.xlsx'\n",
    "MAP_PATH = './data/nom_rues.csv'"
   ]
  },
  {
   "cell_type": "markdown",
   "metadata": {},
   "source": [
    "## Chargement des données"
   ]
  },
  {
   "cell_type": "code",
   "execution_count": 2,
   "metadata": {},
   "outputs": [
    {
     "data": {
      "text/plain": [
       "nom_rue                       object\n",
       "nom_rue_htr_corr              object\n",
       "nom_rue_norm                  object\n",
       "nom_rue_norm_2                object\n",
       "no_maison                     object\n",
       "proprietaire_nom              object\n",
       "proprietaire_nom_corr         object\n",
       "proprietaire_nom_htr_corr     object\n",
       "proprietaire_nom_norm         object\n",
       "proprietaire_nom_norm_2       object\n",
       "proprietaire_nom_remarques    object\n",
       "chef_prenom                   object\n",
       "chef_prenom_htr_corr          object\n",
       "chef_prenom_norm              object\n",
       "chef_nom                      object\n",
       "chef_nom_corr                 object\n",
       "chef_nom_htr_corr             object\n",
       "chef_nom_norm                 object\n",
       "chef_nom_norm_2               object\n",
       "chef_nom_remarques            object\n",
       "chef_annee_naissance          object\n",
       "dtype: object"
      ]
     },
     "execution_count": 2,
     "metadata": {},
     "output_type": "execute_result"
    }
   ],
   "source": [
    "recensements = pd.read_excel(RECENSEMENTS_PATH, sheet_name='Sheet1', usecols='B:V')\n",
    "recensements.dtypes"
   ]
  },
  {
   "cell_type": "code",
   "execution_count": 3,
   "metadata": {},
   "outputs": [],
   "source": [
    "recensements_rues = recensements['nom_rue_norm_2'].unique()"
   ]
  },
  {
   "cell_type": "code",
   "execution_count": 4,
   "metadata": {},
   "outputs": [],
   "source": [
    "map_rues = pd.read_csv(MAP_PATH, sep=',')\n",
    "map_rues = map_rues['nom_rue'].tolist()"
   ]
  },
  {
   "cell_type": "code",
   "execution_count": 5,
   "metadata": {},
   "outputs": [
    {
     "data": {
      "text/html": [
       "<div>\n",
       "<style scoped>\n",
       "    .dataframe tbody tr th:only-of-type {\n",
       "        vertical-align: middle;\n",
       "    }\n",
       "\n",
       "    .dataframe tbody tr th {\n",
       "        vertical-align: top;\n",
       "    }\n",
       "\n",
       "    .dataframe thead th {\n",
       "        text-align: right;\n",
       "    }\n",
       "</style>\n",
       "<table border=\"1\" class=\"dataframe\">\n",
       "  <thead>\n",
       "    <tr style=\"text-align: right;\">\n",
       "      <th></th>\n",
       "      <th>nom_rue_norm_2</th>\n",
       "      <th>nom_rue_map</th>\n",
       "    </tr>\n",
       "  </thead>\n",
       "  <tbody>\n",
       "    <tr>\n",
       "      <th>0</th>\n",
       "      <td>marterey</td>\n",
       "      <td>None</td>\n",
       "    </tr>\n",
       "    <tr>\n",
       "      <th>1</th>\n",
       "      <td>bugnon</td>\n",
       "      <td>au bugnon</td>\n",
       "    </tr>\n",
       "    <tr>\n",
       "      <th>2</th>\n",
       "      <td>etraz</td>\n",
       "      <td>rue d etraz</td>\n",
       "    </tr>\n",
       "    <tr>\n",
       "      <th>3</th>\n",
       "      <td>villamont</td>\n",
       "      <td>None</td>\n",
       "    </tr>\n",
       "    <tr>\n",
       "      <th>4</th>\n",
       "      <td>mon repos</td>\n",
       "      <td>a mon repos</td>\n",
       "    </tr>\n",
       "  </tbody>\n",
       "</table>\n",
       "</div>"
      ],
      "text/plain": [
       "  nom_rue_norm_2  nom_rue_map\n",
       "0       marterey         None\n",
       "1         bugnon    au bugnon\n",
       "2          etraz  rue d etraz\n",
       "3      villamont         None\n",
       "4      mon repos  a mon repos"
      ]
     },
     "execution_count": 5,
     "metadata": {},
     "output_type": "execute_result"
    }
   ],
   "source": [
    "def get_fuzzy_match(x, choices, scorer=fuzz.token_set_ratio, cutoff=0):\n",
    "    result = process.extractOne(x, choices, scorer=scorer)\n",
    "    if result and result[1] >= cutoff:\n",
    "        return result[0]\n",
    "    return None\n",
    "\n",
    "recensements_rues = pd.DataFrame(recensements_rues, columns=['nom_rue_norm_2'])\n",
    "recensements_rues['nom_rue_map'] = recensements_rues['nom_rue_norm_2'] \\\n",
    "    .apply(lambda x: get_fuzzy_match(x, map_rues, cutoff=70))\n",
    "recencesments_rues = recensements_rues.set_index('nom_rue_norm_2')\n",
    "recensements_rues.head(5)"
   ]
  },
  {
   "cell_type": "code",
   "execution_count": 6,
   "metadata": {},
   "outputs": [],
   "source": [
    "recensements_rues.to_csv('./data/recensements_rues.csv', index=False)"
   ]
  },
  {
   "cell_type": "code",
   "execution_count": 7,
   "metadata": {},
   "outputs": [
    {
     "name": "stdout",
     "output_type": "stream",
     "text": [
      "There are 25.83% of the streets in the recensements that have a match in the map\n"
     ]
    }
   ],
   "source": [
    "retrieved_rues_ratio = recensements_rues['nom_rue_map'].count() / recensements_rues['nom_rue_norm_2'].count()\n",
    "print(f'There are {retrieved_rues_ratio:.2%} of the streets in the recensements that have a match in the map')"
   ]
  },
  {
   "cell_type": "code",
   "execution_count": 8,
   "metadata": {},
   "outputs": [
    {
     "data": {
      "text/plain": [
       "nom_rue_norm_2\n",
       "a la tuerie ?      1\n",
       "ale              186\n",
       "barre            137\n",
       "beau-soleil        1\n",
       "beaulieu           4\n",
       "beausite           1\n",
       "bel-air            4\n",
       "bellevue           4\n",
       "bergieres          2\n",
       "bethusy            1\n",
       "Name: nom_rue_norm_2, dtype: int64"
      ]
     },
     "execution_count": 8,
     "metadata": {},
     "output_type": "execute_result"
    }
   ],
   "source": [
    "rues_count = recensements.groupby('nom_rue_norm_2')['nom_rue_norm_2'].count()\n",
    "rues_count.head(10)"
   ]
  },
  {
   "cell_type": "code",
   "execution_count": 9,
   "metadata": {},
   "outputs": [],
   "source": [
    "# add rues_count to recensements_rues\n",
    "recensements_rues = recensements_rues \\\n",
    "    .join(rues_count, on='nom_rue_norm_2', how='left', rsuffix='_count') \\\n",
    "    .rename(columns={'nom_rue_norm_2_count': 'rue_count'})"
   ]
  },
  {
   "cell_type": "code",
   "execution_count": 10,
   "id": "2842f9ec",
   "metadata": {},
   "outputs": [
    {
     "data": {
      "text/html": [
       "<div>\n",
       "<style scoped>\n",
       "    .dataframe tbody tr th:only-of-type {\n",
       "        vertical-align: middle;\n",
       "    }\n",
       "\n",
       "    .dataframe tbody tr th {\n",
       "        vertical-align: top;\n",
       "    }\n",
       "\n",
       "    .dataframe thead th {\n",
       "        text-align: right;\n",
       "    }\n",
       "</style>\n",
       "<table border=\"1\" class=\"dataframe\">\n",
       "  <thead>\n",
       "    <tr style=\"text-align: right;\">\n",
       "      <th></th>\n",
       "      <th>nom_rue_norm_2</th>\n",
       "      <th>nom_rue_map</th>\n",
       "      <th>rue_count</th>\n",
       "    </tr>\n",
       "  </thead>\n",
       "  <tbody>\n",
       "    <tr>\n",
       "      <th>0</th>\n",
       "      <td>marterey</td>\n",
       "      <td>None</td>\n",
       "      <td>252</td>\n",
       "    </tr>\n",
       "    <tr>\n",
       "      <th>1</th>\n",
       "      <td>bugnon</td>\n",
       "      <td>au bugnon</td>\n",
       "      <td>4</td>\n",
       "    </tr>\n",
       "    <tr>\n",
       "      <th>2</th>\n",
       "      <td>etraz</td>\n",
       "      <td>rue d etraz</td>\n",
       "      <td>81</td>\n",
       "    </tr>\n",
       "    <tr>\n",
       "      <th>3</th>\n",
       "      <td>villamont</td>\n",
       "      <td>None</td>\n",
       "      <td>2</td>\n",
       "    </tr>\n",
       "    <tr>\n",
       "      <th>4</th>\n",
       "      <td>mon repos</td>\n",
       "      <td>a mon repos</td>\n",
       "      <td>1</td>\n",
       "    </tr>\n",
       "  </tbody>\n",
       "</table>\n",
       "</div>"
      ],
      "text/plain": [
       "  nom_rue_norm_2  nom_rue_map  rue_count\n",
       "0       marterey         None        252\n",
       "1         bugnon    au bugnon          4\n",
       "2          etraz  rue d etraz         81\n",
       "3      villamont         None          2\n",
       "4      mon repos  a mon repos          1"
      ]
     },
     "execution_count": 10,
     "metadata": {},
     "output_type": "execute_result"
    }
   ],
   "source": [
    "recensements_rues.head()"
   ]
  },
  {
   "cell_type": "code",
   "execution_count": 11,
   "id": "24089cd3",
   "metadata": {},
   "outputs": [
    {
     "data": {
      "text/plain": [
       "2558"
      ]
     },
     "execution_count": 11,
     "metadata": {},
     "output_type": "execute_result"
    }
   ],
   "source": [
    "mapped_rues = recensements_rues[recensements_rues['nom_rue_map'].notnull()]\n",
    "mapped_rues_count = mapped_rues['rue_count'].sum()\n",
    "mapped_rues_count"
   ]
  },
  {
   "cell_type": "code",
   "execution_count": 13,
   "id": "da7a1825",
   "metadata": {},
   "outputs": [
    {
     "data": {
      "text/plain": [
       "3674"
      ]
     },
     "execution_count": 13,
     "metadata": {},
     "output_type": "execute_result"
    }
   ],
   "source": [
    "total_rues_count = recensements_rues['rue_count'].sum()\n",
    "total_rues_count"
   ]
  },
  {
   "cell_type": "code",
   "execution_count": 15,
   "id": "fe40571e",
   "metadata": {},
   "outputs": [
    {
     "name": "stdout",
     "output_type": "stream",
     "text": [
      "There are 69.62% of the entries in the recensements that have a mapped street\n"
     ]
    }
   ],
   "source": [
    "print(f'There are {mapped_rues_count / total_rues_count:.2%} of the entries in the recensements that have a mapped street')"
   ]
  },
  {
   "cell_type": "code",
   "execution_count": 17,
   "id": "9218a4c4",
   "metadata": {},
   "outputs": [
    {
     "data": {
      "text/html": [
       "<div>\n",
       "<style scoped>\n",
       "    .dataframe tbody tr th:only-of-type {\n",
       "        vertical-align: middle;\n",
       "    }\n",
       "\n",
       "    .dataframe tbody tr th {\n",
       "        vertical-align: top;\n",
       "    }\n",
       "\n",
       "    .dataframe thead th {\n",
       "        text-align: right;\n",
       "    }\n",
       "</style>\n",
       "<table border=\"1\" class=\"dataframe\">\n",
       "  <thead>\n",
       "    <tr style=\"text-align: right;\">\n",
       "      <th></th>\n",
       "      <th>nom_rue_norm_2</th>\n",
       "      <th>nom_rue_map</th>\n",
       "      <th>rue_count</th>\n",
       "    </tr>\n",
       "  </thead>\n",
       "  <tbody>\n",
       "    <tr>\n",
       "      <th>0</th>\n",
       "      <td>marterey</td>\n",
       "      <td>None</td>\n",
       "      <td>252</td>\n",
       "    </tr>\n",
       "    <tr>\n",
       "      <th>47</th>\n",
       "      <td>ale</td>\n",
       "      <td>None</td>\n",
       "      <td>186</td>\n",
       "    </tr>\n",
       "    <tr>\n",
       "      <th>64</th>\n",
       "      <td>ouchy</td>\n",
       "      <td>None</td>\n",
       "      <td>123</td>\n",
       "    </tr>\n",
       "    <tr>\n",
       "      <th>86</th>\n",
       "      <td>cour</td>\n",
       "      <td>None</td>\n",
       "      <td>48</td>\n",
       "    </tr>\n",
       "    <tr>\n",
       "      <th>122</th>\n",
       "      <td>chailly</td>\n",
       "      <td>None</td>\n",
       "      <td>35</td>\n",
       "    </tr>\n",
       "    <tr>\n",
       "      <th>49</th>\n",
       "      <td>maupas</td>\n",
       "      <td>None</td>\n",
       "      <td>30</td>\n",
       "    </tr>\n",
       "    <tr>\n",
       "      <th>19</th>\n",
       "      <td>grotte</td>\n",
       "      <td>None</td>\n",
       "      <td>26</td>\n",
       "    </tr>\n",
       "    <tr>\n",
       "      <th>141</th>\n",
       "      <td>la sallaz</td>\n",
       "      <td>None</td>\n",
       "      <td>21</td>\n",
       "    </tr>\n",
       "    <tr>\n",
       "      <th>22</th>\n",
       "      <td>petit chene</td>\n",
       "      <td>None</td>\n",
       "      <td>18</td>\n",
       "    </tr>\n",
       "    <tr>\n",
       "      <th>142</th>\n",
       "      <td>vennes</td>\n",
       "      <td>None</td>\n",
       "      <td>17</td>\n",
       "    </tr>\n",
       "  </tbody>\n",
       "</table>\n",
       "</div>"
      ],
      "text/plain": [
       "    nom_rue_norm_2 nom_rue_map  rue_count\n",
       "0         marterey        None        252\n",
       "47             ale        None        186\n",
       "64           ouchy        None        123\n",
       "86            cour        None         48\n",
       "122        chailly        None         35\n",
       "49          maupas        None         30\n",
       "19          grotte        None         26\n",
       "141      la sallaz        None         21\n",
       "22     petit chene        None         18\n",
       "142         vennes        None         17"
      ]
     },
     "execution_count": 17,
     "metadata": {},
     "output_type": "execute_result"
    }
   ],
   "source": [
    "not_mapped_rues = recensements_rues[recensements_rues['nom_rue_map'].isnull()]\n",
    "not_mapped_top_rues = not_mapped_rues.sort_values('rue_count', ascending=False).head(10)\n",
    "not_mapped_top_rues"
   ]
  }
 ],
 "metadata": {
  "kernelspec": {
   "display_name": "base",
   "language": "python",
   "name": "python3"
  },
  "language_info": {
   "codemirror_mode": {
    "name": "ipython",
    "version": 3
   },
   "file_extension": ".py",
   "mimetype": "text/x-python",
   "name": "python",
   "nbconvert_exporter": "python",
   "pygments_lexer": "ipython3",
   "version": "3.9.12"
  },
  "orig_nbformat": 4,
  "pycharm": {
   "stem_cell": {
    "cell_type": "raw",
    "metadata": {
     "collapsed": false,
     "pycharm": {
      "name": "#%%\n"
     }
    },
    "source": []
   }
  },
  "vscode": {
   "interpreter": {
    "hash": "26bd856f3b4fa88b0f4af023dab36e83d37285060c9f0809863006eb55bf9261"
   }
  }
 },
 "nbformat": 4,
 "nbformat_minor": 5
}
