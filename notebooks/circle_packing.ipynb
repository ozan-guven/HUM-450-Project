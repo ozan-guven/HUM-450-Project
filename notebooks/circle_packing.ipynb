{
 "cells": [
  {
   "cell_type": "code",
   "execution_count": 1,
   "metadata": {},
   "outputs": [],
   "source": [
    "import pandas as pd\n",
    "\n",
    "DATA_PATH = '../data/1832_v4.xlsx'"
   ]
  },
  {
   "cell_type": "code",
   "execution_count": null,
   "metadata": {},
   "outputs": [],
   "source": [
    "rec = pd.read_excel(DATA_PATH, index_col=0)\n",
    "rec = rec[[\n",
    "    \"nom_rue_norm_2\",\n",
    "    \"no_maison\",\n",
    "    \"proprietaire_nom_norm_2\",\n",
    "    \"chef_prenom_norm\",\n",
    "    \"chef_nom_norm_2\",\n",
    "    \"chef_annee_naissance\",\n",
    "    \"epouse_nom_norm\",\n",
    "    \"epouse_annee_naissance\",\n",
    "    \"enfants_dans_la_commune_prenom_norm\",\n",
    "    \"enfants_annee_naissance\",\n",
    "    \"chef_origine_norm_2\",\n",
    "    \"chef_annee_arrivee\",\n",
    "    \"chef_vocation_norm_2\",\n",
    "    \"pensionnaires_prenom_norm\",\n",
    "    \"pensionnaires_nom_norm\",\n",
    "    \"pensionnaires_origine_norm\",\n",
    "    \"Page\"\n",
    "]]\n",
    "rec = rec.rename(columns={\n",
    "    \"nom_rue_norm_2\": \"nom_rue\",\n",
    "    \"proprietaire_nom_norm_2\": \"proprietaire_nom\",\n",
    "    \"chef_prenom_norm\": \"chef_prenom\",\n",
    "    \"chef_nom_norm_2\": \"chef_nom\",\n",
    "    \"epouse_nom_norm\": \"epouse_nom\",\n",
    "    \"enfants_dans_la_commune_prenom_norm\": \"enfants_dans_la_commune_prenom\",\n",
    "    \"chef_origine_norm_2\": \"chef_origine\",\n",
    "    \"chef_vocation_norm_2\": \"chef_vocation\",\n",
    "    \"pensionnaires_prenom_norm\": \"pensionnaires_prenom\",\n",
    "    \"pensionnaires_nom_norm\": \"pensionnaires_nom\",\n",
    "    \"pensionnaires_origine_norm\": \"pensionnaires_origine\",\n",
    "    \"Page\" : \"page\"\n",
    "})\n",
    "\n",
    "rec.head()"
   ]
  }
 ],
 "metadata": {
  "kernelspec": {
   "display_name": "Python 3",
   "language": "python",
   "name": "python3"
  },
  "language_info": {
   "codemirror_mode": {
    "name": "ipython",
    "version": 3
   },
   "file_extension": ".py",
   "mimetype": "text/x-python",
   "name": "python",
   "nbconvert_exporter": "python",
   "pygments_lexer": "ipython3",
   "version": "3.11.3"
  },
  "orig_nbformat": 4
 },
 "nbformat": 4,
 "nbformat_minor": 2
}
