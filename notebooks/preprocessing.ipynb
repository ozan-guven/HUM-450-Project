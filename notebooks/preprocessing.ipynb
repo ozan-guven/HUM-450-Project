{
 "cells": [
  {
   "attachments": {},
   "cell_type": "markdown",
   "metadata": {},
   "source": [
    "# **Data Preprocessing**"
   ]
  },
  {
   "cell_type": "code",
   "execution_count": 146,
   "metadata": {},
   "outputs": [],
   "source": [
    "import pandas as pd\n",
    "import numpy as np\n",
    "import matplotlib.pyplot as plt\n",
    "\n",
    "DATA_PATH = '../data/1832_v4.xlsx'\n",
    "JOB_PATH = \"../data/classification_metiers.csv\""
   ]
  },
  {
   "cell_type": "code",
   "execution_count": 147,
   "metadata": {},
   "outputs": [
    {
     "name": "stdout",
     "output_type": "stream",
     "text": [
      "Number of records: 3674\n"
     ]
    },
    {
     "data": {
      "text/html": [
       "<div>\n",
       "<style scoped>\n",
       "    .dataframe tbody tr th:only-of-type {\n",
       "        vertical-align: middle;\n",
       "    }\n",
       "\n",
       "    .dataframe tbody tr th {\n",
       "        vertical-align: top;\n",
       "    }\n",
       "\n",
       "    .dataframe thead th {\n",
       "        text-align: right;\n",
       "    }\n",
       "</style>\n",
       "<table border=\"1\" class=\"dataframe\">\n",
       "  <thead>\n",
       "    <tr style=\"text-align: right;\">\n",
       "      <th></th>\n",
       "      <th>nom_rue</th>\n",
       "      <th>no_maison</th>\n",
       "      <th>chef_annee_naissance</th>\n",
       "      <th>chef_origine</th>\n",
       "      <th>chef_annee_arrivee</th>\n",
       "      <th>chef_vocation</th>\n",
       "      <th>page</th>\n",
       "      <th>division</th>\n",
       "    </tr>\n",
       "  </thead>\n",
       "  <tbody>\n",
       "    <tr>\n",
       "      <th>1</th>\n",
       "      <td>marterey</td>\n",
       "      <td>1</td>\n",
       "      <td>1764</td>\n",
       "      <td>tolochenaz</td>\n",
       "      <td>1786</td>\n",
       "      <td>charon</td>\n",
       "      <td>1</td>\n",
       "      <td>1-2</td>\n",
       "    </tr>\n",
       "    <tr>\n",
       "      <th>2</th>\n",
       "      <td>marterey</td>\n",
       "      <td>2</td>\n",
       "      <td>17936</td>\n",
       "      <td>rolle</td>\n",
       "      <td>1821</td>\n",
       "      <td>marechal-ferrant</td>\n",
       "      <td>1</td>\n",
       "      <td>1-2</td>\n",
       "    </tr>\n",
       "    <tr>\n",
       "      <th>3</th>\n",
       "      <td>marterey</td>\n",
       "      <td>3</td>\n",
       "      <td>1785</td>\n",
       "      <td>pailly</td>\n",
       "      <td>NaN</td>\n",
       "      <td>lingere</td>\n",
       "      <td>1</td>\n",
       "      <td>1-2</td>\n",
       "    </tr>\n",
       "    <tr>\n",
       "      <th>4</th>\n",
       "      <td>marterey</td>\n",
       "      <td>NaN</td>\n",
       "      <td>NaN</td>\n",
       "      <td>gingins</td>\n",
       "      <td>NaN</td>\n",
       "      <td>rentier</td>\n",
       "      <td>1</td>\n",
       "      <td>1-2</td>\n",
       "    </tr>\n",
       "    <tr>\n",
       "      <th>5</th>\n",
       "      <td>marterey</td>\n",
       "      <td>NaN</td>\n",
       "      <td>1802</td>\n",
       "      <td>lutry</td>\n",
       "      <td>NaN</td>\n",
       "      <td>garcon voiturier</td>\n",
       "      <td>1</td>\n",
       "      <td>1-2</td>\n",
       "    </tr>\n",
       "  </tbody>\n",
       "</table>\n",
       "</div>"
      ],
      "text/plain": [
       "    nom_rue no_maison chef_annee_naissance chef_origine chef_annee_arrivee  \\\n",
       "1  marterey         1                 1764   tolochenaz               1786   \n",
       "2  marterey         2                17936        rolle               1821   \n",
       "3  marterey         3                 1785       pailly                NaN   \n",
       "4  marterey       NaN                  NaN      gingins                NaN   \n",
       "5  marterey       NaN                 1802        lutry                NaN   \n",
       "\n",
       "      chef_vocation  page division  \n",
       "1            charon     1      1-2  \n",
       "2  marechal-ferrant     1      1-2  \n",
       "3           lingere     1      1-2  \n",
       "4           rentier     1      1-2  \n",
       "5  garcon voiturier     1      1-2  "
      ]
     },
     "execution_count": 147,
     "metadata": {},
     "output_type": "execute_result"
    }
   ],
   "source": [
    "rec = pd.read_excel(\n",
    "    DATA_PATH, \n",
    "    index_col=0,\n",
    "    na_values=['·', 'ne', 'nee']\n",
    ")\n",
    "rec = rec[[\n",
    "    \"nom_rue_norm_2\",\n",
    "    \"no_maison\",\n",
    "    \"chef_annee_naissance\",\n",
    "    \"chef_origine_norm_2\",\n",
    "    \"chef_annee_arrivee\",\n",
    "    \"chef_vocation_norm_2\",\n",
    "    \"Page\",\n",
    "    'Division'\n",
    "]]\n",
    "rec = rec.rename(columns={\n",
    "    \"nom_rue_norm_2\": \"nom_rue\",\n",
    "    \"chef_origine_norm_2\": \"chef_origine\",\n",
    "    \"chef_vocation_norm_2\": \"chef_vocation\",\n",
    "    \"Page\" : \"page\",\n",
    "    \"Division\" : \"division\"\n",
    "})\n",
    "\n",
    "print(f'Number of records: {len(rec)}')\n",
    "rec.head()"
   ]
  },
  {
   "attachments": {},
   "cell_type": "markdown",
   "metadata": {},
   "source": [
    "## **Process House Number**"
   ]
  },
  {
   "cell_type": "code",
   "execution_count": 148,
   "metadata": {},
   "outputs": [
    {
     "name": "stdout",
     "output_type": "stream",
     "text": [
      "Number of new NaNs: 23\n"
     ]
    }
   ],
   "source": [
    "# Replace all values not numeric by NaN in no_maison\n",
    "nans_before = rec['no_maison'].isna().sum().sum()\n",
    "rec['no_maison'] = pd.to_numeric(rec['no_maison'], errors='coerce')\n",
    "nans_after = rec['no_maison'].isna().sum().sum()\n",
    "print(f'Number of new NaNs: {nans_after - nans_before}')"
   ]
  },
  {
   "cell_type": "code",
   "execution_count": 149,
   "metadata": {},
   "outputs": [
    {
     "name": "stdout",
     "output_type": "stream",
     "text": [
      "Number of new NaNs: 11\n"
     ]
    }
   ],
   "source": [
    "# Set nan to house numbers that are not in the range [MAX_HOUSE_NUMBER, MIN_HOUSE_NUMBER]\n",
    "MAX_HOUSE_NUMBER = 1\n",
    "MIN_HOUSE_NUMBER = 100\n",
    "nans_before = rec['no_maison'].isna().sum().sum()\n",
    "rec.loc[rec['no_maison'] > MIN_HOUSE_NUMBER, 'no_maison'] = np.nan\n",
    "rec.loc[rec['no_maison'] < MAX_HOUSE_NUMBER, 'no_maison'] = np.nan\n",
    "nans_after = rec['no_maison'].isna().sum().sum()\n",
    "print(f'Number of new NaNs: {nans_after - nans_before}')"
   ]
  },
  {
   "cell_type": "code",
   "execution_count": 150,
   "metadata": {},
   "outputs": [
    {
     "data": {
      "text/html": [
       "<div>\n",
       "<style scoped>\n",
       "    .dataframe tbody tr th:only-of-type {\n",
       "        vertical-align: middle;\n",
       "    }\n",
       "\n",
       "    .dataframe tbody tr th {\n",
       "        vertical-align: top;\n",
       "    }\n",
       "\n",
       "    .dataframe thead th {\n",
       "        text-align: right;\n",
       "    }\n",
       "</style>\n",
       "<table border=\"1\" class=\"dataframe\">\n",
       "  <thead>\n",
       "    <tr style=\"text-align: right;\">\n",
       "      <th></th>\n",
       "      <th>nom_rue</th>\n",
       "      <th>no_maison</th>\n",
       "      <th>chef_annee_naissance</th>\n",
       "      <th>chef_origine</th>\n",
       "      <th>chef_annee_arrivee</th>\n",
       "      <th>chef_vocation</th>\n",
       "      <th>page</th>\n",
       "      <th>division</th>\n",
       "    </tr>\n",
       "  </thead>\n",
       "  <tbody>\n",
       "    <tr>\n",
       "      <th>1</th>\n",
       "      <td>marterey</td>\n",
       "      <td>1</td>\n",
       "      <td>1764</td>\n",
       "      <td>tolochenaz</td>\n",
       "      <td>1786</td>\n",
       "      <td>charon</td>\n",
       "      <td>1</td>\n",
       "      <td>1-2</td>\n",
       "    </tr>\n",
       "    <tr>\n",
       "      <th>2</th>\n",
       "      <td>marterey</td>\n",
       "      <td>2</td>\n",
       "      <td>17936</td>\n",
       "      <td>rolle</td>\n",
       "      <td>1821</td>\n",
       "      <td>marechal-ferrant</td>\n",
       "      <td>1</td>\n",
       "      <td>1-2</td>\n",
       "    </tr>\n",
       "    <tr>\n",
       "      <th>3</th>\n",
       "      <td>marterey</td>\n",
       "      <td>3</td>\n",
       "      <td>1785</td>\n",
       "      <td>pailly</td>\n",
       "      <td>NaN</td>\n",
       "      <td>lingere</td>\n",
       "      <td>1</td>\n",
       "      <td>1-2</td>\n",
       "    </tr>\n",
       "    <tr>\n",
       "      <th>4</th>\n",
       "      <td>marterey</td>\n",
       "      <td>3</td>\n",
       "      <td>NaN</td>\n",
       "      <td>gingins</td>\n",
       "      <td>NaN</td>\n",
       "      <td>rentier</td>\n",
       "      <td>1</td>\n",
       "      <td>1-2</td>\n",
       "    </tr>\n",
       "    <tr>\n",
       "      <th>5</th>\n",
       "      <td>marterey</td>\n",
       "      <td>3</td>\n",
       "      <td>1802</td>\n",
       "      <td>lutry</td>\n",
       "      <td>NaN</td>\n",
       "      <td>garcon voiturier</td>\n",
       "      <td>1</td>\n",
       "      <td>1-2</td>\n",
       "    </tr>\n",
       "  </tbody>\n",
       "</table>\n",
       "</div>"
      ],
      "text/plain": [
       "    nom_rue  no_maison chef_annee_naissance chef_origine chef_annee_arrivee  \\\n",
       "1  marterey          1                 1764   tolochenaz               1786   \n",
       "2  marterey          2                17936        rolle               1821   \n",
       "3  marterey          3                 1785       pailly                NaN   \n",
       "4  marterey          3                  NaN      gingins                NaN   \n",
       "5  marterey          3                 1802        lutry                NaN   \n",
       "\n",
       "      chef_vocation  page division  \n",
       "1            charon     1      1-2  \n",
       "2  marechal-ferrant     1      1-2  \n",
       "3           lingere     1      1-2  \n",
       "4           rentier     1      1-2  \n",
       "5  garcon voiturier     1      1-2  "
      ]
     },
     "execution_count": 150,
     "metadata": {},
     "output_type": "execute_result"
    }
   ],
   "source": [
    "# Fill forward no_maison\n",
    "rec['no_maison'] = rec['no_maison'].fillna(method='ffill')\n",
    "rec['no_maison'] = rec['no_maison'].astype(int)\n",
    "rec.head()"
   ]
  },
  {
   "cell_type": "code",
   "execution_count": 151,
   "metadata": {},
   "outputs": [
    {
     "data": {
      "image/png": "[encoded data removed]",
      "text/plain": [
       "<Figure size 640x480 with 1 Axes>"
      ]
     },
     "metadata": {},
     "output_type": "display_data"
    }
   ],
   "source": [
    "# Show the distribution of the house numbers\n",
    "rec['no_maison'].hist(bins=25)\n",
    "plt.title('Distribution of house numbers')\n",
    "plt.xlabel('House number')\n",
    "plt.ylabel('Frequency')\n",
    "plt.show()"
   ]
  },
  {
   "attachments": {},
   "cell_type": "markdown",
   "metadata": {},
   "source": [
    "## **Process Birth Year**"
   ]
  },
  {
   "cell_type": "code",
   "execution_count": 152,
   "metadata": {},
   "outputs": [
    {
     "name": "stdout",
     "output_type": "stream",
     "text": [
      "Number of new NaNs: 27\n"
     ]
    }
   ],
   "source": [
    "# Replace all values not numeric by NaN in chef_annee_naissance\n",
    "nans_before = rec.isna().sum().sum()\n",
    "rec['chef_annee_naissance'] = pd.to_numeric(rec['chef_annee_naissance'], errors='coerce')\n",
    "nans_after = rec.isna().sum().sum()\n",
    "print(f'Number of new NaNs: {nans_after - nans_before}')"
   ]
  },
  {
   "cell_type": "code",
   "execution_count": 153,
   "metadata": {},
   "outputs": [
    {
     "name": "stdout",
     "output_type": "stream",
     "text": [
      "Number of new NaNs: 160\n"
     ]
    }
   ],
   "source": [
    "# Set nan to people that are more than 100 years old, and less than 10\n",
    "YEAR = 1832\n",
    "nans_before = rec.isna().sum().sum()\n",
    "rec.loc[rec['chef_annee_naissance'] < YEAR - 100, 'chef_annee_naissance'] = np.nan\n",
    "rec.loc[rec['chef_annee_naissance'] > YEAR - 10, 'chef_annee_naissance'] = np.nan\n",
    "nans_after = rec.isna().sum().sum()\n",
    "print(f'Number of new NaNs: {nans_after - nans_before}')"
   ]
  },
  {
   "cell_type": "code",
   "execution_count": 154,
   "metadata": {},
   "outputs": [
    {
     "data": {
      "image/png": "[encoded data removed]",
      "text/plain": [
       "<Figure size 640x480 with 1 Axes>"
      ]
     },
     "metadata": {},
     "output_type": "display_data"
    }
   ],
   "source": [
    "# Show the distribution of the year of birth\n",
    "rec['chef_annee_naissance'].hist(bins=25)\n",
    "plt.title('Distribution of the year of birth')\n",
    "plt.xlabel('Year of birth')\n",
    "plt.ylabel('Number of people')\n",
    "plt.show()"
   ]
  },
  {
   "attachments": {},
   "cell_type": "markdown",
   "metadata": {},
   "source": [
    "## **Process Arrival Year**"
   ]
  },
  {
   "cell_type": "code",
   "execution_count": 155,
   "metadata": {},
   "outputs": [
    {
     "name": "stdout",
     "output_type": "stream",
     "text": [
      "Number of new NaNs: 54\n"
     ]
    }
   ],
   "source": [
    "# Replace all values not numeric by NaN in chef_annee_naissance\n",
    "nans_before = rec.isna().sum().sum()\n",
    "rec['chef_annee_arrivee'] = pd.to_numeric(rec['chef_annee_arrivee'], errors='coerce')\n",
    "nans_after = rec.isna().sum().sum()\n",
    "print(f'Number of new NaNs: {nans_after - nans_before}')"
   ]
  },
  {
   "cell_type": "code",
   "execution_count": 156,
   "metadata": {},
   "outputs": [
    {
     "name": "stdout",
     "output_type": "stream",
     "text": [
      "Number of new NaNs: 35\n"
     ]
    }
   ],
   "source": [
    "# Set nan to people that came more than 100 years before 1832, and after 1832\n",
    "YEAR = 1832\n",
    "nans_before = rec.isna().sum().sum()\n",
    "rec.loc[rec['chef_annee_arrivee'] < YEAR - 100, 'chef_annee_arrivee'] = np.nan\n",
    "rec.loc[rec['chef_annee_arrivee'] > YEAR, 'chef_annee_arrivee'] = np.nan\n",
    "nans_after = rec.isna().sum().sum()\n",
    "print(f'Number of new NaNs: {nans_after - nans_before}')"
   ]
  },
  {
   "cell_type": "code",
   "execution_count": 157,
   "metadata": {},
   "outputs": [
    {
     "data": {
      "text/plain": [
       "Text(0, 0.5, 'Number of people')"
      ]
     },
     "execution_count": 157,
     "metadata": {},
     "output_type": "execute_result"
    },
    {
     "data": {
      "image/png": "[encoded data removed]",
      "text/plain": [
       "<Figure size 640x480 with 1 Axes>"
      ]
     },
     "metadata": {},
     "output_type": "display_data"
    }
   ],
   "source": [
    "# Show the distribution of the arrival year\n",
    "rec['chef_annee_arrivee'].hist(bins=25)\n",
    "plt.title('Distribution of the arrival year')\n",
    "plt.xlabel('Year of arrival')\n",
    "plt.ylabel('Number of people')"
   ]
  },
  {
   "attachments": {},
   "cell_type": "markdown",
   "metadata": {},
   "source": [
    "## **Process Job**"
   ]
  },
  {
   "cell_type": "code",
   "execution_count": 158,
   "metadata": {},
   "outputs": [
    {
     "data": {
      "text/html": [
       "<div>\n",
       "<style scoped>\n",
       "    .dataframe tbody tr th:only-of-type {\n",
       "        vertical-align: middle;\n",
       "    }\n",
       "\n",
       "    .dataframe tbody tr th {\n",
       "        vertical-align: top;\n",
       "    }\n",
       "\n",
       "    .dataframe thead th {\n",
       "        text-align: right;\n",
       "    }\n",
       "</style>\n",
       "<table border=\"1\" class=\"dataframe\">\n",
       "  <thead>\n",
       "    <tr style=\"text-align: right;\">\n",
       "      <th></th>\n",
       "      <th>job</th>\n",
       "      <th>class</th>\n",
       "    </tr>\n",
       "  </thead>\n",
       "  <tbody>\n",
       "    <tr>\n",
       "      <th>0</th>\n",
       "      <td>rentier</td>\n",
       "      <td>rente</td>\n",
       "    </tr>\n",
       "    <tr>\n",
       "      <th>1</th>\n",
       "      <td>rentiere</td>\n",
       "      <td>rente</td>\n",
       "    </tr>\n",
       "    <tr>\n",
       "      <th>2</th>\n",
       "      <td>journalier</td>\n",
       "      <td>agricole</td>\n",
       "    </tr>\n",
       "    <tr>\n",
       "      <th>3</th>\n",
       "      <td>vigneron</td>\n",
       "      <td>agricole</td>\n",
       "    </tr>\n",
       "    <tr>\n",
       "      <th>4</th>\n",
       "      <td>proprietaire</td>\n",
       "      <td>rente</td>\n",
       "    </tr>\n",
       "  </tbody>\n",
       "</table>\n",
       "</div>"
      ],
      "text/plain": [
       "            job     class\n",
       "0       rentier     rente\n",
       "1      rentiere     rente\n",
       "2    journalier  agricole\n",
       "3      vigneron  agricole\n",
       "4  proprietaire     rente"
      ]
     },
     "execution_count": 158,
     "metadata": {},
     "output_type": "execute_result"
    }
   ],
   "source": [
    "job_classifications = pd.read_csv(JOB_PATH)\n",
    "job_classifications.head() "
   ]
  },
  {
   "cell_type": "code",
   "execution_count": 159,
   "metadata": {},
   "outputs": [
    {
     "data": {
      "text/html": [
       "<div>\n",
       "<style scoped>\n",
       "    .dataframe tbody tr th:only-of-type {\n",
       "        vertical-align: middle;\n",
       "    }\n",
       "\n",
       "    .dataframe tbody tr th {\n",
       "        vertical-align: top;\n",
       "    }\n",
       "\n",
       "    .dataframe thead th {\n",
       "        text-align: right;\n",
       "    }\n",
       "</style>\n",
       "<table border=\"1\" class=\"dataframe\">\n",
       "  <thead>\n",
       "    <tr style=\"text-align: right;\">\n",
       "      <th></th>\n",
       "      <th>nom_rue</th>\n",
       "      <th>no_maison</th>\n",
       "      <th>chef_annee_naissance</th>\n",
       "      <th>chef_origine</th>\n",
       "      <th>chef_annee_arrivee</th>\n",
       "      <th>chef_vocation</th>\n",
       "      <th>page</th>\n",
       "      <th>division</th>\n",
       "      <th>chef_vocation_class</th>\n",
       "    </tr>\n",
       "  </thead>\n",
       "  <tbody>\n",
       "    <tr>\n",
       "      <th>0</th>\n",
       "      <td>marterey</td>\n",
       "      <td>1</td>\n",
       "      <td>1764.0</td>\n",
       "      <td>tolochenaz</td>\n",
       "      <td>1786.0</td>\n",
       "      <td>charon</td>\n",
       "      <td>1</td>\n",
       "      <td>1-2</td>\n",
       "      <td>NaN</td>\n",
       "    </tr>\n",
       "    <tr>\n",
       "      <th>1</th>\n",
       "      <td>marterey</td>\n",
       "      <td>2</td>\n",
       "      <td>NaN</td>\n",
       "      <td>rolle</td>\n",
       "      <td>1821.0</td>\n",
       "      <td>marechal-ferrant</td>\n",
       "      <td>1</td>\n",
       "      <td>1-2</td>\n",
       "      <td>artisanat</td>\n",
       "    </tr>\n",
       "    <tr>\n",
       "      <th>2</th>\n",
       "      <td>marterey</td>\n",
       "      <td>3</td>\n",
       "      <td>1785.0</td>\n",
       "      <td>pailly</td>\n",
       "      <td>NaN</td>\n",
       "      <td>lingere</td>\n",
       "      <td>1</td>\n",
       "      <td>1-2</td>\n",
       "      <td>service</td>\n",
       "    </tr>\n",
       "    <tr>\n",
       "      <th>3</th>\n",
       "      <td>marterey</td>\n",
       "      <td>3</td>\n",
       "      <td>NaN</td>\n",
       "      <td>gingins</td>\n",
       "      <td>NaN</td>\n",
       "      <td>rentier</td>\n",
       "      <td>1</td>\n",
       "      <td>1-2</td>\n",
       "      <td>rente</td>\n",
       "    </tr>\n",
       "    <tr>\n",
       "      <th>4</th>\n",
       "      <td>marterey</td>\n",
       "      <td>3</td>\n",
       "      <td>NaN</td>\n",
       "      <td>gingins</td>\n",
       "      <td>NaN</td>\n",
       "      <td>rentier</td>\n",
       "      <td>1</td>\n",
       "      <td>1-2</td>\n",
       "      <td>rente</td>\n",
       "    </tr>\n",
       "  </tbody>\n",
       "</table>\n",
       "</div>"
      ],
      "text/plain": [
       "    nom_rue  no_maison  chef_annee_naissance chef_origine  chef_annee_arrivee  \\\n",
       "0  marterey          1                1764.0   tolochenaz              1786.0   \n",
       "1  marterey          2                   NaN        rolle              1821.0   \n",
       "2  marterey          3                1785.0       pailly                 NaN   \n",
       "3  marterey          3                   NaN      gingins                 NaN   \n",
       "4  marterey          3                   NaN      gingins                 NaN   \n",
       "\n",
       "      chef_vocation  page division chef_vocation_class  \n",
       "0            charon     1      1-2                 NaN  \n",
       "1  marechal-ferrant     1      1-2           artisanat  \n",
       "2           lingere     1      1-2             service  \n",
       "3           rentier     1      1-2               rente  \n",
       "4           rentier     1      1-2               rente  "
      ]
     },
     "execution_count": 159,
     "metadata": {},
     "output_type": "execute_result"
    }
   ],
   "source": [
    "rec = rec.merge(job_classifications, left_on=\"chef_vocation\", right_on=\"job\", how=\"left\")\n",
    "rec = rec.drop(columns=[\"job\"])\n",
    "rec = rec.rename(columns={\"class\": \"chef_vocation_class\"})\n",
    "rec.head()"
   ]
  },
  {
   "cell_type": "code",
   "execution_count": 160,
   "metadata": {},
   "outputs": [
    {
     "data": {
      "text/plain": [
       "nom_rue                    0\n",
       "no_maison                  0\n",
       "chef_annee_naissance     842\n",
       "chef_origine             143\n",
       "chef_annee_arrivee      3069\n",
       "chef_vocation            300\n",
       "page                       0\n",
       "division                   0\n",
       "chef_vocation_class      856\n",
       "dtype: int64"
      ]
     },
     "execution_count": 160,
     "metadata": {},
     "output_type": "execute_result"
    }
   ],
   "source": [
    "rec.isna().sum()"
   ]
  },
  {
   "cell_type": "code",
   "execution_count": 161,
   "metadata": {},
   "outputs": [
    {
     "data": {
      "text/plain": [
       "chef_vocation\n",
       "sans vocation              28\n",
       "?                          18\n",
       "pintier                    15\n",
       "locataire                   7\n",
       "assistee                    5\n",
       "                           ..\n",
       "fabricant de cuir verni     1\n",
       "fabricant de crin           1\n",
       "fabricant de corsets        1\n",
       "fabricant de chaud?         1\n",
       "voyageur                    1\n",
       "Length: 374, dtype: int64"
      ]
     },
     "execution_count": 161,
     "metadata": {},
     "output_type": "execute_result"
    }
   ],
   "source": [
    "rec[rec['chef_vocation_class'].isna()].value_counts('chef_vocation')"
   ]
  },
  {
   "cell_type": "code",
   "execution_count": null,
   "metadata": {},
   "outputs": [],
   "source": []
  }
 ],
 "metadata": {
  "kernelspec": {
   "display_name": "shs",
   "language": "python",
   "name": "python3"
  },
  "language_info": {
   "codemirror_mode": {
    "name": "ipython",
    "version": 3
   },
   "file_extension": ".py",
   "mimetype": "text/x-python",
   "name": "python",
   "nbconvert_exporter": "python",
   "pygments_lexer": "ipython3",
   "version": "3.11.3"
  },
  "orig_nbformat": 4
 },
 "nbformat": 4,
 "nbformat_minor": 2
}
