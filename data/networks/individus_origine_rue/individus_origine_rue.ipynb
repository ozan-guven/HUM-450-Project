{
 "cells": [
  {
   "cell_type": "code",
   "execution_count": 1,
   "metadata": {},
   "outputs": [],
   "source": [
    "import os\n",
    "import numpy as np\n",
    "import pandas as pd\n",
    "import matplotlib.pyplot as plt\n",
    "import networkx as nx\n",
    "from tqdm import tqdm\n",
    "import pickle"
   ]
  },
  {
   "cell_type": "code",
   "execution_count": 2,
   "metadata": {},
   "outputs": [],
   "source": [
    "force_recalculation = True"
   ]
  },
  {
   "cell_type": "code",
   "execution_count": 3,
   "metadata": {},
   "outputs": [],
   "source": [
    "# Loading data\n",
    "recensement = pd.read_excel(io=\"../../1832_v4.xlsx\", na_values=[\"·\",\"?\"])\n",
    "classes = pd.read_excel(io=\"../../histoire urbaine digitale classification metiers.xlsx\", sheet_name=\"data\",  na_values=\"·\")\n",
    "\n",
    "# Adding the 'chef_vocation_categorie' column\n",
    "classes = classes.rename(columns={\"JOB\": \"chef_vocation_norm_2\"})\n",
    "classes = classes.rename(columns={\"CLASS\": \"chef_vocation_categorie\"})\n",
    "recensement = recensement.merge(classes, on=\"chef_vocation_norm_2\", how=\"outer\")\n",
    "\n",
    "# Split the values on the '/' character\n",
    "split_vals = recensement['chef_vocation_categorie'].str.split('/')\n",
    "\n",
    "# Create a new dataframe from the split values\n",
    "recensement = recensement.assign(chef_vocation_categorie=split_vals).explode('chef_vocation_categorie')"
   ]
  },
  {
   "attachments": {},
   "cell_type": "markdown",
   "metadata": {},
   "source": [
    "Only a subset is taken to make the graph. Comment this line to study the full graph."
   ]
  },
  {
   "cell_type": "code",
   "execution_count": 4,
   "metadata": {},
   "outputs": [],
   "source": [
    "def filter_most_common(df: pd.DataFrame, row_name: str, n: int) -> pd.DataFrame:\n",
    "    value_counts = df[row_name].value_counts()\n",
    "    most_common = value_counts.index[:n]\n",
    "    return df[df[row_name].isin(most_common)]\n"
   ]
  },
  {
   "attachments": {},
   "cell_type": "markdown",
   "metadata": {},
   "source": [
    "Filtering some data to reduce complexity of the network."
   ]
  },
  {
   "cell_type": "code",
   "execution_count": 5,
   "metadata": {},
   "outputs": [
    {
     "name": "stdout",
     "output_type": "stream",
     "text": [
      "Size is now 80% of the original.\n"
     ]
    }
   ],
   "source": [
    "original_size = len(recensement)\n",
    "\n",
    "# Keep only the persons who have a classified vocation\n",
    "recensement = recensement.query(\"not chef_vocation_categorie.isna()\")\n",
    "print(f\"Size is now {len(recensement)/original_size*100:.0f}% of the original.\")\n",
    "\n",
    "# Keep only the persons whose rue is among the 10 most common\n",
    "# recensement = filter_most_common(recensement, \"nom_rue_norm_2\", 1000)\n",
    "# print(f\"Size is now {len(recensement)/original_size*100:.0f}% of the original.\")\n",
    "\n",
    "# Keep only the persons whose origine is among the 10 most common\n",
    "# recensement = filter_most_common(recensement, \"chef_origine_norm_2\", 1000)\n",
    "# print(f\"Size is now {len(recensement)/original_size*100:.0f}% of the original.\")"
   ]
  },
  {
   "attachments": {},
   "cell_type": "markdown",
   "metadata": {},
   "source": [
    "A `networkx` graph is made. If the file `individus_origine_rue.pkl` already exists, the graph is loaded from there. Else it is recalculated (can take up to 5 minutes if the full graph is being used)."
   ]
  },
  {
   "cell_type": "code",
   "execution_count": 6,
   "metadata": {},
   "outputs": [
    {
     "name": "stderr",
     "output_type": "stream",
     "text": [
      "100%|██████████| 3071/3071 [05:13<00:00,  9.81it/s]\n"
     ]
    }
   ],
   "source": [
    "if force_recalculation or not os.path.exists(\"individus_origine_rue.pkl\"):\n",
    "    G = nx.Graph()\n",
    "    for index, row in recensement.iterrows():\n",
    "        G.add_node(\n",
    "            index,\n",
    "            nom_rue=row[\"nom_rue_norm_2\"],\n",
    "            proprietaire=row[\"proprietaire_nom_norm_2\"],\n",
    "            chef_nom=row[\"chef_nom_norm_2\"],\n",
    "            chef_annee_naissance=row[\"chef_annee_naissance\"],\n",
    "            chef_origine=row[\"chef_origine_norm_2\"],\n",
    "            chef_vocation=row[\"chef_vocation_norm_2\"],\n",
    "            chef_vocation_categorie=row[\"chef_vocation_categorie\"],\n",
    "        )\n",
    "    for index1, row1 in tqdm(recensement.iterrows(), total=len(recensement)):\n",
    "        if pd.isna(row1[\"chef_vocation_categorie\"]): continue\n",
    "        for index2, row2 in recensement.iterrows():\n",
    "            if pd.isna(row2[\"chef_vocation_categorie\"]): continue\n",
    "            if index2 < index1: continue\n",
    "\n",
    "            score = 0\n",
    "\n",
    "            #if row1[\"chef_vocation_categorie\"] == row2[\"chef_vocation_categorie\"]: score += 1\n",
    "            # if row1[\"chef_vocation_norm_2\"] == row2[\"chef_vocation_norm_2\"]: score += 1\n",
    "            # if row1[\"proprietaire_nom_norm_2\"] == row2[\"proprietaire_nom_norm_2\"]: score += 1\n",
    "            if row1[\"nom_rue_norm_2\"] == row2[\"nom_rue_norm_2\"]: score += 1\n",
    "            if row1[\"chef_origine_norm_2\"] == row2[\"chef_origine_norm_2\"]: score += 1\n",
    "            #if row1[\"nom_rue_norm_2\"] == row2[\"nom_rue_norm_2\"]: score += 1\n",
    "\n",
    "            if score > 0: G.add_edge(index1, index2, weight=score)\n",
    "            \n",
    "    pickle.dump(obj=G, file=open(\"individus_origine_rue.pkl\", \"wb\"))\n",
    "else:\n",
    "    G = pickle.load(file=open(\"individus_origine_rue.pkl\", \"rb\"))"
   ]
  },
  {
   "attachments": {},
   "cell_type": "markdown",
   "metadata": {},
   "source": [
    "Write `.gexf` file."
   ]
  },
  {
   "cell_type": "code",
   "execution_count": 7,
   "metadata": {},
   "outputs": [],
   "source": [
    "nx.write_gexf(G, 'individus_origine_rue.gexf')"
   ]
  }
 ],
 "metadata": {
  "kernelspec": {
   "display_name": "base",
   "language": "python",
   "name": "python3"
  },
  "language_info": {
   "codemirror_mode": {
    "name": "ipython",
    "version": 3
   },
   "file_extension": ".py",
   "mimetype": "text/x-python",
   "name": "python",
   "nbconvert_exporter": "python",
   "pygments_lexer": "ipython3",
   "version": "3.9.13"
  },
  "orig_nbformat": 4
 },
 "nbformat": 4,
 "nbformat_minor": 2
}
