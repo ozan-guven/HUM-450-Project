{
 "cells": [
  {
   "attachments": {},
   "cell_type": "markdown",
   "metadata": {},
   "source": [
    "# Problème rencontré : beaucoup de liens sont créés, car tous les membres d'un même quartier sont reliés entre eux, et tous les membres d'un quartier sont reliés à tous les autres membres des quartiers proches."
   ]
  },
  {
   "attachments": {},
   "cell_type": "markdown",
   "metadata": {},
   "source": [
    "Importing modules."
   ]
  },
  {
   "cell_type": "code",
   "execution_count": 1,
   "metadata": {},
   "outputs": [],
   "source": [
    "import os\n",
    "import numpy as np\n",
    "import pandas as pd\n",
    "import matplotlib.pyplot as plt\n",
    "import networkx as nx\n",
    "from tqdm import tqdm\n",
    "import pickle"
   ]
  },
  {
   "attachments": {},
   "cell_type": "markdown",
   "metadata": {},
   "source": [
    "Defining a function that gives the approximate distance for a lattitude and longitude difference. This function does **not** take into account local curvature."
   ]
  },
  {
   "cell_type": "code",
   "execution_count": 2,
   "metadata": {},
   "outputs": [],
   "source": [
    "def approx_dist(lat: float, lon: float) -> float:\n",
    "    dx = lat * 110.574 # km\n",
    "    dy = lon * 111.320 * np.cos(lat) # km\n",
    "    return np.sqrt(dx**2 + dy**2)"
   ]
  },
  {
   "attachments": {},
   "cell_type": "markdown",
   "metadata": {},
   "source": [
    "Imorting data and adding informations for later."
   ]
  },
  {
   "cell_type": "code",
   "execution_count": 3,
   "metadata": {},
   "outputs": [
    {
     "name": "stderr",
     "output_type": "stream",
     "text": [
      "Adding coordinates: 100%|██████████| 3862/3862 [00:04<00:00, 836.13it/s]"
     ]
    },
    {
     "name": "stdout",
     "output_type": "stream",
     "text": [
      "49.30% des personnes positionnées\n"
     ]
    },
    {
     "name": "stderr",
     "output_type": "stream",
     "text": [
      "\n"
     ]
    }
   ],
   "source": [
    "# Loading data\n",
    "recensement = pd.read_excel(io=\"../../1832_v4.xlsx\", na_values=[\"·\",\"?\"])\n",
    "classes = pd.read_excel(io=\"../../histoire urbaine digitale classification metiers.xlsx\", sheet_name=\"data\",  na_values=\"·\")\n",
    "rues = pd.read_csv(\"../../nom_rues_et_coor.csv\", sep=\",\")\n",
    "\n",
    "# Adding the 'chef_vocation_categorie' column\n",
    "classes = classes.rename(columns={\"JOB\": \"chef_vocation_norm_2\"})\n",
    "classes = classes.rename(columns={\"CLASS\": \"chef_vocation_categorie\"})\n",
    "recensement = recensement.merge(classes, on=\"chef_vocation_norm_2\", how=\"outer\")\n",
    "\n",
    "# Split the values on the '/' character\n",
    "split_vals = recensement['chef_vocation_categorie'].str.split('/')\n",
    "\n",
    "# Create a new dataframe from the split values\n",
    "recensement = recensement.assign(chef_vocation_categorie=split_vals).explode('chef_vocation_categorie')\n",
    "\n",
    "# Adding coordinates\n",
    "correspondances = {\n",
    "    \"nom_rue\": [\n",
    "        \"ale\", \n",
    "        \"etraz\", \n",
    "        \"rue du pre\", \n",
    "        \"chaucrau\", \n",
    "        \"st laurent\", \n",
    "        \"st pierre\", \n",
    "        \"st etienne\", \n",
    "        \"bourg\", \n",
    "        \"st francois\", \n",
    "        \"georgette\",\n",
    "    ],\n",
    "    \"nom_rue_norm_2\": [\n",
    "        \"rue de l'ale\",\n",
    "        \"rue d etraz\",\n",
    "        \"rue du pre\",\n",
    "        \"rue de chaucrau\",\n",
    "        \"place de st laurent\",\n",
    "        \"rue de st pierre\",\n",
    "        \"st etienne\",\n",
    "        \"rue de bourg\",\n",
    "        \"place de st froncois\",\n",
    "        \"chemin de georgette\",\n",
    "    ]\n",
    "}\n",
    "for index, row in tqdm(recensement.iterrows(), total=len(recensement), desc=\"Adding coordinates\"):\n",
    "    nom_rue = row[\"nom_rue_norm_2\"]\n",
    "    if type(nom_rue) == float: continue # if nom_rue is NaN\n",
    "    if nom_rue in correspondances[\"nom_rue\"]:\n",
    "        index = correspondances[\"nom_rue\"].index(nom_rue)\n",
    "        nom_rue = correspondances[\"nom_rue_norm_2\"][index]\n",
    "        corresponding_streets = rues.query(\"Nom_rue == @nom_rue\")\n",
    "    else:\n",
    "        corresponding_streets = rues.query(\"Nom_rue.str.contains(@nom_rue)\")\n",
    "    occurences = len(corresponding_streets)\n",
    "    if occurences == 1:\n",
    "        recensement.at[index, \"rue_x\"] = corresponding_streets[\"X\"].values[0]\n",
    "        recensement.at[index, \"rue_y\"] = corresponding_streets[\"Y\"].values[0]\n",
    "        continue\n",
    "print(f'{len(recensement.query(\"~rue_x.isnull()\")) / len(recensement) * 100:.2f}% des personnes positionnées')"
   ]
  },
  {
   "attachments": {},
   "cell_type": "markdown",
   "metadata": {},
   "source": [
    "Filtering data. Mainly remove lines that have no vocation & no coordinates."
   ]
  },
  {
   "cell_type": "code",
   "execution_count": 4,
   "metadata": {},
   "outputs": [
    {
     "name": "stdout",
     "output_type": "stream",
     "text": [
      "Size is now 80% of the original.\n",
      "Size is now 39% of the original.\n"
     ]
    }
   ],
   "source": [
    "original_size = len(recensement)\n",
    "\n",
    "# Keep only the persons who have a classified vocation\n",
    "recensement = recensement.query(\"not chef_vocation_categorie.isna()\")\n",
    "print(f\"Size is now {len(recensement)/original_size*100:.0f}% of the original.\")\n",
    "\n",
    "recensement = recensement.query(\"not rue_x.isna()\")\n",
    "print(f\"Size is now {len(recensement)/original_size*100:.0f}% of the original.\")\n"
   ]
  },
  {
   "attachments": {},
   "cell_type": "markdown",
   "metadata": {},
   "source": [
    "A `networkx` graph is made."
   ]
  },
  {
   "cell_type": "code",
   "execution_count": 5,
   "metadata": {},
   "outputs": [
    {
     "name": "stderr",
     "output_type": "stream",
     "text": [
      "100%|██████████| 1495/1495 [01:46<00:00, 14.02it/s]\n"
     ]
    }
   ],
   "source": [
    "G = nx.Graph()\n",
    "for index, row in recensement.iterrows():\n",
    "    G.add_node(\n",
    "        index,\n",
    "        nom_rue=row[\"nom_rue_norm_2\"],\n",
    "        proprietaire=row[\"proprietaire_nom_norm_2\"],\n",
    "        chef_nom=row[\"chef_nom_norm_2\"],\n",
    "        chef_annee_naissance=row[\"chef_annee_naissance\"],\n",
    "        chef_origine=row[\"chef_origine_norm_2\"],\n",
    "        chef_vocation=row[\"chef_vocation_norm_2\"],\n",
    "        chef_vocation_categorie=row[\"chef_vocation_categorie\"],\n",
    "    )\n",
    "for index1, row1 in tqdm(recensement.iterrows(), total=len(recensement)):\n",
    "    if pd.isna(row1[\"chef_vocation_categorie\"]): continue\n",
    "    for index2, row2 in recensement.iterrows():\n",
    "        if pd.isna(row2[\"chef_vocation_categorie\"]): continue\n",
    "        if index2 < index1: continue\n",
    "\n",
    "        score = 0\n",
    "\n",
    "        #if row1[\"nom_rue_norm_2\"] == row2[\"nom_rue_norm_2\"]: score += 1\n",
    "        #if row1[\"chef_origine_norm_2\"] == row2[\"chef_origine_norm_2\"]: score += 1\n",
    "\n",
    "        distance = approx_dist(lat=row1[\"rue_x\"] - row2[\"rue_x\"], lon=row1[\"rue_y\"] - row2[\"rue_y\"])\n",
    "        if distance > 1: continue\n",
    "        score = 1/(distance + 1)\n",
    "        if score > 0: G.add_edge(index1, index2, weight=score)"
   ]
  },
  {
   "attachments": {},
   "cell_type": "markdown",
   "metadata": {},
   "source": [
    "Show some stats."
   ]
  },
  {
   "cell_type": "code",
   "execution_count": 6,
   "metadata": {},
   "outputs": [
    {
     "name": "stdout",
     "output_type": "stream",
     "text": [
      "Number of nodes: 1396\n",
      "Number of edges: 693926\n"
     ]
    }
   ],
   "source": [
    "print(f\"Number of nodes: {len(G.nodes)}\")\n",
    "print(f\"Number of edges: {len(G.edges)}\")"
   ]
  },
  {
   "attachments": {},
   "cell_type": "markdown",
   "metadata": {},
   "source": [
    "Write `.gexf` file."
   ]
  },
  {
   "cell_type": "code",
   "execution_count": 7,
   "metadata": {},
   "outputs": [],
   "source": [
    "nx.write_gexf(G, 'individus_origine_rue.gexf')"
   ]
  }
 ],
 "metadata": {
  "kernelspec": {
   "display_name": "base",
   "language": "python",
   "name": "python3"
  },
  "language_info": {
   "codemirror_mode": {
    "name": "ipython",
    "version": 3
   },
   "file_extension": ".py",
   "mimetype": "text/x-python",
   "name": "python",
   "nbconvert_exporter": "python",
   "pygments_lexer": "ipython3",
   "version": "3.9.13"
  },
  "orig_nbformat": 4
 },
 "nbformat": 4,
 "nbformat_minor": 2
}
