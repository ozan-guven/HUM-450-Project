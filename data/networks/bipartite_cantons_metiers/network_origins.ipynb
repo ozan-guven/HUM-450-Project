{
 "cells": [
  {
   "attachments": {},
   "cell_type": "markdown",
   "metadata": {},
   "source": [
    "# Network analysis using the origins and divisions"
   ]
  },
  {
   "cell_type": "code",
   "execution_count": 1,
   "metadata": {},
   "outputs": [],
   "source": [
    "import numpy as np\n",
    "import pandas as pd\n",
    "import matplotlib.pyplot as plt\n",
    "import networkx as nx\n",
    "from tqdm import tqdm\n",
    "import json"
   ]
  },
  {
   "cell_type": "code",
   "execution_count": 2,
   "metadata": {},
   "outputs": [],
   "source": [
    "# Loading data\n",
    "recensement = pd.read_excel(io=\"../../1832_v4.xlsx\", na_values=[\"·\",\"?\"])\n",
    "classes_metiers = pd.read_excel(io=\"../../histoire urbaine digitale classification metiers.xlsx\", sheet_name=\"data\",  na_values=\"·\")\n",
    "classes_origines = pd.read_excel(io=\"../../histoire urbaine digitale classification origines.xlsx\",  na_values=\"·\")\n",
    "rues = pd.read_csv(\"../../nom_rues_et_coor.csv\", sep=\",\")\n",
    "\n",
    "# Adding the 'chef_vocation_categorie' column\n",
    "classes_metiers = classes_metiers.rename(columns={\"JOB\": \"chef_vocation_norm_2\"})\n",
    "classes_metiers = classes_metiers.rename(columns={\"CLASS\": \"chef_vocation_categorie\"})\n",
    "recensement = recensement.merge(classes_metiers, on=\"chef_vocation_norm_2\", how=\"outer\")\n",
    "\n",
    "# Add a new column that corresponds to CLASSIFICATION in the classes_origines that is taken from matching ORIGINE and chef_origine_norm_2\n",
    "merged_df = pd.merge(recensement, classes_origines, left_on='chef_origine_norm_2', right_on='ORIGINE', how='left')\n",
    "recensement['class_origine'] = merged_df['CLASSIFICATION']"
   ]
  },
  {
   "cell_type": "code",
   "execution_count": 3,
   "metadata": {},
   "outputs": [
    {
     "name": "stderr",
     "output_type": "stream",
     "text": [
      "Adding coordinates: 100%|██████████| 3862/3862 [00:05<00:00, 702.79it/s]"
     ]
    },
    {
     "name": "stdout",
     "output_type": "stream",
     "text": [
      "49.30% des personnes positionnées\n"
     ]
    },
    {
     "name": "stderr",
     "output_type": "stream",
     "text": [
      "\n"
     ]
    }
   ],
   "source": [
    "# Split the values on the '/' character\n",
    "split_vals = recensement['chef_vocation_categorie'].str.split('/')\n",
    "\n",
    "# Create a new dataframe from the split values\n",
    "recensement = recensement.assign(chef_vocation_categorie=split_vals).explode('chef_vocation_categorie')\n",
    "\n",
    "# Adding coordinates\n",
    "correspondances = {\n",
    "    \"nom_rue\": [\n",
    "        \"ale\", \n",
    "        \"etraz\", \n",
    "        \"rue du pre\", \n",
    "        \"chaucrau\", \n",
    "        \"st laurent\", \n",
    "        \"st pierre\", \n",
    "        \"st etienne\", \n",
    "        \"bourg\", \n",
    "        \"st francois\", \n",
    "        \"georgette\",\n",
    "    ],\n",
    "    \"nom_rue_norm_2\": [\n",
    "        \"rue de l'ale\",\n",
    "        \"rue d etraz\",\n",
    "        \"rue du pre\",\n",
    "        \"rue de chaucrau\",\n",
    "        \"place de st laurent\",\n",
    "        \"rue de st pierre\",\n",
    "        \"st etienne\",\n",
    "        \"rue de bourg\",\n",
    "        \"place de st froncois\",\n",
    "        \"chemin de georgette\",\n",
    "    ]\n",
    "}\n",
    "for index, row in tqdm(recensement.iterrows(), total=len(recensement), desc=\"Adding coordinates\"):\n",
    "    nom_rue = row[\"nom_rue_norm_2\"]\n",
    "    if type(nom_rue) == float: continue # if nom_rue is NaN\n",
    "    if nom_rue in correspondances[\"nom_rue\"]:\n",
    "        index = correspondances[\"nom_rue\"].index(nom_rue)\n",
    "        nom_rue = correspondances[\"nom_rue_norm_2\"][index]\n",
    "        corresponding_streets = rues.query(\"Nom_rue == @nom_rue\")\n",
    "    else:\n",
    "        corresponding_streets = rues.query(\"Nom_rue.str.contains(@nom_rue)\")\n",
    "    occurences = len(corresponding_streets)\n",
    "    if occurences == 1:\n",
    "        recensement.at[index, \"rue_x\"] = corresponding_streets[\"X\"].values[0]\n",
    "        recensement.at[index, \"rue_y\"] = corresponding_streets[\"Y\"].values[0]\n",
    "        continue\n",
    "print(f'{len(recensement.query(\"~rue_x.isnull()\")) / len(recensement) * 100:.2f}% des personnes positionnées')"
   ]
  },
  {
   "cell_type": "code",
   "execution_count": 4,
   "metadata": {},
   "outputs": [],
   "source": [
    "# Filter recensement by only taking the rows with a 'chef_vocation_categorie' value\n",
    "recensement_filtered = recensement.query(\"chef_vocation_categorie.notnull()\")"
   ]
  },
  {
   "cell_type": "code",
   "execution_count": 5,
   "metadata": {},
   "outputs": [
    {
     "name": "stdout",
     "output_type": "stream",
     "text": [
      "79.52% des personnes avec une profession catégorisée.\n"
     ]
    }
   ],
   "source": [
    "# Compute the percentage of data remaining\n",
    "print(f'{len(recensement_filtered) / len(recensement):.2%} des personnes avec une profession catégorisée.')"
   ]
  },
  {
   "cell_type": "code",
   "execution_count": 6,
   "metadata": {},
   "outputs": [],
   "source": [
    "# Create the bipartite graph\n",
    "G = nx.Graph()\n",
    "\n",
    "# Add nodes from class_origine and chef_vocation_categorie\n",
    "G.add_nodes_from(recensement_filtered['class_origine'], bipartite=0)\n",
    "G.add_nodes_from(recensement_filtered['chef_vocation_categorie'], bipartite=1)\n",
    "\n",
    "# Add edges between class_origine and chef_vocation_categorie\n",
    "for origine, group in recensement_filtered.groupby('class_origine'):\n",
    "    for job_category, count in group.groupby('chef_vocation_categorie').size().items():\n",
    "        G.add_edge(origine, job_category, weight=count)"
   ]
  },
  {
   "cell_type": "code",
   "execution_count": 7,
   "metadata": {},
   "outputs": [
    {
     "data": {
      "image/png": "[encoded data removed]",
      "text/plain": [
       "<Figure size 640x480 with 1 Axes>"
      ]
     },
     "metadata": {},
     "output_type": "display_data"
    }
   ],
   "source": [
    "nx.draw(G)"
   ]
  },
  {
   "cell_type": "code",
   "execution_count": 8,
   "metadata": {},
   "outputs": [],
   "source": [
    "# Get the edges of the graph with their weights\n",
    "edges = G.edges(data=True)\n",
    "edge_data = [(u, v, d['weight']) for u, v, d in edges]\n",
    "\n",
    "# Create a DataFrame from the edge data\n",
    "df = pd.DataFrame(edge_data, columns=['Origine_category', 'Job_category', 'Weight'])\n",
    "\n",
    "# Save the DataFrame to a CSV file\n",
    "df.to_csv('bipartite_graph.csv', index=False)"
   ]
  },
  {
   "cell_type": "code",
   "execution_count": 9,
   "metadata": {},
   "outputs": [],
   "source": [
    "nx.write_gexf(G, \"bipartite_origine_category_job_category.gexf\")"
   ]
  },
  {
   "cell_type": "code",
   "execution_count": 10,
   "metadata": {},
   "outputs": [],
   "source": [
    "# Load the CSV file into a Pandas DataFrame\n",
    "df = pd.read_csv(\"./bipartite_graph.csv\")\n",
    "\n",
    "# Get unique division and job_category names\n",
    "origine = df[\"Origine_category\"].unique()\n",
    "job_categories = df[\"Job_category\"].unique()\n",
    "\n",
    "# Create dictionaries to store nodes and links\n",
    "nodes = []\n",
    "links = []\n",
    "\n",
    "# Iterate over divisions\n",
    "for i, ori in enumerate(origine):\n",
    "    # Add division node to nodes dictionary\n",
    "    nodes.append({\"Id\": str(i), \"label\": str(ori), \"type\": \"origine_category\", \"size\": int(df[df[\"Origine_category\"] == ori][\"Weight\"].sum())})\n",
    "    \n",
    "    # Iterate over job categories and add corresponding links\n",
    "    for j, cat in enumerate(job_categories):\n",
    "        weight = int(df[(df[\"Origine_category\"] == ori) & (df[\"Job_category\"] == cat)][\"Weight\"].sum())\n",
    "        if weight > 0:\n",
    "            links.append({\"Source\": str(i), \"Target\": str(cat), \"Weight\": weight})\n",
    "            \n",
    "# Iterate over job categories\n",
    "for i, cat in enumerate(job_categories):\n",
    "    # Add job category node to nodes dictionary\n",
    "    nodes.append({\"Id\": str(cat), \"label\": str(cat), \"type\": \"job_category\", \"size\": int(df[df[\"Job_category\"] == cat][\"Weight\"].sum())})\n",
    "    \n",
    "# Create JSON dictionary\n",
    "json_dict = {\"nodes\": nodes, \"links\": links}\n",
    "\n",
    "# Write JSON dictionary to file\n",
    "with open(\"./bipartite_origine_category_type_metiers.json\", \"w\") as f:\n",
    "    json.dump(json_dict, f, indent=4)"
   ]
  }
 ],
 "metadata": {
  "kernelspec": {
   "display_name": "ada",
   "language": "python",
   "name": "python3"
  },
  "language_info": {
   "codemirror_mode": {
    "name": "ipython",
    "version": 3
   },
   "file_extension": ".py",
   "mimetype": "text/x-python",
   "name": "python",
   "nbconvert_exporter": "python",
   "pygments_lexer": "ipython3",
   "version": "3.10.8"
  },
  "orig_nbformat": 4
 },
 "nbformat": 4,
 "nbformat_minor": 2
}
