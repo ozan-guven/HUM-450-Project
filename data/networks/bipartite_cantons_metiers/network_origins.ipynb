{
 "cells": [
  {
   "attachments": {},
   "cell_type": "markdown",
   "metadata": {},
   "source": [
    "# Network analysis using the origins and divisions"
   ]
  },
  {
   "cell_type": "code",
   "execution_count": 1,
   "metadata": {},
   "outputs": [],
   "source": [
    "import numpy as np\n",
    "import pandas as pd\n",
    "import matplotlib.pyplot as plt\n",
    "import networkx as nx\n",
    "from tqdm import tqdm\n",
    "import json"
   ]
  },
  {
   "cell_type": "code",
   "execution_count": 2,
   "metadata": {},
   "outputs": [
    {
     "data": {
      "text/html": [
       "<div>\n",
       "<style scoped>\n",
       "    .dataframe tbody tr th:only-of-type {\n",
       "        vertical-align: middle;\n",
       "    }\n",
       "\n",
       "    .dataframe tbody tr th {\n",
       "        vertical-align: top;\n",
       "    }\n",
       "\n",
       "    .dataframe thead th {\n",
       "        text-align: right;\n",
       "    }\n",
       "</style>\n",
       "<table border=\"1\" class=\"dataframe\">\n",
       "  <thead>\n",
       "    <tr style=\"text-align: right;\">\n",
       "      <th></th>\n",
       "      <th>nom_rue</th>\n",
       "      <th>no_maison</th>\n",
       "      <th>chef_annee_naissance</th>\n",
       "      <th>chef_origine</th>\n",
       "      <th>chef_annee_arrivee</th>\n",
       "      <th>chef_vocation</th>\n",
       "      <th>page</th>\n",
       "      <th>division</th>\n",
       "      <th>chef_vocation_class</th>\n",
       "      <th>chef_origine_class</th>\n",
       "    </tr>\n",
       "  </thead>\n",
       "  <tbody>\n",
       "    <tr>\n",
       "      <th>0</th>\n",
       "      <td>marterey</td>\n",
       "      <td>1</td>\n",
       "      <td>1764.0</td>\n",
       "      <td>tolochenaz</td>\n",
       "      <td>1786.0</td>\n",
       "      <td>charon</td>\n",
       "      <td>1</td>\n",
       "      <td>1-2</td>\n",
       "      <td>NaN</td>\n",
       "      <td>morges</td>\n",
       "    </tr>\n",
       "    <tr>\n",
       "      <th>1</th>\n",
       "      <td>marterey</td>\n",
       "      <td>2</td>\n",
       "      <td>NaN</td>\n",
       "      <td>rolle</td>\n",
       "      <td>1821.0</td>\n",
       "      <td>marechal-ferrant</td>\n",
       "      <td>1</td>\n",
       "      <td>1-2</td>\n",
       "      <td>artisanat</td>\n",
       "      <td>rolle</td>\n",
       "    </tr>\n",
       "    <tr>\n",
       "      <th>2</th>\n",
       "      <td>marterey</td>\n",
       "      <td>3</td>\n",
       "      <td>1785.0</td>\n",
       "      <td>pailly</td>\n",
       "      <td>NaN</td>\n",
       "      <td>lingere</td>\n",
       "      <td>1</td>\n",
       "      <td>1-2</td>\n",
       "      <td>service</td>\n",
       "      <td>moudon</td>\n",
       "    </tr>\n",
       "    <tr>\n",
       "      <th>3</th>\n",
       "      <td>marterey</td>\n",
       "      <td>3</td>\n",
       "      <td>NaN</td>\n",
       "      <td>gingins</td>\n",
       "      <td>NaN</td>\n",
       "      <td>rentier</td>\n",
       "      <td>1</td>\n",
       "      <td>1-2</td>\n",
       "      <td>rente</td>\n",
       "      <td>NaN</td>\n",
       "    </tr>\n",
       "    <tr>\n",
       "      <th>4</th>\n",
       "      <td>marterey</td>\n",
       "      <td>3</td>\n",
       "      <td>NaN</td>\n",
       "      <td>gingins</td>\n",
       "      <td>NaN</td>\n",
       "      <td>rentier</td>\n",
       "      <td>1</td>\n",
       "      <td>1-2</td>\n",
       "      <td>rente</td>\n",
       "      <td>NaN</td>\n",
       "    </tr>\n",
       "  </tbody>\n",
       "</table>\n",
       "</div>"
      ],
      "text/plain": [
       "    nom_rue  no_maison  chef_annee_naissance chef_origine  chef_annee_arrivee  \\\n",
       "0  marterey          1                1764.0   tolochenaz              1786.0   \n",
       "1  marterey          2                   NaN        rolle              1821.0   \n",
       "2  marterey          3                1785.0       pailly                 NaN   \n",
       "3  marterey          3                   NaN      gingins                 NaN   \n",
       "4  marterey          3                   NaN      gingins                 NaN   \n",
       "\n",
       "      chef_vocation  page division chef_vocation_class chef_origine_class  \n",
       "0            charon     1      1-2                 NaN             morges  \n",
       "1  marechal-ferrant     1      1-2           artisanat              rolle  \n",
       "2           lingere     1      1-2             service             moudon  \n",
       "3           rentier     1      1-2               rente                NaN  \n",
       "4           rentier     1      1-2               rente                NaN  "
      ]
     },
     "execution_count": 2,
     "metadata": {},
     "output_type": "execute_result"
    }
   ],
   "source": [
    "MAIN_FILE_PATH = \"../../1832_v4_preprocessed.csv\"\n",
    "\n",
    "recensement = pd.read_csv(MAIN_FILE_PATH)\n",
    "recensement.head()"
   ]
  },
  {
   "cell_type": "code",
   "execution_count": 3,
   "metadata": {},
   "outputs": [],
   "source": [
    "# Create the bipartite graph\n",
    "G = nx.Graph()\n",
    "\n",
    "# Add nodes from class_origine and chef_vocation_categorie\n",
    "G.add_nodes_from(recensement['chef_origine_class'], bipartite=0)\n",
    "G.add_nodes_from(recensement['chef_vocation_class'], bipartite=1)\n",
    "\n",
    "# Add edges between class_origine and chef_vocation_categorie\n",
    "for origine, group in recensement.groupby('chef_origine_class'):\n",
    "    for job_category, count in group.groupby('chef_vocation_class').size().items():\n",
    "        G.add_edge(origine, job_category, weight=count)"
   ]
  },
  {
   "cell_type": "code",
   "execution_count": 4,
   "metadata": {},
   "outputs": [
    {
     "data": {
      "image/png": "[encoded data removed]",
      "text/plain": [
       "<Figure size 640x480 with 1 Axes>"
      ]
     },
     "metadata": {},
     "output_type": "display_data"
    }
   ],
   "source": [
    "nx.draw(G)"
   ]
  },
  {
   "cell_type": "code",
   "execution_count": 5,
   "metadata": {},
   "outputs": [],
   "source": [
    "# Get the edges of the graph with their weights\n",
    "edges = G.edges(data=True)\n",
    "edge_data = [(u, v, d['weight']) for u, v, d in edges]\n",
    "\n",
    "# Create a DataFrame from the edge data\n",
    "df = pd.DataFrame(edge_data, columns=['Origine_category', 'Job_category', 'Weight'])\n",
    "\n",
    "# Save the DataFrame to a CSV file\n",
    "df.to_csv('bipartite_graph.csv', index=False)"
   ]
  },
  {
   "cell_type": "code",
   "execution_count": 6,
   "metadata": {},
   "outputs": [],
   "source": [
    "nx.write_gexf(G, \"bipartite_origine_category_job_category.gexf\")"
   ]
  },
  {
   "cell_type": "code",
   "execution_count": 7,
   "metadata": {},
   "outputs": [],
   "source": [
    "# Load the CSV file into a Pandas DataFrame\n",
    "df = pd.read_csv(\"./bipartite_graph.csv\")\n",
    "\n",
    "# Get unique division and job_category names\n",
    "origine = df[\"Origine_category\"].unique()\n",
    "job_categories = df[\"Job_category\"].unique()\n",
    "\n",
    "# Create dictionaries to store nodes and links\n",
    "nodes = []\n",
    "links = []\n",
    "\n",
    "# Iterate over divisions\n",
    "for i, ori in enumerate(origine):\n",
    "    # Add division node to nodes dictionary\n",
    "    nodes.append({\"id\": str(i), \"label\": str(ori), \"type\": \"origine_category\", \"size\": int(df[df[\"Origine_category\"] == ori][\"Weight\"].sum())})\n",
    "    \n",
    "    # Iterate over job categories and add corresponding links\n",
    "    for j, cat in enumerate(job_categories):\n",
    "        weight = int(df[(df[\"Origine_category\"] == ori) & (df[\"Job_category\"] == cat)][\"Weight\"].sum())\n",
    "        if weight > 0:\n",
    "            links.append({\"source\": str(i), \"target\": str(cat), \"weight\": weight})\n",
    "            \n",
    "# Iterate over job categories\n",
    "for i, cat in enumerate(job_categories):\n",
    "    # Add job category node to nodes dictionary\n",
    "    nodes.append({\"id\": str(cat), \"label\": str(cat), \"type\": \"job_category\", \"size\": int(df[df[\"Job_category\"] == cat][\"Weight\"].sum())})\n",
    "    \n",
    "# Create JSON dictionary\n",
    "json_dict = {\"nodes\": nodes, \"links\": links}\n",
    "\n",
    "# Write JSON dictionary to file\n",
    "with open(\"./bipartite_origine_category_type_metiers.json\", \"w\") as f:\n",
    "    json.dump(json_dict, f, indent=4)"
   ]
  }
 ],
 "metadata": {
  "kernelspec": {
   "display_name": "ada",
   "language": "python",
   "name": "python3"
  },
  "language_info": {
   "codemirror_mode": {
    "name": "ipython",
    "version": 3
   },
   "file_extension": ".py",
   "mimetype": "text/x-python",
   "name": "python",
   "nbconvert_exporter": "python",
   "pygments_lexer": "ipython3",
   "version": "3.10.8"
  },
  "orig_nbformat": 4
 },
 "nbformat": 4,
 "nbformat_minor": 2
}
