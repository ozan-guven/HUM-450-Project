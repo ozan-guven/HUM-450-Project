{
 "cells": [
  {
   "cell_type": "code",
   "execution_count": 14,
   "metadata": {},
   "outputs": [],
   "source": [
    "import os\n",
    "import numpy as np\n",
    "import pandas as pd\n",
    "import matplotlib.pyplot as plt\n",
    "import networkx as nx\n",
    "from tqdm import tqdm\n",
    "import pickle"
   ]
  },
  {
   "cell_type": "code",
   "execution_count": 15,
   "metadata": {},
   "outputs": [],
   "source": [
    "def approx_dist(lat: float, lon: float) -> float:\n",
    "    dx = lat * 110.574 # km\n",
    "    dy = lon * 111.320 * np.cos(lat) # km\n",
    "    return np.sqrt(dx**2 + dy**2)"
   ]
  },
  {
   "cell_type": "code",
   "execution_count": 16,
   "metadata": {},
   "outputs": [
    {
     "name": "stderr",
     "output_type": "stream",
     "text": [
      "Adding coordinates: 100%|██████████| 3862/3862 [00:03<00:00, 1233.25it/s]"
     ]
    },
    {
     "name": "stdout",
     "output_type": "stream",
     "text": [
      "49.30% des personnes positionnées\n"
     ]
    },
    {
     "name": "stderr",
     "output_type": "stream",
     "text": [
      "\n"
     ]
    }
   ],
   "source": [
    "# Loading data\n",
    "recensement = pd.read_excel(io=\"../../1832_v4.xlsx\", na_values=[\"·\",\"?\"])\n",
    "classes = pd.read_excel(io=\"../../histoire urbaine digitale classification metiers.xlsx\", sheet_name=\"data\",  na_values=\"·\")\n",
    "rues = pd.read_csv(\"../../nom_rues_et_coor.csv\", sep=\",\")\n",
    "\n",
    "# Adding the 'chef_vocation_categorie' column\n",
    "classes = classes.rename(columns={\"JOB\": \"chef_vocation_norm_2\"})\n",
    "classes = classes.rename(columns={\"CLASS\": \"chef_vocation_categorie\"})\n",
    "recensement = recensement.merge(classes, on=\"chef_vocation_norm_2\", how=\"outer\")\n",
    "\n",
    "# Split the values on the '/' character\n",
    "split_vals = recensement['chef_vocation_categorie'].str.split('/')\n",
    "\n",
    "# Create a new dataframe from the split values\n",
    "recensement = recensement.assign(chef_vocation_categorie=split_vals).explode('chef_vocation_categorie')\n",
    "\n",
    "# Adding coordinates\n",
    "correspondances = {\n",
    "    \"nom_rue\": [\n",
    "        \"ale\", \n",
    "        \"etraz\", \n",
    "        \"rue du pre\", \n",
    "        \"chaucrau\", \n",
    "        \"st laurent\", \n",
    "        \"st pierre\", \n",
    "        \"st etienne\", \n",
    "        \"bourg\", \n",
    "        \"st francois\", \n",
    "        \"georgette\",\n",
    "    ],\n",
    "    \"nom_rue_norm_2\": [\n",
    "        \"rue de l'ale\",\n",
    "        \"rue d etraz\",\n",
    "        \"rue du pre\",\n",
    "        \"rue de chaucrau\",\n",
    "        \"place de st laurent\",\n",
    "        \"rue de st pierre\",\n",
    "        \"st etienne\",\n",
    "        \"rue de bourg\",\n",
    "        \"place de st froncois\",\n",
    "        \"chemin de georgette\",\n",
    "    ]\n",
    "}\n",
    "for index, row in tqdm(recensement.iterrows(), total=len(recensement), desc=\"Adding coordinates\"):\n",
    "    nom_rue = row[\"nom_rue_norm_2\"]\n",
    "    if type(nom_rue) == float: continue # if nom_rue is NaN\n",
    "    if nom_rue in correspondances[\"nom_rue\"]:\n",
    "        index = correspondances[\"nom_rue\"].index(nom_rue)\n",
    "        nom_rue = correspondances[\"nom_rue_norm_2\"][index]\n",
    "        corresponding_streets = rues.query(\"Nom_rue == @nom_rue\")\n",
    "    else:\n",
    "        corresponding_streets = rues.query(\"Nom_rue.str.contains(@nom_rue)\")\n",
    "    occurences = len(corresponding_streets)\n",
    "    if occurences == 1:\n",
    "        recensement.at[index, \"rue_x\"] = corresponding_streets[\"X\"].values[0]\n",
    "        recensement.at[index, \"rue_y\"] = corresponding_streets[\"Y\"].values[0]\n",
    "        continue\n",
    "print(f'{len(recensement.query(\"~rue_x.isnull()\")) / len(recensement) * 100:.2f}% des personnes positionnées')"
   ]
  },
  {
   "cell_type": "code",
   "execution_count": 17,
   "metadata": {},
   "outputs": [
    {
     "name": "stdout",
     "output_type": "stream",
     "text": [
      "Size is now 80% of the original.\n",
      "Size is now 39% of the original.\n"
     ]
    }
   ],
   "source": [
    "original_size = len(recensement)\n",
    "\n",
    "# Keep only the persons who have a classified vocation\n",
    "recensement = recensement.query(\"not chef_vocation_categorie.isna()\")\n",
    "print(f\"Size is now {len(recensement)/original_size*100:.0f}% of the original.\")\n",
    "\n",
    "recensement = recensement.query(\"not rue_x.isna()\")\n",
    "print(f\"Size is now {len(recensement)/original_size*100:.0f}% of the original.\")\n"
   ]
  },
  {
   "cell_type": "code",
   "execution_count": 18,
   "metadata": {},
   "outputs": [],
   "source": [
    "G = nx.Graph()\n",
    "\n",
    "for nom_rue in recensement[\"nom_rue_norm_2\"].unique():\n",
    "    try:\n",
    "        G.add_node(\n",
    "            nom_rue,\n",
    "            DisplayName=nom_rue.capitalize(),\n",
    "            DataType=\"rue\",\n",
    "            vocation_categorie=\"none\",\n",
    "        )\n",
    "    except:\n",
    "        continue\n",
    "\n",
    "for _, row in recensement.iterrows():\n",
    "    try:\n",
    "        nom = row[\"chef_nom\"]\n",
    "        prenom = row[\"chef_prenom\"]\n",
    "        vocation_categorie = row[\"chef_vocation_categorie\"]\n",
    "        internname = f\"{nom.upper()} {prenom.capitalize()}\"\n",
    "        # NbEnfants = len((\"\" if type(row[\"enfants_dans_la_commune_prenom_norm\"]) != str else row[\"enfants_dans_la_commune_prenom_norm\"]).split(\"|\"))\n",
    "        G.add_node(\n",
    "            internname,\n",
    "            DisplayName=\"\",\n",
    "            DataType=\"individu\",\n",
    "            vocation_categorie=vocation_categorie,\n",
    "            # NbEnfants=NbEnfants,\n",
    "        )\n",
    "        G.add_edge(\n",
    "            internname, row[\"nom_rue_norm_2\"],\n",
    "            vocation_categorie=vocation_categorie,\n",
    "            weight=1,\n",
    "        )\n",
    "    except:\n",
    "        continue\n",
    "    \n",
    "for index_1, nom_rue_1 in enumerate(recensement[\"nom_rue_norm_2\"].unique()):\n",
    "    for index_2, nom_rue_2 in enumerate(recensement[\"nom_rue_norm_2\"].unique()):\n",
    "        if index_1 >= index_2: continue\n",
    "        lat1 = recensement.query(\"nom_rue_norm_2 == @nom_rue_1\")[\"rue_x\"].values[0]\n",
    "        lon1 = recensement.query(\"nom_rue_norm_2 == @nom_rue_1\")[\"rue_y\"].values[0]\n",
    "        lat2 = recensement.query(\"nom_rue_norm_2 == @nom_rue_2\")[\"rue_x\"].values[0]\n",
    "        lon2 = recensement.query(\"nom_rue_norm_2 == @nom_rue_2\")[\"rue_y\"].values[0]\n",
    "        dist = approx_dist(lat2-lat1, lon2-lon1)\n",
    "        score = 1 / (dist+1)\n",
    "        G.add_edge(\n",
    "            nom_rue_1, nom_rue_2,\n",
    "            weight=score\n",
    "        )\n",
    "\n",
    "nx.write_gexf(G, \"bipartite_individus_rue.gexf\")"
   ]
  }
 ],
 "metadata": {
  "kernelspec": {
   "display_name": "base",
   "language": "python",
   "name": "python3"
  },
  "language_info": {
   "codemirror_mode": {
    "name": "ipython",
    "version": 3
   },
   "file_extension": ".py",
   "mimetype": "text/x-python",
   "name": "python",
   "nbconvert_exporter": "python",
   "pygments_lexer": "ipython3",
   "version": "3.9.13"
  },
  "orig_nbformat": 4
 },
 "nbformat": 4,
 "nbformat_minor": 2
}
