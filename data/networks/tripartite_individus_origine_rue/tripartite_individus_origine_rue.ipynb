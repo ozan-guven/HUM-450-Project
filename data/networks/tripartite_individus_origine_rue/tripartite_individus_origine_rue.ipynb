{
 "cells": [
  {
   "cell_type": "code",
   "execution_count": 97,
   "metadata": {},
   "outputs": [],
   "source": [
    "import os\n",
    "import numpy as np\n",
    "import pandas as pd\n",
    "import matplotlib.pyplot as plt\n",
    "import networkx as nx\n",
    "from tqdm import tqdm\n",
    "import pickle"
   ]
  },
  {
   "cell_type": "code",
   "execution_count": 98,
   "metadata": {},
   "outputs": [],
   "source": [
    "# Loading data\n",
    "recensement = pd.read_excel(io=\"../../1832_v4.xlsx\", na_values=[\"·\",\"?\"])\n",
    "classes = pd.read_excel(io=\"../../histoire urbaine digitale classification metiers.xlsx\", sheet_name=\"data\",  na_values=\"·\")\n",
    "\n",
    "# Adding the 'chef_vocation_categorie' column\n",
    "classes = classes.rename(columns={\"JOB\": \"chef_vocation_norm_2\"})\n",
    "classes = classes.rename(columns={\"CLASS\": \"chef_vocation_categorie\"})\n",
    "recensement = recensement.merge(classes, on=\"chef_vocation_norm_2\", how=\"outer\")\n",
    "\n",
    "# Split the values on the '/' character\n",
    "split_vals = recensement['chef_vocation_categorie'].str.split('/')\n",
    "\n",
    "# Create a new dataframe from the split values\n",
    "recensement = recensement.assign(chef_vocation_categorie=split_vals).explode('chef_vocation_categorie')"
   ]
  },
  {
   "cell_type": "code",
   "execution_count": 99,
   "metadata": {},
   "outputs": [],
   "source": [
    "recensement = recensement.query(\"not chef_vocation_categorie.isna()\")"
   ]
  },
  {
   "cell_type": "code",
   "execution_count": 100,
   "metadata": {},
   "outputs": [],
   "source": [
    "G = nx.Graph()\n",
    "\n",
    "for nom_rue in recensement[\"nom_rue_norm_2\"].unique():\n",
    "    try:\n",
    "        G.add_node(\n",
    "            nom_rue,\n",
    "            DisplayName=nom_rue.capitalize(),\n",
    "            DataType=\"rue\",\n",
    "            vocation_categorie=\"none\",\n",
    "        )\n",
    "    except:\n",
    "        continue\n",
    "\n",
    "for origine in recensement[\"chef_origine_norm_2\"].unique():\n",
    "    try:\n",
    "        G.add_node(\n",
    "            origine,\n",
    "            DisplayName=origine.capitalize(),\n",
    "            DataType=\"origine\",\n",
    "            vocation_categorie=\"none\",\n",
    "        )\n",
    "    except:\n",
    "        continue\n",
    "\n",
    "for _, row in recensement.iterrows():\n",
    "    try:\n",
    "        nom = row[\"chef_nom\"]\n",
    "        prenom = row[\"chef_prenom\"]\n",
    "        vocation_categorie = row[\"chef_vocation_categorie\"]\n",
    "        internname = f\"{nom.upper()} {prenom.capitalize()}\"\n",
    "        # NbEnfants = len((\"\" if type(row[\"enfants_dans_la_commune_prenom_norm\"]) != str else row[\"enfants_dans_la_commune_prenom_norm\"]).split(\"|\"))\n",
    "        G.add_node(\n",
    "            internname,\n",
    "            DisplayName=\"\",\n",
    "            DataType=\"individu\",\n",
    "            vocation_categorie=vocation_categorie,\n",
    "            # NbEnfants=NbEnfants,\n",
    "        )\n",
    "        G.add_edge(\n",
    "            internname,\n",
    "            row[\"nom_rue_norm_2\"],\n",
    "            vocation_categorie=vocation_categorie,\n",
    "            weight=1,\n",
    "        )\n",
    "        G.add_edge(\n",
    "            internname,\n",
    "            row[\"chef_origine_norm_2\"],\n",
    "            vocation_categorie=vocation_categorie,\n",
    "            weight=1,\n",
    "        )\n",
    "    except:\n",
    "        continue\n",
    "    \n",
    "nx.write_gexf(G, \"tripartite_individus_origine_rue.gexf\")"
   ]
  },
  {
   "cell_type": "code",
   "execution_count": null,
   "metadata": {},
   "outputs": [],
   "source": []
  }
 ],
 "metadata": {
  "kernelspec": {
   "display_name": "base",
   "language": "python",
   "name": "python3"
  },
  "language_info": {
   "codemirror_mode": {
    "name": "ipython",
    "version": 3
   },
   "file_extension": ".py",
   "mimetype": "text/x-python",
   "name": "python",
   "nbconvert_exporter": "python",
   "pygments_lexer": "ipython3",
   "version": "3.9.13"
  },
  "orig_nbformat": 4
 },
 "nbformat": 4,
 "nbformat_minor": 2
}
