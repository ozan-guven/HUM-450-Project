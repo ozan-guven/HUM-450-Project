{
 "cells": [
  {
   "cell_type": "code",
   "execution_count": 46,
   "metadata": {},
   "outputs": [],
   "source": [
    "import pandas as pd\n",
    "\n",
    "def get_recensement():\n",
    "\n",
    "    # Loading data\n",
    "    recensement = pd.read_excel(io=\"1832_v4.xlsx\", na_values=[\"·\",\"?\"])\n",
    "    classes = pd.read_excel(io=\"histoire urbaine digitale classification metiers.xlsx\", sheet_name=\"data\",  na_values=\"·\")\n",
    "    rues = pd.read_csv(\"nom_rues_et_coor.csv\", sep=\",\")\n",
    "    regions = pd.read_excel(\"histoire urbaine digitale classification origines.xlsx\")\n",
    "    \n",
    "    # Adding the 'chef_vocation_categorie' column\n",
    "    classes = classes.rename(columns={\"JOB\": \"chef_vocation_norm_2\"})\n",
    "    classes = classes.rename(columns={\"CLASS\": \"chef_vocation_categorie\"})\n",
    "    recensement = recensement.merge(classes, on=\"chef_vocation_norm_2\", how=\"outer\").reset_index(drop=True)\n",
    "\n",
    "    # remove column \"OCCURRENCES\" of regions\n",
    "    regions = regions.drop(columns=[\"OCCURRENCES\"])\n",
    "\n",
    "    # replace \"69\" by \"1-2\" in recensement's Division column\n",
    "    recensement[\"Division\"] = recensement[\"Division\"].replace(\"69\", \"1-2\")\n",
    "\n",
    "    # Adding 'origin_region' column\n",
    "    regions = regions.rename(columns={\"ORIGINE\": \"chef_origine_norm_2\"})\n",
    "    regions = regions.rename(columns={\"CLASSIFICATION\": \"origine_region\"})\n",
    "    recensement = recensement.merge(regions, on=\"chef_origine_norm_2\", how=\"outer\").reset_index(drop=True)\n",
    "    \n",
    "    # Split the values on the '/' character\n",
    "    split_vals = recensement['chef_vocation_categorie'].str.split('/')\n",
    "\n",
    "    # Create a new dataframe from the split values\n",
    "    recensement = recensement.assign(chef_vocation_categorie=split_vals).explode('chef_vocation_categorie')\n",
    "\n",
    "    # Adding coordinates\n",
    "    correspondances = {\n",
    "        \"nom_rue\": [\"ale\", \"etraz\", \"rue du pre\", \"chaucrau\", \"st laurent\", \"st pierre\", \"st etienne\", \"bourg\", \"st francois\", \"georgette\"],\n",
    "        \"nom_rue_norm_2\": [\"rue de l'ale\", \"rue d etraz\", \"rue du pre\", \"rue de chaucrau\", \"place de st laurent\", \"rue de st pierre\", \"st etienne\", \"rue de bourg\", \"place de st froncois\", \"chemin de georgette\"]\n",
    "    }\n",
    "    for index, row in recensement.iterrows():\n",
    "        nom_rue = row[\"nom_rue_norm_2\"]\n",
    "        if type(nom_rue) == float: continue # if nom_rue is NaN\n",
    "        if nom_rue in correspondances[\"nom_rue\"]:\n",
    "            index = correspondances[\"nom_rue\"].index(nom_rue)\n",
    "            nom_rue = correspondances[\"nom_rue_norm_2\"][index]\n",
    "            corresponding_streets = rues.query(\"Nom_rue == @nom_rue\")\n",
    "        else:\n",
    "            corresponding_streets = rues.query(\"Nom_rue.str.contains(@nom_rue)\")\n",
    "        occurences = len(corresponding_streets)\n",
    "        if occurences == 1:\n",
    "            recensement.at[index, \"rue_lon\"] = corresponding_streets[\"X\"].values[0]\n",
    "            recensement.at[index, \"rue_lat\"] = corresponding_streets[\"Y\"].values[0]\n",
    "            continue\n",
    "        \n",
    "    return recensement"
   ]
  },
  {
   "cell_type": "code",
   "execution_count": 47,
   "metadata": {},
   "outputs": [],
   "source": []
  }
 ],
 "metadata": {
  "kernelspec": {
   "display_name": "base",
   "language": "python",
   "name": "python3"
  },
  "language_info": {
   "codemirror_mode": {
    "name": "ipython",
    "version": 3
   },
   "file_extension": ".py",
   "mimetype": "text/x-python",
   "name": "python",
   "nbconvert_exporter": "python",
   "pygments_lexer": "ipython3",
   "version": "3.9.13"
  },
  "orig_nbformat": 4
 },
 "nbformat": 4,
 "nbformat_minor": 2
}
