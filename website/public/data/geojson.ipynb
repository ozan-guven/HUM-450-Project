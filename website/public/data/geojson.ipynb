{
 "cells": [
  {
   "cell_type": "code",
   "execution_count": 17,
   "metadata": {},
   "outputs": [],
   "source": [
    "import json\n",
    "import pandas as pd"
   ]
  },
  {
   "cell_type": "code",
   "execution_count": 22,
   "metadata": {},
   "outputs": [],
   "source": [
    "# Read in the geojson file\n",
    "data = None\n",
    "with open(\"berney_divisions.geojson\", \"r\") as f:\n",
    "    data = json.load(f)\n",
    "\n",
    "# Read website\\public\\data\\bipartite_divisions_type_metiers.csv\n",
    "df = pd.read_csv(\"bipartite_divisions_type_metiers.csv\")\n",
    "\n",
    "# Read data/1832_v4_preprocessed.csv\n",
    "df_pop = pd.read_csv(\"../../../data/1832_v4_preprocessed.csv\")\n",
    "\n",
    "# Get the population of each division\n",
    "population = df_pop.groupby(\"division\").size().to_dict()\n",
    "\n",
    "# Get the origin category for eachn division\n",
    "origin = df_pop.groupby([\"division\", \"chef_origine_class\"]).count()[\"nom_rue\"]\n",
    "\n",
    "# In the properties section, add the values\n",
    "# For example, for division 1:\n",
    "# \"properties\": {\"id\": 1, \"name\": \"marterey\", \"jobs\": {\"agricole\": 82, \"artisanat\": 93,...\n",
    "for feature in data[\"features\"]:\n",
    "    division = feature[\"properties\"][\"id\"]\n",
    "    # Add the population\n",
    "    feature[\"properties\"][\"population\"] = population[division]\n",
    "    division_df = df.query(\"division == @division\")\n",
    "    jobs = {}\n",
    "    for index, row in division_df.iterrows():\n",
    "        jobs[row[\"job_category\"]] = row[\"Weight\"]\n",
    "    feature[\"properties\"][\"jobs\"] = jobs\n",
    "\n",
    "# In the properties section, add the origins values from the origin dataframe\n",
    "# For example, for division 1:\n",
    "# \"properties\": {\"id\": 1, \"name\": \"marterey\", \"origins\": {\"aigle\": 1, moudon: 6, ...}\n",
    "for feature in data[\"features\"]:\n",
    "    division = feature[\"properties\"][\"id\"]\n",
    "    origins = {}\n",
    "    for index, row in origin[division].items():\n",
    "        origins[index] = row\n",
    "    # Take the sum of all origins outside Lausanne from the origin dataframe\n",
    "    origins[\"not_lausanne\"] = int(origin[division].sum() - origin[division][\"lausanne\"])\n",
    "    feature[\"properties\"][\"origins\"] = origins"
   ]
  },
  {
   "cell_type": "code",
   "execution_count": 23,
   "metadata": {},
   "outputs": [
    {
     "data": {
      "text/plain": [
       "array(['administration', 'agricole', 'artisanat', 'commerce',\n",
       "       'construction', 'rente', 'service'], dtype=object)"
      ]
     },
     "execution_count": 23,
     "metadata": {},
     "output_type": "execute_result"
    }
   ],
   "source": [
    "df.job_category.unique()"
   ]
  },
  {
   "cell_type": "code",
   "execution_count": null,
   "metadata": {},
   "outputs": [],
   "source": [
    "# Add a new origin category \"not_lausanne\" to the origin dataframe\n",
    "df_pop[\"chef_origine_class\"] = df_pop[\"chef_origine_class\"].fillna(\"not_lausanne\")"
   ]
  },
  {
   "cell_type": "code",
   "execution_count": 26,
   "metadata": {},
   "outputs": [
    {
     "data": {
      "text/plain": [
       "chef_origine_class\n",
       "lausanne        149\n",
       "not_lausanne    370\n",
       "Name: nom_rue, dtype: int64"
      ]
     },
     "execution_count": 26,
     "metadata": {},
     "output_type": "execute_result"
    }
   ],
   "source": [
    "# Replace all origins that are not Lausanne with \"not_lausanne\"\n",
    "df_pop[\"chef_origine_class\"] = df_pop[\"chef_origine_class\"].apply(lambda x: \"not_lausanne\" if x != \"lausanne\" else x)\n",
    "\n",
    "df_pop.groupby([\"division\", \"chef_origine_class\"]).count()[\"nom_rue\"].reset_index().groupby(\"chef_origine_class\").max()[\"nom_rue\"]"
   ]
  },
  {
   "cell_type": "code",
   "execution_count": 25,
   "metadata": {},
   "outputs": [],
   "source": [
    "# Save the new geojson file\n",
    "with open(\"berney_divisions.geojson\", \"w\") as f:\n",
    "    json.dump(data, f)"
   ]
  },
  {
   "cell_type": "code",
   "execution_count": null,
   "metadata": {},
   "outputs": [],
   "source": []
  }
 ],
 "metadata": {
  "kernelspec": {
   "display_name": "ada",
   "language": "python",
   "name": "python3"
  },
  "language_info": {
   "codemirror_mode": {
    "name": "ipython",
    "version": 3
   },
   "file_extension": ".py",
   "mimetype": "text/x-python",
   "name": "python",
   "nbconvert_exporter": "python",
   "pygments_lexer": "ipython3",
   "version": "3.10.8"
  },
  "orig_nbformat": 4
 },
 "nbformat": 4,
 "nbformat_minor": 2
}
