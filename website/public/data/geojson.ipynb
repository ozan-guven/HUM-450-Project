{
 "cells": [
  {
   "cell_type": "code",
   "execution_count": 5,
   "metadata": {},
   "outputs": [],
   "source": [
    "import json\n",
    "import pandas as pd"
   ]
  },
  {
   "cell_type": "code",
   "execution_count": 7,
   "metadata": {},
   "outputs": [],
   "source": [
    "# Read in the geojson file\n",
    "data = None\n",
    "with open(\"berney_divisions.geojson\", \"r\") as f:\n",
    "    data = json.load(f)\n",
    "\n",
    "# Read website\\public\\data\\bipartite_divisions_type_metiers.csv\n",
    "df = pd.read_csv(\"bipartite_divisions_type_metiers.csv\")\n",
    "\n",
    "# Read data/1832_v4_preprocessed.csv\n",
    "population = pd.read_csv(\"../../../data/1832_v4_preprocessed.csv\")\n",
    "\n",
    "# Get the population of each division\n",
    "population = population.groupby(\"division\").size().to_dict()\n",
    "\n",
    "# In the properties section, add the values\n",
    "# For example, for division 1:\n",
    "# \"properties\": {\"id\": 1, \"name\": \"marterey\", \"jobs\": {\"agricole\": 82, \"artisanat\": 93,...\n",
    "for feature in data[\"features\"]:\n",
    "    division = feature[\"properties\"][\"id\"]\n",
    "    feature[\"properties\"][\"population\"] = population[division]\n",
    "    division_df = df.query(\"division == @division\")\n",
    "    jobs = {}\n",
    "    for index, row in division_df.iterrows():\n",
    "        jobs[row[\"job_category\"]] = row[\"Weight\"]\n",
    "    feature[\"properties\"][\"jobs\"] = jobs\n",
    "    # Add the population"
   ]
  },
  {
   "cell_type": "code",
   "execution_count": 26,
   "metadata": {},
   "outputs": [
    {
     "data": {
      "text/plain": [
       "array(['administration', 'agricole', 'artisanat', 'commerce',\n",
       "       'construction', 'rente', 'service'], dtype=object)"
      ]
     },
     "execution_count": 26,
     "metadata": {},
     "output_type": "execute_result"
    }
   ],
   "source": [
    "df.job_category.unique()"
   ]
  },
  {
   "cell_type": "code",
   "execution_count": 8,
   "metadata": {},
   "outputs": [],
   "source": [
    "# Save the new geojson file\n",
    "with open(\"berney_divisions.geojson\", \"w\") as f:\n",
    "    json.dump(data, f)"
   ]
  }
 ],
 "metadata": {
  "kernelspec": {
   "display_name": "ada",
   "language": "python",
   "name": "python3"
  },
  "language_info": {
   "codemirror_mode": {
    "name": "ipython",
    "version": 3
   },
   "file_extension": ".py",
   "mimetype": "text/x-python",
   "name": "python",
   "nbconvert_exporter": "python",
   "pygments_lexer": "ipython3",
   "version": "3.10.8"
  },
  "orig_nbformat": 4
 },
 "nbformat": 4,
 "nbformat_minor": 2
}
