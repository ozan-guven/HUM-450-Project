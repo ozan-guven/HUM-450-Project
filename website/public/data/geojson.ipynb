{
 "cells": [
  {
   "cell_type": "code",
   "execution_count": 1,
   "metadata": {},
   "outputs": [],
   "source": [
    "import json\n",
    "import pandas as pd"
   ]
  },
  {
   "cell_type": "code",
   "execution_count": 56,
   "metadata": {},
   "outputs": [],
   "source": [
    "# Read in the geojson file\n",
    "data = None\n",
    "with open(\"berney_divisions.geojson\", \"r\") as f:\n",
    "    data = json.load(f)\n",
    "\n",
    "# Read website\\public\\data\\bipartite_divisions_type_metiers.csv\n",
    "df = pd.read_csv(\"bipartite_divisions_type_metiers.csv\")\n",
    "\n",
    "# Read data/1832_v4_preprocessed.csv\n",
    "df_pop = pd.read_csv(\"../../../data/1832_v4_preprocessed.csv\")\n",
    "\n",
    "# Get the population of each division\n",
    "population = df_pop.groupby(\"division\").size().to_dict()\n",
    "\n",
    "# Get the origin category for eachn division\n",
    "origin = df_pop.groupby([\"division\", \"chef_origine_class\"]).count()[\"nom_rue\"]\n",
    "\n",
    "# In the properties section, add the values\n",
    "# For example, for division 1:\n",
    "# \"properties\": {\"id\": 1, \"name\": \"marterey\", \"jobs\": {\"agricole\": 82, \"artisanat\": 93,...\n",
    "for feature in data[\"features\"]:\n",
    "    division = feature[\"properties\"][\"id\"]\n",
    "    # Add the population\n",
    "    feature[\"properties\"][\"population\"] = population[division]\n",
    "    division_df = df.query(\"division == @division\")\n",
    "    jobs = {}\n",
    "    for index, row in division_df.iterrows():\n",
    "        jobs[row[\"job_category\"]] = row[\"Weight\"]\n",
    "    feature[\"properties\"][\"jobs\"] = jobs\n",
    "\n",
    "# In the properties section, add the origins values from the origin dataframe\n",
    "# For example, for division 1:\n",
    "# \"properties\": {\"id\": 1, \"name\": \"marterey\", \"origins\": {\"aigle\": 1, moudon: 6, ...}\n",
    "for feature in data[\"features\"]:\n",
    "    division = feature[\"properties\"][\"id\"]\n",
    "    origins = {}\n",
    "    for index, row in origin[division].items():\n",
    "        origins[index] = row\n",
    "    feature[\"properties\"][\"origins\"] = origins"
   ]
  },
  {
   "cell_type": "code",
   "execution_count": 57,
   "metadata": {},
   "outputs": [
    {
     "data": {
      "text/plain": [
       "array(['administration', 'agricole', 'artisanat', 'commerce',\n",
       "       'construction', 'rente', 'service'], dtype=object)"
      ]
     },
     "execution_count": 57,
     "metadata": {},
     "output_type": "execute_result"
    }
   ],
   "source": [
    "df.job_category.unique()"
   ]
  },
  {
   "cell_type": "code",
   "execution_count": 86,
   "metadata": {},
   "outputs": [
    {
     "data": {
      "text/plain": [
       "chef_origine_class\n",
       "aigle                 8\n",
       "angleterre           14\n",
       "aubonne              10\n",
       "avenches              3\n",
       "cossonay             17\n",
       "echallens            12\n",
       "france               21\n",
       "fribourg              6\n",
       "geneve                6\n",
       "grandson              2\n",
       "italie                3\n",
       "la_vallee            14\n",
       "lausanne            149\n",
       "lavaux               53\n",
       "morges               26\n",
       "moudon               13\n",
       "neuchatel             3\n",
       "nyon                 10\n",
       "orbe                 10\n",
       "oron                 15\n",
       "payerne               4\n",
       "pays_d_enhaut        11\n",
       "rolle                 8\n",
       "suisse_allemande     36\n",
       "vaud                  6\n",
       "vevey                15\n",
       "yverdon              12\n",
       "Name: nom_rue, dtype: int64"
      ]
     },
     "execution_count": 86,
     "metadata": {},
     "output_type": "execute_result"
    }
   ],
   "source": [
    "df_pop.groupby([\"division\", \"chef_origine_class\"]).count()[\"nom_rue\"].reset_index().groupby(\"chef_origine_class\").max()[\"nom_rue\"]"
   ]
  },
  {
   "cell_type": "code",
   "execution_count": 74,
   "metadata": {},
   "outputs": [
    {
     "data": {
      "text/plain": [
       "1"
      ]
     },
     "execution_count": 74,
     "metadata": {},
     "output_type": "execute_result"
    }
   ],
   "source": [
    "# \n",
    "df_pop.groupby([\"division\", \"chef_origine_class\"]).count()[\"nom_rue\"].min()"
   ]
  },
  {
   "cell_type": "code",
   "execution_count": 59,
   "metadata": {},
   "outputs": [],
   "source": [
    "# Save the new geojson file\n",
    "with open(\"berney_divisions.geojson\", \"w\") as f:\n",
    "    json.dump(data, f)"
   ]
  }
 ],
 "metadata": {
  "kernelspec": {
   "display_name": "ada",
   "language": "python",
   "name": "python3"
  },
  "language_info": {
   "codemirror_mode": {
    "name": "ipython",
    "version": 3
   },
   "file_extension": ".py",
   "mimetype": "text/x-python",
   "name": "python",
   "nbconvert_exporter": "python",
   "pygments_lexer": "ipython3",
   "version": "3.10.8"
  },
  "orig_nbformat": 4
 },
 "nbformat": 4,
 "nbformat_minor": 2
}
