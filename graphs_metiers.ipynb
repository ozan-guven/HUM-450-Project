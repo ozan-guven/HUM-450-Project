{
 "cells": [
  {
   "cell_type": "code",
   "execution_count": 86,
   "metadata": {},
   "outputs": [],
   "source": [
    "import numpy as np\n",
    "import pandas as pd\n",
    "import matplotlib.pyplot as plt\n",
    "import networkx as nx\n",
    "from tqdm import tqdm\n",
    "import pickle"
   ]
  },
  {
   "cell_type": "code",
   "execution_count": 87,
   "metadata": {},
   "outputs": [],
   "source": [
    "# Loading data\n",
    "recensement = pd.read_excel(io=\"data/1832_v4.xlsx\", na_values=[\"·\",\"?\"])\n",
    "classes = pd.read_excel(io=\"data/histoire urbaine digitale classification metiers.xlsx\", sheet_name=\"data\",  na_values=\"·\")\n",
    "\n",
    "# Adding the 'chef_vocation_categorie' column\n",
    "classes = classes.rename(columns={\"JOB\": \"chef_vocation_norm_2\"})\n",
    "classes = classes.rename(columns={\"CLASS\": \"chef_vocation_categorie\"})\n",
    "recensement = recensement.merge(classes, on=\"chef_vocation_norm_2\", how=\"outer\")\n",
    "\n",
    "# Split the values on the '/' character\n",
    "split_vals = recensement['chef_vocation_categorie'].str.split('/')\n",
    "\n",
    "# Create a new dataframe from the split values\n",
    "recensement = recensement.assign(chef_vocation_categorie=split_vals).explode('chef_vocation_categorie')"
   ]
  },
  {
   "attachments": {},
   "cell_type": "markdown",
   "metadata": {},
   "source": [
    "Only a subset is taken to make the graph. Comment this line to study the full graph."
   ]
  },
  {
   "cell_type": "code",
   "execution_count": 88,
   "metadata": {},
   "outputs": [],
   "source": [
    "recensement = recensement.query(\"not chef_vocation_categorie.isna()\").head(1000)"
   ]
  },
  {
   "attachments": {},
   "cell_type": "markdown",
   "metadata": {},
   "source": [
    "A `networkx` graph is made. If the file `graphs_metiers.pkl` already exists, the graph is loaded from there. Else it is recalculated (can take up to 5 minutes if the full graph is being used)."
   ]
  },
  {
   "cell_type": "code",
   "execution_count": 89,
   "metadata": {},
   "outputs": [
    {
     "name": "stderr",
     "output_type": "stream",
     "text": [
      "100%|██████████| 1000/1000 [00:19<00:00, 51.18it/s]\n"
     ]
    }
   ],
   "source": [
    "try:\n",
    "    G = pickle.load(file=open(\"graphs_metiers.pkl\", \"rb\"))\n",
    "except:\n",
    "    G = nx.Graph()\n",
    "    for index, row in recensement.iterrows():\n",
    "        G.add_node(\n",
    "            index,\n",
    "            nom_rue=row[\"nom_rue_norm_2\"],\n",
    "            proprietaire=row[\"proprietaire_nom_norm_2\"],\n",
    "            chef_nom=row[\"chef_nom_norm_2\"],\n",
    "            chef_annee_naissance=row[\"chef_annee_naissance\"],\n",
    "            chef_origine=row[\"chef_origine_norm_2\"],\n",
    "            chef_vocation=row[\"chef_vocation_norm_2\"],\n",
    "            chef_vocation_categorie=row[\"chef_vocation_categorie\"],\n",
    "        )\n",
    "    for index1, row1 in tqdm(recensement.iterrows(), total=len(recensement)):\n",
    "        if pd.isna(row1[\"chef_vocation_categorie\"]): continue\n",
    "        for index2, row2 in recensement.iterrows():\n",
    "            if pd.isna(row2[\"chef_vocation_categorie\"]): continue\n",
    "            if index2 < index1: continue\n",
    "\n",
    "            score = 0\n",
    "\n",
    "            #if row1[\"chef_vocation_categorie\"] == row2[\"chef_vocation_categorie\"]: score += 1\n",
    "            if row1[\"chef_vocation_norm_2\"] == row2[\"chef_vocation_norm_2\"]: score += 1\n",
    "            if row1[\"proprietaire_nom_norm_2\"] == row2[\"proprietaire_nom_norm_2\"]: score += 1\n",
    "            if row1[\"chef_origine_norm_2\"] == row2[\"chef_origine_norm_2\"]: score += 1\n",
    "            #if row1[\"nom_rue_norm_2\"] == row2[\"nom_rue_norm_2\"]: score += 1\n",
    "\n",
    "            if score > 0: G.add_edge(index1, index2, weight=score)\n",
    "            \n",
    "    pickle.dump(obj=G, file=open(\"graphs_metiers.pkl\", \"wb\"))"
   ]
  },
  {
   "cell_type": "code",
   "execution_count": null,
   "metadata": {},
   "outputs": [],
   "source": [
    "nx.write_gexf(G, 'graphs_metiers.gexf')"
   ]
  }
 ],
 "metadata": {
  "kernelspec": {
   "display_name": "base",
   "language": "python",
   "name": "python3"
  },
  "language_info": {
   "codemirror_mode": {
    "name": "ipython",
    "version": 3
   },
   "file_extension": ".py",
   "mimetype": "text/x-python",
   "name": "python",
   "nbconvert_exporter": "python",
   "pygments_lexer": "ipython3",
   "version": "3.9.13"
  },
  "orig_nbformat": 4
 },
 "nbformat": 4,
 "nbformat_minor": 2
}
